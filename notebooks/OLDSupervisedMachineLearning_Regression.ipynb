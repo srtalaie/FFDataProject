{
 "cells": [
  {
   "cell_type": "code",
   "execution_count": 1,
   "source": [
    "import os\n",
    "import sys\n",
    "src_dir = os.path.join(os.getcwd(), '..', 'src')\n",
    "sys.path.append(src_dir)\n",
    "\n",
    "from utils import GLOBAL, functions"
   ],
   "outputs": [],
   "metadata": {}
  },
  {
   "cell_type": "code",
   "execution_count": 2,
   "source": [
    "import pandas as pd\n",
    "import numpy as np\n",
    "from sklearn.linear_model import LinearRegression, ElasticNet\n",
    "from sklearn.model_selection import train_test_split\n",
    "from sklearn.metrics import mean_absolute_error"
   ],
   "outputs": [],
   "metadata": {}
  },
  {
   "cell_type": "code",
   "execution_count": 3,
   "source": [
    "df = pd.read_csv(GLOBAL.CLEANED_DATA_2014_2019)"
   ],
   "outputs": [],
   "metadata": {}
  },
  {
   "cell_type": "code",
   "execution_count": 4,
   "source": [
    "df = df.iloc[:, 1:]"
   ],
   "outputs": [],
   "metadata": {}
  },
  {
   "cell_type": "code",
   "execution_count": 5,
   "source": [
    "df = df.groupby(['player_id', 'tm', 'player', 'pos', 'season'], as_index=False)\\\n",
    "    .agg({\n",
    "        'offensive_snapcount': np.sum,\n",
    "        'offensive_snapcount_percentage': np.mean,\n",
    "        'passing_rating': np.mean,\n",
    "        'passing_yds': np.sum,\n",
    "        'passing_td': np.sum,\n",
    "        'passing_att': np.sum,\n",
    "        'receiving_yds': np.sum,\n",
    "        'receiving_td': np.sum,\n",
    "        'receiving_rec': np.sum,\n",
    "        'receiving_tar': np.sum,\n",
    "        'rushing_att': np.sum,\n",
    "        'standard_fantasy_points': np.sum,\n",
    "        'ppr_fantasy_points': np.sum,\n",
    "        'half_ppr_fantasy_points': np.sum\n",
    "})"
   ],
   "outputs": [],
   "metadata": {}
  },
  {
   "cell_type": "code",
   "execution_count": 6,
   "source": [
    "df = df.loc[df['season'] >= 2012]"
   ],
   "outputs": [],
   "metadata": {}
  },
  {
   "cell_type": "code",
   "execution_count": 7,
   "source": [
    "#Change based on scoring format: \"half_ppr\", \"ppr\", or \"standard\"\n",
    "scoring_format = \"half_ppr\"\n",
    "\n",
    "pd.set_option('chained_assignment', None)\n",
    "\n",
    "lag_features = [\n",
    "    'rushing_att', \n",
    "    'receiving_tar', \n",
    "    'offensive_snapcount', \n",
    "    'offensive_snapcount_percentage',\n",
    "    f'{scoring_format}_fantasy_points',\n",
    "    'passing_rating',\n",
    "    'passing_att', \n",
    "    'passing_td'\n",
    "]\n",
    "\n",
    "for lag in range(1, 6):\n",
    "    shifted = df.groupby('player_id').shift(lag)\n",
    "    for column in lag_features:\n",
    "        df[f'lag_{column}_{lag}'] = shifted[column]\n",
    "\n",
    "df = df.fillna(-1)"
   ],
   "outputs": [],
   "metadata": {}
  },
  {
   "cell_type": "code",
   "execution_count": null,
   "source": [],
   "outputs": [],
   "metadata": {}
  }
 ],
 "metadata": {
  "orig_nbformat": 4,
  "language_info": {
   "name": "python",
   "version": "3.7.10",
   "mimetype": "text/x-python",
   "codemirror_mode": {
    "name": "ipython",
    "version": 3
   },
   "pygments_lexer": "ipython3",
   "nbconvert_exporter": "python",
   "file_extension": ".py"
  },
  "kernelspec": {
   "name": "python3",
   "display_name": "Python 3.7.10 64-bit ('FFDataProject': conda)"
  },
  "interpreter": {
   "hash": "0d7f2d61979526d851052c73aa4fecb27e148009fc0cdd501146fb697de57875"
  }
 },
 "nbformat": 4,
 "nbformat_minor": 2
}