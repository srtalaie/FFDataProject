{
 "cells": [
  {
   "cell_type": "code",
   "execution_count": 110,
   "source": [
    "import os\n",
    "import sys\n",
    "src_dir = os.path.join(os.getcwd(), '..', 'src')\n",
    "sys.path.append(src_dir)\n",
    "\n",
    "from utils import GLOBAL, functions"
   ],
   "outputs": [],
   "metadata": {}
  },
  {
   "cell_type": "code",
   "execution_count": 111,
   "source": [
    "import pandas as pd\n",
    "import numpy as np\n",
    "import seaborn as sns\n",
    "\n",
    "from sklearn.linear_model import LinearRegression, ElasticNet\n",
    "from sklearn.model_selection import train_test_split\n",
    "from sklearn.metrics import mean_absolute_error"
   ],
   "outputs": [],
   "metadata": {}
  },
  {
   "cell_type": "code",
   "execution_count": 142,
   "source": [
    "year = 2020\n",
    "\n",
    "data_df = pd.read_csv(GLOBAL.CLEANED_DATA_2014_2019).iloc[:, 1:]\n",
    "\n",
    "WEEKLY_BASE_URL = \"https://raw.githubusercontent.com/fantasydatapros/data/master/weekly/{year}/week{week}.csv\""
   ],
   "outputs": [],
   "metadata": {}
  },
  {
   "cell_type": "code",
   "execution_count": 168,
   "source": [
    "#Get 2020 Data and concat to the main data_df\n",
    "for week in range(1, 18):\n",
    "    weekly_df = pd.read_csv(WEEKLY_BASE_URL.format(year=year, week=week))\n",
    "    weekly_df['season'] = int(year)\n",
    "    weekly_df['week'] = week\n",
    "    data_df = pd.concat([data_df, weekly_df])"
   ],
   "outputs": [],
   "metadata": {}
  },
  {
   "cell_type": "code",
   "execution_count": 114,
   "source": [
    "data_df = data_df.groupby(['player_id', 'tm', 'player', 'pos', 'season'], as_index=False)\\\n",
    "    .agg({\n",
    "        'offensive_snapcount': np.sum,\n",
    "        'offensive_snapcount_percentage': np.mean,\n",
    "        'passing_rating': np.mean,\n",
    "        'passing_yds': np.sum,\n",
    "        'passing_td': np.sum,\n",
    "        'passing_att': np.sum,\n",
    "        'receiving_yds': np.sum,\n",
    "        'receiving_td': np.sum,\n",
    "        'receiving_rec': np.sum,\n",
    "        'receiving_tar': np.sum,\n",
    "        'rushing_att': np.sum,\n",
    "        'standard_fantasy_points': np.sum,\n",
    "        'ppr_fantasy_points': np.sum,\n",
    "        'half_ppr_fantasy_points': np.sum\n",
    "    })"
   ],
   "outputs": [],
   "metadata": {}
  },
  {
   "cell_type": "code",
   "execution_count": 115,
   "source": [
    "#Snap counts started in 2012 so need to filter data to include 2012+\n",
    "\n",
    "data_df = data_df.loc[data_df['season'] >= 2012]"
   ],
   "outputs": [],
   "metadata": {}
  },
  {
   "cell_type": "code",
   "execution_count": 116,
   "source": [
    "pd.set_option('chained_assignment', None)\n",
    "\n",
    "lag_features = [\n",
    "    'rushing_att', \n",
    "    'receiving_tar', \n",
    "    'offensive_snapcount', \n",
    "    'offensive_snapcount_percentage',\n",
    "    'ppr_fantasy_points',\n",
    "    'half_ppr_fantasy_points',\n",
    "    'standard_fantasy_points',\n",
    "    'passing_rating',\n",
    "    'passing_att', \n",
    "    'passing_td'\n",
    "]\n",
    "\n",
    "for lag in range(1, 6):\n",
    "    shifted = data_df.groupby('player_id').shift(lag)\n",
    "\n",
    "    for column in lag_features:\n",
    "        data_df[f'lag_{column}_{lag}'] = shifted[column]\n",
    "\n",
    "data_df = data_df.fillna(-1)"
   ],
   "outputs": [],
   "metadata": {}
  },
  {
   "cell_type": "code",
   "execution_count": 117,
   "source": [
    "#Create position df's\n",
    "wr_df = data_df.loc[(data_df['pos'] == 'WR') & (data_df['season'] < 2020)]\n",
    "rb_df = data_df.loc[(data_df['pos'] == 'RB') & (data_df['season'] < 2020)]\n",
    "qb_df = data_df.loc[(data_df['pos'] == 'QB') & (data_df['season'] < 2020)]\n",
    "te_df = data_df.loc[(data_df['pos'] == 'TE') & (data_df['season'] < 2020)]"
   ],
   "outputs": [],
   "metadata": {}
  },
  {
   "cell_type": "code",
   "execution_count": 118,
   "source": [
    "#Minimum threshold for snap counts to 50\n",
    "wr_df =wr_df.loc[wr_df['lag_offensive_snapcount_1'] > 50]\n",
    "rb_df =rb_df.loc[rb_df['lag_offensive_snapcount_1'] > 50]\n",
    "qb_df =qb_df.loc[qb_df['lag_offensive_snapcount_1'] > 50]\n",
    "te_df =te_df.loc[te_df['lag_offensive_snapcount_1'] > 50]"
   ],
   "outputs": [],
   "metadata": {}
  },
  {
   "cell_type": "markdown",
   "source": [
    "#Wide Receivers"
   ],
   "metadata": {}
  },
  {
   "cell_type": "code",
   "execution_count": 119,
   "source": [
    "#WR Machine Learning with Half PPR\n",
    "scoring_format = 'half_ppr' #Either: 'standard', 'half_ppr', or 'ppr'\n",
    "\n",
    "X_WR = wr_df[[\n",
    "    'lag_receiving_tar_1', 'lag_offensive_snapcount_1',f'lag_{scoring_format}_fantasy_points_1'\n",
    "]].values\n",
    "\n",
    "y_wr = wr_df[f'{scoring_format}_fantasy_points'].values\n",
    "\n",
    "X_WR_train, X_WR_test, y_wr_train, y_wr_test = train_test_split(X_WR, y_wr, test_size=0.2, random_state=10)\n",
    "\n",
    "lr_wr = LinearRegression()\n",
    "\n",
    "lr_wr.fit(X_WR_train, y_wr_train)\n",
    "\n",
    "y_wr_predict = lr_wr.predict(X_WR_test)\n",
    "\n",
    "mean_absolute_error(y_wr_test, y_wr_predict)"
   ],
   "outputs": [
    {
     "output_type": "execute_result",
     "data": {
      "text/plain": [
       "43.346808206718926"
      ]
     },
     "metadata": {},
     "execution_count": 119
    }
   ],
   "metadata": {}
  },
  {
   "cell_type": "code",
   "execution_count": 170,
   "source": [
    "pd.set_option('display.max_rows', None)\n",
    "\n",
    "wr_df_predict = wr_df.loc[\n",
    "    (wr_df['season'] == 2020),\n",
    "    ['player', 'receiving_tar', 'offensive_snapcount', f'{scoring_format}_fantasy_points']\n",
    "]\n",
    "\n",
    "wr_df_predict['predicted_2021'] = lr_wr.predict(\n",
    "    wr_df[['receiving_tar', 'offensive_snapcount', f'{scoring_format}_fantasy_points']]\n",
    ")\n",
    "\n",
    "wr_df_predict.sort_values(by='predicted_2021', ascending=False).head(100)"
   ],
   "outputs": [],
   "metadata": {}
  },
  {
   "cell_type": "code",
   "execution_count": null,
   "source": [],
   "outputs": [],
   "metadata": {}
  }
 ],
 "metadata": {
  "orig_nbformat": 4,
  "language_info": {
   "name": "python",
   "version": "3.7.10",
   "mimetype": "text/x-python",
   "codemirror_mode": {
    "name": "ipython",
    "version": 3
   },
   "pygments_lexer": "ipython3",
   "nbconvert_exporter": "python",
   "file_extension": ".py"
  },
  "kernelspec": {
   "name": "python3",
   "display_name": "Python 3.7.10 64-bit ('FFDataProject': conda)"
  },
  "interpreter": {
   "hash": "0d7f2d61979526d851052c73aa4fecb27e148009fc0cdd501146fb697de57875"
  }
 },
 "nbformat": 4,
 "nbformat_minor": 2
}