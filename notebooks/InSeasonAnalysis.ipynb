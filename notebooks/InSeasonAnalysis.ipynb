{
 "cells": [
  {
   "cell_type": "code",
   "execution_count": null,
   "metadata": {},
   "outputs": [],
   "source": [
    "import os\n",
    "import sys\n",
    "src_dir = os.path.join(os.getcwd(), '..', 'src')\n",
    "sys.path.append(src_dir)\n",
    "\n",
    "from utils import GLOBAL, functions"
   ]
  },
  {
   "cell_type": "code",
   "execution_count": null,
   "metadata": {},
   "outputs": [],
   "source": [
    "import pandas as pd\n",
    "import nflfastpy as nfl\n",
    "import numpy as np\n",
    "from matplotlib import pyplot as plt\n",
    "import seaborn as sns\n",
    "from IPython.display import HTML"
   ]
  },
  {
   "cell_type": "code",
   "execution_count": null,
   "metadata": {},
   "outputs": [],
   "source": [
    "year = 2020\n",
    "\n",
    "pbp_df = nfl.load_pbp_data(year=year)"
   ]
  },
  {
   "cell_type": "code",
   "execution_count": null,
   "metadata": {},
   "outputs": [],
   "source": [
    "# Help find relevant stat column based on search term\n",
    "\n",
    "def search_columns(search_term):\n",
    "    for column in pbp_df.columns:\n",
    "        if search_term in column:\n",
    "            print(column)"
   ]
  },
  {
   "cell_type": "markdown",
   "metadata": {},
   "source": [
    "# Player profiles/team logos"
   ]
  },
  {
   "cell_type": "markdown",
   "metadata": {},
   "source": [
    "TODO when ben decides to fix his shit"
   ]
  },
  {
   "cell_type": "markdown",
   "metadata": {},
   "source": [
    "Player headshots and team logos"
   ]
  },
  {
   "cell_type": "markdown",
   "metadata": {},
   "source": [
    "# Receiving Analysis"
   ]
  },
  {
   "cell_type": "markdown",
   "metadata": {},
   "source": [
    "Visualizing Air Yards"
   ]
  },
  {
   "cell_type": "code",
   "execution_count": null,
   "metadata": {},
   "outputs": [],
   "source": [
    "pass_df = pbp_df.loc[pbp_df['pass_attempt'] == 1, ['receiver_player_id', 'receiver_player_name', 'posteam', 'air_yards']]"
   ]
  },
  {
   "cell_type": "code",
   "execution_count": null,
   "metadata": {},
   "outputs": [],
   "source": [
    "pass_df = pass_df.dropna()"
   ]
  },
  {
   "cell_type": "code",
   "execution_count": null,
   "metadata": {},
   "outputs": [],
   "source": [
    "pass_df.groupby(['receiver_player_id', 'receiver_player_name', 'posteam'], as_index=False)['air_yards'].sum().sort_values(by='air_yards', ascending=False).head(25).reset_index(drop=True)"
   ]
  },
  {
   "cell_type": "code",
   "execution_count": null,
   "metadata": {},
   "outputs": [],
   "source": [
    "top_n_air_yards = pass_df.groupby(['receiver_player_id'], as_index=False)['air_yards'].sum().sort_values(by='air_yards', ascending=False).head(10)['receiver_player_id']\n",
    "\n",
    "top_n_air_yards"
   ]
  },
  {
   "cell_type": "code",
   "execution_count": null,
   "metadata": {},
   "outputs": [],
   "source": [
    "pass_df = pass_df.loc[pass_df['receiver_player_id'].isin(top_n_air_yards)]\n",
    "\n",
    "pass_df.head()"
   ]
  },
  {
   "cell_type": "code",
   "execution_count": null,
   "metadata": {},
   "outputs": [],
   "source": [
    "fig, ax = plt.subplots(figsize=(10, 7))\n",
    "\n",
    "ax.grid(True)\n",
    "\n",
    "for receiver in pass_df['receiver_player_id'].unique():\n",
    "    player_df = pass_df.loc[pass_df['receiver_player_id'] == receiver]\n",
    "    air_yards_array = player_df['air_yards'].values\n",
    "    sns.kdeplot(air_yards_array, ax=ax, label=player_df['receiver_player_name'].values[0])\n",
    "\n",
    "ax.legend();"
   ]
  },
  {
   "cell_type": "markdown",
   "metadata": {},
   "source": [
    "Target Shares per Receiver"
   ]
  },
  {
   "cell_type": "code",
   "execution_count": null,
   "metadata": {},
   "outputs": [],
   "source": [
    "target_df = pbp_df.groupby(['game_id', 'receiver_player_id', 'receiver_player_name', 'posteam'], as_index=False)['pass_attempt'].sum().sort_values(by='pass_attempt', ascending=False)"
   ]
  },
  {
   "cell_type": "code",
   "execution_count": null,
   "metadata": {},
   "outputs": [],
   "source": [
    "target_df.loc[target_df['receiver_player_id'].notnull()].groupby(['game_id', 'posteam'], as_index=False)['pass_attempt'].sum()"
   ]
  },
  {
   "cell_type": "code",
   "execution_count": null,
   "metadata": {},
   "outputs": [],
   "source": [
    "target_share_df = target_df.groupby(['game_id', 'receiver_player_id', 'receiver_player_name', 'posteam'], as_index=False)['pass_attempt'].sum().merge(\n",
    "    target_df.loc[target_df['receiver_player_id'].notnull(), ['game_id', 'posteam', 'pass_attempt']].groupby(['game_id', 'posteam'], as_index=False).sum(), on=['game_id', 'posteam'], suffixes=('_player', '_team')\n",
    ")"
   ]
  },
  {
   "cell_type": "code",
   "execution_count": null,
   "metadata": {},
   "outputs": [],
   "source": [
    "target_share_df['target_share'] = (target_share_df['pass_attempt_player'] / target_share_df['pass_attempt_team']) * 100"
   ]
  },
  {
   "cell_type": "code",
   "execution_count": null,
   "metadata": {},
   "outputs": [],
   "source": [
    "target_share_df = target_share_df.groupby(['receiver_player_id', 'receiver_player_name', 'posteam'], as_index=False)[['target_share', 'pass_attempt_player']].mean().sort_values(by='target_share', ascending=False)"
   ]
  },
  {
   "cell_type": "code",
   "execution_count": null,
   "metadata": {},
   "outputs": [],
   "source": [
    "target_share_df.head()"
   ]
  },
  {
   "cell_type": "markdown",
   "metadata": {},
   "source": [
    "Endzone Targets"
   ]
  },
  {
   "cell_type": "code",
   "execution_count": null,
   "metadata": {},
   "outputs": [],
   "source": [
    "endzone_targets_df = pbp_df.loc[pbp_df['pass_attempt'] == 1, ['yardline_100', 'air_yards', 'pass_touchdown', 'receiver_player_id', 'receiver_player_name', 'posteam']].assign(pass_loc=lambda x: x.yardline_100 - x.air_yards) \n",
    "\n",
    "endzone_targets_df.sort_values(by='pass_loc').head(10)"
   ]
  },
  {
   "cell_type": "code",
   "execution_count": null,
   "metadata": {},
   "outputs": [],
   "source": [
    "endzone_targets_df = endzone_targets_df.dropna()"
   ]
  },
  {
   "cell_type": "code",
   "execution_count": null,
   "metadata": {},
   "outputs": [],
   "source": [
    "endzone_targets_df['endzone_target'] = endzone_targets_df['pass_loc'].apply(lambda x: x==0)"
   ]
  },
  {
   "cell_type": "code",
   "execution_count": null,
   "metadata": {},
   "outputs": [],
   "source": [
    "endzone_targets_df = endzone_targets_df.groupby(['receiver_player_id', 'receiver_player_name'], as_index=False)[['endzone_target', 'pass_touchdown']].sum().sort_values(by='endzone_target', ascending=False)"
   ]
  },
  {
   "cell_type": "code",
   "execution_count": null,
   "metadata": {},
   "outputs": [],
   "source": [
    "sns.regplot(x=endzone_targets_df['endzone_target'], y=endzone_targets_df['pass_touchdown']);"
   ]
  },
  {
   "cell_type": "markdown",
   "metadata": {},
   "source": [
    "# Rushing Analysis"
   ]
  },
  {
   "cell_type": "markdown",
   "metadata": {},
   "source": [
    "Visualizing Carries"
   ]
  },
  {
   "cell_type": "code",
   "execution_count": null,
   "metadata": {},
   "outputs": [],
   "source": [
    "rush_df = pbp_df[['rusher_player_id', 'rusher_player_name', 'yardline_100', 'rush_attempt']]\n",
    "\n",
    "rush_df = rush_df[rush_df['rush_attempt'] == 1]"
   ]
  },
  {
   "cell_type": "code",
   "execution_count": null,
   "metadata": {},
   "outputs": [],
   "source": [
    "player_ids = rush_df['rusher_player_id'].unique()\n",
    "\n",
    "rush_player_df = {\n",
    "    'rusher_player_id': [],\n",
    "    '1 - 10 yardline': [],\n",
    "    '11 - 20 yardline': [],\n",
    "    '21 - 30 yardline': [],\n",
    "    '31 - 40 yardline': [],\n",
    "    '41 - 60 yardline': [],\n",
    "    '61 - 80 yardline': [],\n",
    "    '81 - 100 yardline': []\n",
    "}\n",
    "\n",
    "for player_id in player_ids:\n",
    "    player_df = rush_df.loc[rush_df['rusher_player_id'] == player_id]\n",
    "\n",
    "    rushes = player_df['yardline_100'].tolist()\n",
    "\n",
    "    if len(rushes) < 10:\n",
    "        continue\n",
    "\n",
    "    rush_player_df['rusher_player_id'].append(player_id)\n",
    "\n",
    "    levels = {\n",
    "        '1 - 10 yardline': (-1, 11),\n",
    "        '11 - 20 yardline': (10, 21),\n",
    "        '21 - 30 yardline': (20, 31),\n",
    "        '31 - 40 yardline': (30, 41),\n",
    "        '41 - 60 yardline': (40, 61),\n",
    "        '61 - 80 yardline': (60, 81),\n",
    "        '81 - 100 yardline': (80, 100)\n",
    "    }\n",
    "\n",
    "    for level, (min, max) in levels.items():\n",
    "        num_level_touches = len(list(filter(lambda x: x> min and x < max, rushes)))\n",
    "\n",
    "        rush_player_df[level].append(num_level_touches / len(rushes))\n",
    "\n",
    "carries_dist = pd.DataFrame(rush_player_df)\n",
    "\n",
    "carries_dist.head()"
   ]
  },
  {
   "cell_type": "code",
   "execution_count": null,
   "metadata": {},
   "outputs": [],
   "source": [
    "player_id_table = rush_df.loc[rush_df['rush_attempt'] == 1, ['rusher_player_id', 'rusher_player_name']].groupby(['rusher_player_id'], as_index=False).first()\n",
    "\n",
    "player_id_table.head()"
   ]
  },
  {
   "cell_type": "code",
   "execution_count": null,
   "metadata": {},
   "outputs": [],
   "source": [
    "carries_dist = carries_dist.merge(player_id_table, on='rusher_player_id')\n",
    "\n",
    "carries_dist.head()"
   ]
  },
  {
   "cell_type": "code",
   "execution_count": null,
   "metadata": {},
   "outputs": [],
   "source": [
    "notable_players = pbp_df.loc[pbp_df['rush_attempt'] == 1, ['rusher_player_id', 'rusher_player_name', 'rush_touchdown']]\n",
    "\n",
    "notable_players = notable_players.groupby(['rusher_player_id', 'rusher_player_name'], as_index=False)['rush_touchdown'].sum()\n",
    "\n",
    "notable_players = notable_players.sort_values(by='rush_touchdown', ascending=False).head(30)\n",
    "\n",
    "notable_players = notable_players[['rusher_player_id', 'rusher_player_name']]\n",
    "\n",
    "notable_players"
   ]
  },
  {
   "cell_type": "code",
   "execution_count": null,
   "metadata": {},
   "outputs": [],
   "source": [
    "carries_dist_copy = carries_dist.copy()\n",
    "\n",
    "carries_dist_copy = carries_dist_copy.loc[carries_dist_copy['rusher_player_id'].isin(notable_players['rusher_player_id'])]\n",
    "\n",
    "carries_dist_copy = carries_dist_copy.set_index('rusher_player_name')\n",
    "\n",
    "carries_dist_copy = carries_dist_copy.sort_values(by='1 - 10 yardline')\n",
    "\n",
    "ax= carries_dist_copy.plot.barh(stacked=True, colormap='tab20c')\n",
    "\n",
    "fig = plt.gcf()\n",
    "\n",
    "fig.set_size_inches(15, 10)\n",
    "\n",
    "ax.legend(loc=1)\n",
    "\n",
    "ax.set_title('Where rushers are getting their carries');"
   ]
  },
  {
   "cell_type": "markdown",
   "metadata": {},
   "source": [
    "# Passing Analysis"
   ]
  },
  {
   "cell_type": "markdown",
   "metadata": {},
   "source": [
    "EPA per Dropback"
   ]
  },
  {
   "cell_type": "code",
   "execution_count": null,
   "metadata": {},
   "outputs": [],
   "source": [
    "search_columns('epa')"
   ]
  },
  {
   "cell_type": "code",
   "execution_count": null,
   "metadata": {},
   "outputs": [],
   "source": [
    "epa_df = pbp_df.loc[pbp_df['pass_attempt'] == 1, ['passer_player_id', 'passer_player_name', 'pass_attempt', 'qb_epa']]\n",
    "\n",
    "epa_df = epa_df.groupby(['passer_player_id', 'passer_player_name'], as_index=False).sum()\n",
    "\n",
    "epa_df['epa/dropback'] = epa_df['qb_epa'] / epa_df['pass_attempt']\n",
    "\n",
    "epa_df.loc[epa_df['pass_attempt'] > 50].sort_values(by='epa/dropback', ascending=False).head(10)"
   ]
  },
  {
   "cell_type": "code",
   "execution_count": null,
   "metadata": {},
   "outputs": [],
   "source": [
    "search_columns('scramble')"
   ]
  },
  {
   "cell_type": "code",
   "execution_count": null,
   "metadata": {},
   "outputs": [],
   "source": [
    "scrambles = pbp_df.loc[pbp_df['qb_scramble'] == 1, ['rusher_player_id', 'rush_attempt', 'epa']]\n",
    "\n",
    "scrambles = scrambles.groupby(['rusher_player_id'], as_index=False).sum()\n",
    "\n",
    "scrambles = scrambles.rename(columns={\n",
    "    'rusher_player_id': 'passer_player_id',\n",
    "    'epa': 'scramble_epa',\n",
    "    'rush_attempt': 'scrambles'\n",
    "})\n",
    "\n",
    "epa_df = epa_df.merge(scrambles, on='passer_player_id')\n",
    "\n",
    "epa_df.head()"
   ]
  },
  {
   "cell_type": "code",
   "execution_count": null,
   "metadata": {},
   "outputs": [],
   "source": [
    "epa_df['total_dropbacks'] = epa_df['pass_attempt'] + epa_df['scrambles']\n",
    "\n",
    "epa_df['total_epa'] = epa_df['qb_epa'] + epa_df['scramble_epa']\n",
    "\n",
    "epa_df['true_epa/dropback'] = epa_df['total_epa'] / epa_df['total_dropbacks']"
   ]
  },
  {
   "cell_type": "code",
   "execution_count": null,
   "metadata": {},
   "outputs": [],
   "source": [
    "epa_df = epa_df.loc[epa_df['pass_attempt'] > 50, ['passer_player_name', 'true_epa/dropback']].sort_values(by='true_epa/dropback').reset_index(drop=True)"
   ]
  },
  {
   "cell_type": "code",
   "execution_count": null,
   "metadata": {},
   "outputs": [],
   "source": [
    "plt.style.use('seaborn-darkgrid')\n",
    "\n",
    "ax = epa_df.set_index('passer_player_name').plot.barh()\n",
    "\n",
    "fig = plt.gcf(); fig.set_size_inches(15, 10)"
   ]
  }
 ],
 "metadata": {
  "interpreter": {
   "hash": "470f9cc87c144e2bc280a6fea1ab741fbc727148817f4daaf0eac00c0fbf6704"
  },
  "kernelspec": {
   "display_name": "Python 3.7.10 64-bit ('FFDataProject': conda)",
   "name": "python3"
  },
  "language_info": {
   "codemirror_mode": {
    "name": "ipython",
    "version": 3
   },
   "file_extension": ".py",
   "mimetype": "text/x-python",
   "name": "python",
   "nbconvert_exporter": "python",
   "pygments_lexer": "ipython3",
   "version": "3.7.10"
  },
  "orig_nbformat": 4
 },
 "nbformat": 4,
 "nbformat_minor": 2
}
