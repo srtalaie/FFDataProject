{
 "cells": [
  {
   "cell_type": "markdown",
   "metadata": {},
   "source": [
    "Code from: \n",
    "  https://medium.com/@thiscuriousquest/graphing-nfl-running-back-production-by-age-using-python-part-1-61072802ea0f\n",
    "  https://medium.com/@thiscuriousquest/graphing-nfl-running-back-production-by-age-2-e2fbc35919a4\n",
    "\n",
    "Data from:\n",
    "  https://www.pro-football-reference.com/\n"
   ]
  },
  {
   "cell_type": "code",
   "execution_count": 1,
   "metadata": {},
   "outputs": [],
   "source": [
    "import requests\n",
    "from bs4 import BeautifulSoup as soup\n",
    "import pandas as pd\n",
    "import matplotlib.pyplot as plt\n",
    "import seaborn as sns\n",
    "\n",
    "%matplotlib inline"
   ]
  },
  {
   "cell_type": "code",
   "execution_count": 2,
   "metadata": {},
   "outputs": [],
   "source": [
    "def top_RB_per_year(year, position=\"RB\"):\n",
    "    \"\"\"Helper function to scrape RB stats by year\"\"\"\n",
    "    \n",
    "    #position dictionary with indexing\n",
    "    pos ={\"RB\":['/rushing.htm',   1, 2, [\"RB\", \"rb\",\"\"]],\n",
    "          \"RR\":['/receiving.htm', 0, 1, [\"RB\", \"rb\",\"\"]]}\n",
    "    \n",
    "    #get html\n",
    "    base_url= \"https://www.pro-football-reference.com/years/\"\n",
    "    \n",
    "    html = requests.get(base_url+year+pos[position][0]).text\n",
    "    page = soup(html, features='lxml')\n",
    "    rows = page.findAll('tr')\n",
    "    \n",
    "    #get column headers\n",
    "    cols = [i.getText() for i in rows[pos[position][1]].findAll('th')]    \n",
    "    \n",
    "    #get table of stats\n",
    "    stats = []\n",
    "    stat_rows = rows[pos[position][2]:] \n",
    "    for row in range(len(stat_rows)):\n",
    "        stats.append([i.getText() for i in stat_rows[row].findAll('td')])\n",
    "        \n",
    "    season_stats = pd.DataFrame(stats, columns=cols[1:])\n",
    "    season_stats = season_stats[season_stats[\"Pos\"].isin(pos[position][3])]\n",
    "    \n",
    "    return season_stats"
   ]
  },
  {
   "cell_type": "code",
   "execution_count": 3,
   "metadata": {},
   "outputs": [
    {
     "ename": "IndexError",
     "evalue": "list index out of range",
     "output_type": "error",
     "traceback": [
      "\u001b[1;31m---------------------------------------------------------------------------\u001b[0m",
      "\u001b[1;31mIndexError\u001b[0m                                Traceback (most recent call last)",
      "\u001b[1;32mc:\\Users\\stala\\Desktop\\dev\\FFDataProject\\notebooks\\ProductionByAge.ipynb Cell 4\u001b[0m line \u001b[0;36m1\n\u001b[1;32m----> <a href='vscode-notebook-cell:/c%3A/Users/stala/Desktop/dev/FFDataProject/notebooks/ProductionByAge.ipynb#W3sZmlsZQ%3D%3D?line=0'>1</a>\u001b[0m rush_stats \u001b[39m=\u001b[39m top_RB_per_year(\u001b[39m'\u001b[39;49m\u001b[39m2020\u001b[39;49m\u001b[39m'\u001b[39;49m)\n\u001b[0;32m      <a href='vscode-notebook-cell:/c%3A/Users/stala/Desktop/dev/FFDataProject/notebooks/ProductionByAge.ipynb#W3sZmlsZQ%3D%3D?line=1'>2</a>\u001b[0m rec_stats \u001b[39m=\u001b[39m top_RB_per_year(\u001b[39m'\u001b[39m\u001b[39m2020\u001b[39m\u001b[39m'\u001b[39m, \u001b[39m'\u001b[39m\u001b[39mRR\u001b[39m\u001b[39m'\u001b[39m)\n\u001b[0;32m      <a href='vscode-notebook-cell:/c%3A/Users/stala/Desktop/dev/FFDataProject/notebooks/ProductionByAge.ipynb#W3sZmlsZQ%3D%3D?line=3'>4</a>\u001b[0m \u001b[39mprint\u001b[39m(\u001b[39m\"\u001b[39m\u001b[39m----- Results: -----\u001b[39m\u001b[39m\\n\u001b[39;00m\u001b[39m\"\u001b[39m)\n",
      "\u001b[1;32mc:\\Users\\stala\\Desktop\\dev\\FFDataProject\\notebooks\\ProductionByAge.ipynb Cell 4\u001b[0m line \u001b[0;36m1\n\u001b[0;32m     <a href='vscode-notebook-cell:/c%3A/Users/stala/Desktop/dev/FFDataProject/notebooks/ProductionByAge.ipynb#W3sZmlsZQ%3D%3D?line=12'>13</a>\u001b[0m rows \u001b[39m=\u001b[39m page\u001b[39m.\u001b[39mfindAll(\u001b[39m'\u001b[39m\u001b[39mtr\u001b[39m\u001b[39m'\u001b[39m)\n\u001b[0;32m     <a href='vscode-notebook-cell:/c%3A/Users/stala/Desktop/dev/FFDataProject/notebooks/ProductionByAge.ipynb#W3sZmlsZQ%3D%3D?line=14'>15</a>\u001b[0m \u001b[39m#get column headers\u001b[39;00m\n\u001b[1;32m---> <a href='vscode-notebook-cell:/c%3A/Users/stala/Desktop/dev/FFDataProject/notebooks/ProductionByAge.ipynb#W3sZmlsZQ%3D%3D?line=15'>16</a>\u001b[0m cols \u001b[39m=\u001b[39m [i\u001b[39m.\u001b[39mgetText() \u001b[39mfor\u001b[39;00m i \u001b[39min\u001b[39;00m rows[pos[position][\u001b[39m1\u001b[39;49m]]\u001b[39m.\u001b[39mfindAll(\u001b[39m'\u001b[39m\u001b[39mth\u001b[39m\u001b[39m'\u001b[39m)]    \n\u001b[0;32m     <a href='vscode-notebook-cell:/c%3A/Users/stala/Desktop/dev/FFDataProject/notebooks/ProductionByAge.ipynb#W3sZmlsZQ%3D%3D?line=17'>18</a>\u001b[0m \u001b[39m#get table of stats\u001b[39;00m\n\u001b[0;32m     <a href='vscode-notebook-cell:/c%3A/Users/stala/Desktop/dev/FFDataProject/notebooks/ProductionByAge.ipynb#W3sZmlsZQ%3D%3D?line=18'>19</a>\u001b[0m stats \u001b[39m=\u001b[39m []\n",
      "\u001b[1;31mIndexError\u001b[0m: list index out of range"
     ]
    }
   ],
   "source": [
    "rush_stats = top_RB_per_year('2020')\n",
    "rec_stats = top_RB_per_year('2020', 'RR')\n",
    "\n",
    "print(\"----- Results: -----\\n\")\n",
    "\n",
    "print(rush_stats.iloc[:5, :10])\n",
    "    \n",
    "print(\"\\n\")\n",
    "\n",
    "print(rec_stats.iloc[:5, :10])\n",
    "    \n",
    "print(\"\\n---- End Results ---\")"
   ]
  },
  {
   "cell_type": "code",
   "execution_count": null,
   "metadata": {},
   "outputs": [],
   "source": [
    "def join_rb_season_df(year):\n",
    "    temp_rush = top_RB_per_year(year, 'RB')\n",
    "    temp_rec = top_RB_per_year(year, 'RR')\n",
    "    total_prod = pd.merge(temp_rush, temp_rec, \n",
    "                          on=['Player', 'Tm', 'Age', 'Pos', 'G', 'GS'], \n",
    "                          how='left', suffixes=('_rush', '_rec'))\n",
    "    total_prod['year'] = year\n",
    "    return total_prod"
   ]
  },
  {
   "cell_type": "code",
   "execution_count": null,
   "metadata": {},
   "outputs": [],
   "source": [
    "\n",
    "list_of_rb_dfs = []\n",
    "past_ten_years=[str(i) for i in range(2011,2021)]\n",
    "\n",
    "for year in past_ten_years:\n",
    "    total_prod = join_rb_season_df(year)\n",
    "    list_of_rb_dfs.append(total_prod[:50])\n",
    "\n",
    "for i in list_of_rb_dfs:\n",
    "    print(i.iloc[0:2, 0:8])"
   ]
  },
  {
   "cell_type": "code",
   "execution_count": null,
   "metadata": {},
   "outputs": [],
   "source": [
    "cols = [\"Player\", \"Age\", \"Yds_rush\", \"TD_rush\", \"Fmb_rush\", \n",
    "        \"Rec\", \"Yds_rec\", \"TD_rec\", \"Fmb_rec\", \"year\"]\n",
    "\n",
    "df = (pd.concat(list_of_rb_dfs, ignore_index=True)\n",
    "      .filter(items=cols))\n",
    "df[cols[1:-1]] = df[cols[1:-1]].apply(pd.to_numeric)"
   ]
  },
  {
   "cell_type": "code",
   "execution_count": null,
   "metadata": {},
   "outputs": [],
   "source": [
    "def calc_fant_points(x):\n",
    "    total = ((x['Yds_rush'] *  0.1) + \n",
    "             (x['TD_rush']  *  6) + \n",
    "             (x['Fmb_rush'] * -1) +\n",
    "             (x['Yds_rec']  *  0.1) + \n",
    "             (x['Rec']      *  0.5) +\n",
    "             (x['TD_rec']   *  6) + \n",
    "             (x['Fmb_rec']  * -1))\n",
    "    return total"
   ]
  },
  {
   "cell_type": "code",
   "execution_count": null,
   "metadata": {},
   "outputs": [],
   "source": [
    "df['total_pts'] = df.apply(calc_fant_points, axis=1)\n",
    "print(df.loc[df['year'] == '2020', [\"Player\", \"Age\", \"total_pts\"]][:5])"
   ]
  },
  {
   "cell_type": "code",
   "execution_count": null,
   "metadata": {},
   "outputs": [],
   "source": [
    "age_prod_df = df.groupby(['Age']).mean()\n",
    "age_prod_df.index = pd.to_numeric(age_prod_df.index)\n",
    "\n",
    "print(age_prod_df.iloc[:,[0,1,4,5,7]])"
   ]
  },
  {
   "cell_type": "code",
   "execution_count": null,
   "metadata": {},
   "outputs": [],
   "source": [
    "sns.set_style(\"whitegrid\")\n",
    "sns.set(rc={'figure.figsize':(11.7,8.27)})\n",
    "\n",
    "fig, ax = plt.subplots()\n",
    "sns.lineplot(x=age_prod_df.index, y=age_prod_df['total_pts'], \n",
    "             label='Mean pt production for top 50 RBs')\n",
    "sns.regplot(x=age_prod_df.index, y=age_prod_df['total_pts'], \n",
    "            ci=75, order=2, ax=ax)\n",
    "\n",
    "plt.legend()\n",
    "plt.xlabel('Age')\n",
    "plt.ylabel('Avg point production')\n",
    "plt.title('Age impact on fantasy production for RB')\n",
    "\n",
    "plt.show()"
   ]
  },
  {
   "cell_type": "code",
   "execution_count": 4,
   "metadata": {},
   "outputs": [],
   "source": [
    "def top_pos_per_year(year, position):\n",
    "    \"\"\"Helper function to scrape pos stats by year\"\"\"\n",
    "    \n",
    "    #position dictionary with indexing\n",
    "    pos ={\"QB\":['/passing.htm', 0, 1, [\"QB\", \"qb\", \"\"]],\n",
    "         \"RB\":['/rushing.htm', 1, 2, [\"RB\",\"rb\",\"\"]],\n",
    "         \"RR\":['/receiving.htm', 0, 1, [\"RB\",\"rb\",\"\"]],\n",
    "         \"AR\":['/receiving.htm', 0, 1, [\"RB\",\"rb\",\"WR\",\"wb\",\"TE\",\"te\",\"\"]],\n",
    "         \"WR\":['/receiving.htm', 0, 1, [\"WR\", \"wr\", \"\"]],\n",
    "         \"TE\":['/receiving.htm', 0, 1, [\"TE\", \"te\", \"\"]]}\n",
    "    \n",
    "    #get html\n",
    "    base_url= \"https://www.pro-football-reference.com/years/\"\n",
    "    \n",
    "    html = requests.get(base_url+year+pos[position][0]).text\n",
    "    page = soup(html, features='lxml')\n",
    "    rows = page.findAll('tr')\n",
    "    \n",
    "    #get column headers\n",
    "    cols = [i.getText() for i in rows[pos[position][1]].findAll('th')]    \n",
    "    \n",
    "    #get table of stats\n",
    "    stats = []\n",
    "    stat_rows = rows[pos[position][2]:] \n",
    "    for row in range(len(stat_rows)):\n",
    "        stats.append([i.getText() for i in stat_rows[row].findAll('td')])\n",
    "        \n",
    "    season_stats = pd.DataFrame(stats, columns=cols[1:])\n",
    "    season_stats = season_stats[season_stats[\"Pos\"].isin(pos[position][3])]\n",
    "    \n",
    "    return season_stats"
   ]
  },
  {
   "cell_type": "code",
   "execution_count": 5,
   "metadata": {},
   "outputs": [
    {
     "ename": "IndexError",
     "evalue": "list index out of range",
     "output_type": "error",
     "traceback": [
      "\u001b[1;31m---------------------------------------------------------------------------\u001b[0m",
      "\u001b[1;31mIndexError\u001b[0m                                Traceback (most recent call last)",
      "\u001b[1;32mc:\\Users\\stala\\Desktop\\dev\\FFDataProject\\notebooks\\ProductionByAge.ipynb Cell 13\u001b[0m line \u001b[0;36m5\n\u001b[0;32m      <a href='vscode-notebook-cell:/c%3A/Users/stala/Desktop/dev/FFDataProject/notebooks/ProductionByAge.ipynb#X15sZmlsZQ%3D%3D?line=1'>2</a>\u001b[0m past_ten_years\u001b[39m=\u001b[39m[\u001b[39mstr\u001b[39m(i) \u001b[39mfor\u001b[39;00m i \u001b[39min\u001b[39;00m \u001b[39mrange\u001b[39m(\u001b[39m2011\u001b[39m,\u001b[39m2021\u001b[39m)]\n\u001b[0;32m      <a href='vscode-notebook-cell:/c%3A/Users/stala/Desktop/dev/FFDataProject/notebooks/ProductionByAge.ipynb#X15sZmlsZQ%3D%3D?line=3'>4</a>\u001b[0m \u001b[39mfor\u001b[39;00m year \u001b[39min\u001b[39;00m past_ten_years:\n\u001b[1;32m----> <a href='vscode-notebook-cell:/c%3A/Users/stala/Desktop/dev/FFDataProject/notebooks/ProductionByAge.ipynb#X15sZmlsZQ%3D%3D?line=4'>5</a>\u001b[0m     total_prod \u001b[39m=\u001b[39m top_pos_per_year(year, \u001b[39m\"\u001b[39;49m\u001b[39mWR\u001b[39;49m\u001b[39m\"\u001b[39;49m)\n\u001b[0;32m      <a href='vscode-notebook-cell:/c%3A/Users/stala/Desktop/dev/FFDataProject/notebooks/ProductionByAge.ipynb#X15sZmlsZQ%3D%3D?line=5'>6</a>\u001b[0m     total_prod[\u001b[39m\"\u001b[39m\u001b[39myear\u001b[39m\u001b[39m\"\u001b[39m] \u001b[39m=\u001b[39m year\n\u001b[0;32m      <a href='vscode-notebook-cell:/c%3A/Users/stala/Desktop/dev/FFDataProject/notebooks/ProductionByAge.ipynb#X15sZmlsZQ%3D%3D?line=6'>7</a>\u001b[0m     list_of_wr_dfs\u001b[39m.\u001b[39mappend(total_prod[:\u001b[39m50\u001b[39m])\n",
      "\u001b[1;32mc:\\Users\\stala\\Desktop\\dev\\FFDataProject\\notebooks\\ProductionByAge.ipynb Cell 13\u001b[0m line \u001b[0;36m2\n\u001b[0;32m     <a href='vscode-notebook-cell:/c%3A/Users/stala/Desktop/dev/FFDataProject/notebooks/ProductionByAge.ipynb#X15sZmlsZQ%3D%3D?line=16'>17</a>\u001b[0m rows \u001b[39m=\u001b[39m page\u001b[39m.\u001b[39mfindAll(\u001b[39m'\u001b[39m\u001b[39mtr\u001b[39m\u001b[39m'\u001b[39m)\n\u001b[0;32m     <a href='vscode-notebook-cell:/c%3A/Users/stala/Desktop/dev/FFDataProject/notebooks/ProductionByAge.ipynb#X15sZmlsZQ%3D%3D?line=18'>19</a>\u001b[0m \u001b[39m#get column headers\u001b[39;00m\n\u001b[1;32m---> <a href='vscode-notebook-cell:/c%3A/Users/stala/Desktop/dev/FFDataProject/notebooks/ProductionByAge.ipynb#X15sZmlsZQ%3D%3D?line=19'>20</a>\u001b[0m cols \u001b[39m=\u001b[39m [i\u001b[39m.\u001b[39mgetText() \u001b[39mfor\u001b[39;00m i \u001b[39min\u001b[39;00m rows[pos[position][\u001b[39m1\u001b[39;49m]]\u001b[39m.\u001b[39mfindAll(\u001b[39m'\u001b[39m\u001b[39mth\u001b[39m\u001b[39m'\u001b[39m)]    \n\u001b[0;32m     <a href='vscode-notebook-cell:/c%3A/Users/stala/Desktop/dev/FFDataProject/notebooks/ProductionByAge.ipynb#X15sZmlsZQ%3D%3D?line=21'>22</a>\u001b[0m \u001b[39m#get table of stats\u001b[39;00m\n\u001b[0;32m     <a href='vscode-notebook-cell:/c%3A/Users/stala/Desktop/dev/FFDataProject/notebooks/ProductionByAge.ipynb#X15sZmlsZQ%3D%3D?line=22'>23</a>\u001b[0m stats \u001b[39m=\u001b[39m []\n",
      "\u001b[1;31mIndexError\u001b[0m: list index out of range"
     ]
    }
   ],
   "source": [
    "list_of_wr_dfs = []\n",
    "past_ten_years=[str(i) for i in range(2011,2021)]\n",
    "\n",
    "for year in past_ten_years:\n",
    "    total_prod = top_pos_per_year(year, \"WR\")\n",
    "    total_prod[\"year\"] = year\n",
    "    list_of_wr_dfs.append(total_prod[:50])\n",
    "    \n",
    "cols = [\"Player\", \"Age\", \"Rec\", \"Yds\", \"TD\", \"Fmb\", \"year\"]\n",
    "\n",
    "#drop the second Yds column\n",
    "df = pd.concat(list_of_wr_dfs, ignore_index=True)\n",
    "#df = df.loc[:,~df.columns.duplicated()].filter(items=cols)\n",
    "\n",
    "df[cols[1:-1]] = df[cols[1:-1]].apply(pd.to_numeric)"
   ]
  },
  {
   "cell_type": "code",
   "execution_count": 6,
   "metadata": {},
   "outputs": [
    {
     "ename": "IndexError",
     "evalue": "list index out of range",
     "output_type": "error",
     "traceback": [
      "\u001b[1;31m---------------------------------------------------------------------------\u001b[0m",
      "\u001b[1;31mIndexError\u001b[0m                                Traceback (most recent call last)",
      "\u001b[1;32mc:\\Users\\stala\\Desktop\\dev\\FFDataProject\\notebooks\\ProductionByAge.ipynb Cell 14\u001b[0m line \u001b[0;36m5\n\u001b[0;32m      <a href='vscode-notebook-cell:/c%3A/Users/stala/Desktop/dev/FFDataProject/notebooks/ProductionByAge.ipynb#X16sZmlsZQ%3D%3D?line=1'>2</a>\u001b[0m past_ten_years\u001b[39m=\u001b[39m[\u001b[39mstr\u001b[39m(i) \u001b[39mfor\u001b[39;00m i \u001b[39min\u001b[39;00m \u001b[39mrange\u001b[39m(\u001b[39m2011\u001b[39m,\u001b[39m2021\u001b[39m)]\n\u001b[0;32m      <a href='vscode-notebook-cell:/c%3A/Users/stala/Desktop/dev/FFDataProject/notebooks/ProductionByAge.ipynb#X16sZmlsZQ%3D%3D?line=3'>4</a>\u001b[0m \u001b[39mfor\u001b[39;00m year \u001b[39min\u001b[39;00m past_ten_years:\n\u001b[1;32m----> <a href='vscode-notebook-cell:/c%3A/Users/stala/Desktop/dev/FFDataProject/notebooks/ProductionByAge.ipynb#X16sZmlsZQ%3D%3D?line=4'>5</a>\u001b[0m     total_prod \u001b[39m=\u001b[39m top_pos_per_year(year, \u001b[39m\"\u001b[39;49m\u001b[39mWR\u001b[39;49m\u001b[39m\"\u001b[39;49m)\n\u001b[0;32m      <a href='vscode-notebook-cell:/c%3A/Users/stala/Desktop/dev/FFDataProject/notebooks/ProductionByAge.ipynb#X16sZmlsZQ%3D%3D?line=5'>6</a>\u001b[0m     total_prod[\u001b[39m\"\u001b[39m\u001b[39myear\u001b[39m\u001b[39m\"\u001b[39m] \u001b[39m=\u001b[39m year\n\u001b[0;32m      <a href='vscode-notebook-cell:/c%3A/Users/stala/Desktop/dev/FFDataProject/notebooks/ProductionByAge.ipynb#X16sZmlsZQ%3D%3D?line=6'>7</a>\u001b[0m     list_of_wr_dfs\u001b[39m.\u001b[39mappend(total_prod[:\u001b[39m50\u001b[39m])\n",
      "\u001b[1;32mc:\\Users\\stala\\Desktop\\dev\\FFDataProject\\notebooks\\ProductionByAge.ipynb Cell 14\u001b[0m line \u001b[0;36m2\n\u001b[0;32m     <a href='vscode-notebook-cell:/c%3A/Users/stala/Desktop/dev/FFDataProject/notebooks/ProductionByAge.ipynb#X16sZmlsZQ%3D%3D?line=16'>17</a>\u001b[0m rows \u001b[39m=\u001b[39m page\u001b[39m.\u001b[39mfindAll(\u001b[39m'\u001b[39m\u001b[39mtr\u001b[39m\u001b[39m'\u001b[39m)\n\u001b[0;32m     <a href='vscode-notebook-cell:/c%3A/Users/stala/Desktop/dev/FFDataProject/notebooks/ProductionByAge.ipynb#X16sZmlsZQ%3D%3D?line=18'>19</a>\u001b[0m \u001b[39m#get column headers\u001b[39;00m\n\u001b[1;32m---> <a href='vscode-notebook-cell:/c%3A/Users/stala/Desktop/dev/FFDataProject/notebooks/ProductionByAge.ipynb#X16sZmlsZQ%3D%3D?line=19'>20</a>\u001b[0m cols \u001b[39m=\u001b[39m [i\u001b[39m.\u001b[39mgetText() \u001b[39mfor\u001b[39;00m i \u001b[39min\u001b[39;00m rows[pos[position][\u001b[39m1\u001b[39;49m]]\u001b[39m.\u001b[39mfindAll(\u001b[39m'\u001b[39m\u001b[39mth\u001b[39m\u001b[39m'\u001b[39m)]    \n\u001b[0;32m     <a href='vscode-notebook-cell:/c%3A/Users/stala/Desktop/dev/FFDataProject/notebooks/ProductionByAge.ipynb#X16sZmlsZQ%3D%3D?line=21'>22</a>\u001b[0m \u001b[39m#get table of stats\u001b[39;00m\n\u001b[0;32m     <a href='vscode-notebook-cell:/c%3A/Users/stala/Desktop/dev/FFDataProject/notebooks/ProductionByAge.ipynb#X16sZmlsZQ%3D%3D?line=22'>23</a>\u001b[0m stats \u001b[39m=\u001b[39m []\n",
      "\u001b[1;31mIndexError\u001b[0m: list index out of range"
     ]
    }
   ],
   "source": [
    "list_of_wr_dfs = []\n",
    "past_ten_years=[str(i) for i in range(2011,2021)]\n",
    "\n",
    "for year in past_ten_years:\n",
    "    total_prod = top_pos_per_year(year, \"WR\")\n",
    "    total_prod[\"year\"] = year\n",
    "    list_of_wr_dfs.append(total_prod[:50])\n",
    "    \n",
    "cols = [\"Player\", \"Age\", \"Rec\", \"Yds\", \"TD\", \"Fmb\", \"year\"]\n",
    "\n",
    "#drop the second Yds column\n",
    "df = pd.concat(list_of_wr_dfs, ignore_index=True)\n",
    "#df = df.loc[:,~df.columns.duplicated()].filter(items=cols)\n",
    "\n",
    "df[cols[1:-1]] = df[cols[1:-1]].apply(pd.to_numeric)"
   ]
  },
  {
   "cell_type": "code",
   "execution_count": null,
   "metadata": {},
   "outputs": [],
   "source": [
    "sns.set_style(\"whitegrid\")\n",
    "sns.set(rc={'figure.figsize':(11.7,8.27)})\n",
    "\n",
    "fig, ax = plt.subplots()\n",
    "sns.lineplot(x=age_prod_df.index, y=age_prod_df['total_pts'], \n",
    "             label='Mean pt production for top 50 WRs')\n",
    "sns.regplot(x=age_prod_df.index, y=age_prod_df['total_pts'], \n",
    "            ci=75, order=2, ax=ax)\n",
    "\n",
    "plt.legend()\n",
    "plt.xlabel('Age')\n",
    "plt.ylabel('Avg point production')\n",
    "plt.title('Age impact on fantasy production for WR')\n",
    "\n",
    "plt.show()"
   ]
  }
 ],
 "metadata": {
  "kernelspec": {
   "display_name": "FFCondaEnv",
   "language": "python",
   "name": "python3"
  },
  "language_info": {
   "codemirror_mode": {
    "name": "ipython",
    "version": 3
   },
   "file_extension": ".py",
   "mimetype": "text/x-python",
   "name": "python",
   "nbconvert_exporter": "python",
   "pygments_lexer": "ipython3",
   "version": "3.8.12"
  }
 },
 "nbformat": 4,
 "nbformat_minor": 2
}
