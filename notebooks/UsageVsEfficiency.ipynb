{
 "cells": [
  {
   "cell_type": "code",
   "execution_count": 2,
   "source": [
    "import os\n",
    "import sys\n",
    "src_dir = os.path.join(os.getcwd(), '..', 'src')\n",
    "sys.path.append(src_dir)\n",
    "\n",
    "from utils import GLOBAL, functions"
   ],
   "outputs": [],
   "metadata": {}
  },
  {
   "cell_type": "code",
   "execution_count": 3,
   "source": [
    "import pandas as pd\n",
    "import numpy as np\n",
    "\n",
    "from sklearn.model_selection import train_test_split"
   ],
   "outputs": [],
   "metadata": {}
  },
  {
   "cell_type": "code",
   "execution_count": 4,
   "source": [
    "#Create DFs\n",
    "yearly_stats_df = pd.read_csv(GLOBAL.STATS_2020)"
   ],
   "outputs": [],
   "metadata": {}
  },
  {
   "cell_type": "code",
   "execution_count": 5,
   "source": [
    "#Calculate Fantasy Scoring for all formats, Usage, Usage/G, and Pts/G (by format)\n",
    "\n",
    "#Fantasy score\n",
    "yearly_stats_df['FantasyPointsPPR'] = functions.scoringCalculator(\n",
    "    yearly_stats_df['Rec'], yearly_stats_df['ReceivingYds'], yearly_stats_df['ReceivingTD'], yearly_stats_df['FumblesLost'], yearly_stats_df['RushingYds'], yearly_stats_df['RushingTD'], yearly_stats_df['PassingYds'], yearly_stats_df['PassingTD'], yearly_stats_df['Int'], GLOBAL.PPR_SCORING)\n",
    "\n",
    "yearly_stats_df['FantasyPointsHalfPPR'] = functions.scoringCalculator(\n",
    "    yearly_stats_df['Rec'], yearly_stats_df['ReceivingYds'], yearly_stats_df['ReceivingTD'], yearly_stats_df['FumblesLost'], yearly_stats_df['RushingYds'], yearly_stats_df['RushingTD'], yearly_stats_df['PassingYds'], yearly_stats_df['PassingTD'], yearly_stats_df['Int'], GLOBAL.HALF_PPR_SCORING)\n",
    "\n",
    "yearly_stats_df['FantasyPoints'] = functions.scoringCalculator(\n",
    "    yearly_stats_df['Rec'], yearly_stats_df['ReceivingYds'], yearly_stats_df['ReceivingTD'], yearly_stats_df['FumblesLost'], yearly_stats_df['RushingYds'], yearly_stats_df['RushingTD'], yearly_stats_df['PassingYds'], yearly_stats_df['PassingTD'], yearly_stats_df['Int'], GLOBAL.STANDARD_SCORING)\n",
    "\n",
    "\n",
    "#Usage & Usage/G\n",
    "yearly_stats_df['Usage'] = yearly_stats_df['RushingAtt'] + yearly_stats_df['PassingAtt'] + yearly_stats_df['Tgt']\n",
    "yearly_stats_df['Usage/G'] = (yearly_stats_df['RushingAtt'] + yearly_stats_df['PassingAtt'] + yearly_stats_df['Tgt']) / yearly_stats_df['G']\n",
    "\n",
    "#Pts/G\n",
    "yearly_stats_df['StandardPoints/G'] = yearly_stats_df['FantasyPoints'] / yearly_stats_df['G']\n",
    "yearly_stats_df['HalfPPRPoints/G'] = yearly_stats_df['FantasyPointsHalfPPR'] / yearly_stats_df['G']\n",
    "yearly_stats_df['PPRPoints/G'] = yearly_stats_df['FantasyPointsPPR'] / yearly_stats_df['G']"
   ],
   "outputs": [],
   "metadata": {}
  },
  {
   "cell_type": "code",
   "execution_count": 5,
   "source": [
    "#Create Usage rank & Fantasy Points Rank\n",
    "yearly_stats_df['UsageRank'] = yearly_stats_df['Usage'].rank(ascending=False)\n",
    "\n",
    "yearly_stats_df['StandardFantasyPointsRank'] = yearly_stats_df['FantasyPoints'].rank(ascending=False)\n",
    "yearly_stats_df['HalfPPRFantasyPointsRank'] = yearly_stats_df['FantasyPointsHalfPPR'].rank(ascending=False)\n",
    "yearly_stats_df['PPRFantasyPointsRank'] = yearly_stats_df['FantasyPointsPPR'].rank(ascending=False)"
   ],
   "outputs": [],
   "metadata": {}
  },
  {
   "cell_type": "code",
   "execution_count": 6,
   "source": [
    "#Finding the Correlation based on Usage vs Scoring per format\n",
    "x = yearly_stats_df['Usage']\n",
    "y_std = yearly_stats_df['FantasyPoints']\n",
    "y_half_ppr = yearly_stats_df['FantasyPointsHalfPPR']\n",
    "y_ppr = yearly_stats_df['FantasyPointsPPR']\n",
    "\n",
    "standard_correlation = functions.correlation(x, y_std)\n",
    "half_ppr_correlation = functions.correlation(x, y_half_ppr)\n",
    "ppr_correlation = functions.correlation(x, y_ppr)"
   ],
   "outputs": [],
   "metadata": {}
  },
  {
   "cell_type": "code",
   "execution_count": 7,
   "source": [
    "#Use Machine Learning to test/train data\n",
    "\n",
    "#Can change out Y var with above vars based on scoring format you want to use\n",
    "X = x\n",
    "Y = y_half_ppr\n",
    "\n",
    "x_train, x_test, y_train, y_test = train_test_split(X, Y, test_size=0.2)"
   ],
   "outputs": [],
   "metadata": {}
  },
  {
   "cell_type": "code",
   "execution_count": 8,
   "source": [
    "x_train[:20]"
   ],
   "outputs": [
    {
     "output_type": "execute_result",
     "data": {
      "text/plain": [
       "252     56\n",
       "393     13\n",
       "105    189\n",
       "462     10\n",
       "517      7\n",
       "340     52\n",
       "615      0\n",
       "377     21\n",
       "95     220\n",
       "201     59\n",
       "154     93\n",
       "155    206\n",
       "107    128\n",
       "315     28\n",
       "124    212\n",
       "73      92\n",
       "18     318\n",
       "414      5\n",
       "584      0\n",
       "402     22\n",
       "Name: Usage, dtype: int64"
      ]
     },
     "metadata": {},
     "execution_count": 8
    }
   ],
   "metadata": {}
  },
  {
   "cell_type": "code",
   "execution_count": null,
   "source": [],
   "outputs": [],
   "metadata": {}
  }
 ],
 "metadata": {
  "orig_nbformat": 4,
  "language_info": {
   "name": "python",
   "version": "3.7.10",
   "mimetype": "text/x-python",
   "codemirror_mode": {
    "name": "ipython",
    "version": 3
   },
   "pygments_lexer": "ipython3",
   "nbconvert_exporter": "python",
   "file_extension": ".py"
  },
  "kernelspec": {
   "name": "python3",
   "display_name": "Python 3.7.10 64-bit ('FFDataProject': conda)"
  },
  "interpreter": {
   "hash": "0d7f2d61979526d851052c73aa4fecb27e148009fc0cdd501146fb697de57875"
  }
 },
 "nbformat": 4,
 "nbformat_minor": 2
}