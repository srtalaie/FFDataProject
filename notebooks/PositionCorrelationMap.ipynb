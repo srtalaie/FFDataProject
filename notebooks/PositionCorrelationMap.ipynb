{
 "cells": [
  {
   "cell_type": "code",
   "execution_count": null,
   "metadata": {},
   "outputs": [],
   "source": [
    "import os\n",
    "import sys\n",
    "src_dir = os.path.join(os.getcwd())\n",
    "abs_path = os.path.abspath(os.path.join(src_dir, os.pardir, 'src'))\n",
    "sys.path.append(abs_path)\n",
    "\n",
    "from utils import GLOBAL, functions"
   ]
  },
  {
   "cell_type": "code",
   "execution_count": null,
   "metadata": {},
   "outputs": [],
   "source": [
    "import pandas as pd\n",
    "from matplotlib import pyplot as plt\n",
    "import numpy as np\n",
    "import seaborn as sns\n",
    "sns.set_style('darkgrid')"
   ]
  },
  {
   "cell_type": "code",
   "execution_count": null,
   "metadata": {},
   "outputs": [],
   "source": [
    "df = pd.DataFrame()\n",
    "\n",
    "#Change based on year you are targeting\n",
    "year = 2019\n",
    "\n",
    "#Change based on scoring format\n",
    "scoring_format = 'HalfPPRFantasyPoints'\n",
    "\n",
    "WEEKLY_BASE_URL = \"https://raw.githubusercontent.com/fantasydatapros/data/master/weekly/{year}/week{week}.csv\"\n",
    "\n",
    "for week in range(1, 18):\n",
    "    weekly_df = pd.read_csv(WEEKLY_BASE_URL.format(year=year, week=week))\n",
    "    weekly_df['Week'] = week\n",
    "    df = pd.concat([df, weekly_df])"
   ]
  },
  {
   "cell_type": "code",
   "execution_count": null,
   "metadata": {},
   "outputs": [],
   "source": [
    "df = df.replace({\n",
    "    'Pos': {\n",
    "        'HB': 'RB',\n",
    "        'WR/RS': 'WR',\n",
    "        'WR/PR': 'WR',\n",
    "        'FB/TE': 'TE',\n",
    "        'FB/HB': 'RB'\n",
    "    }\n",
    "})"
   ]
  },
  {
   "cell_type": "code",
   "execution_count": null,
   "metadata": {},
   "outputs": [],
   "source": [
    "skill_positions = ['QB', 'WR', 'TE', 'RB']\n",
    "\n",
    "df = df.loc[df['Pos'].isin(skill_positions)]"
   ]
  },
  {
   "cell_type": "code",
   "execution_count": null,
   "metadata": {},
   "outputs": [],
   "source": [
    "columns = ['Player', 'Tm', 'Pos', 'Week', scoring_format]\n",
    "\n",
    "pos_df = df[columns]\n",
    "\n",
    "pos_df = pos_df.groupby(['Player', 'Tm', 'Pos'], as_index=False).agg({\n",
    "    scoring_format: np.mean\n",
    "})"
   ]
  },
  {
   "cell_type": "code",
   "execution_count": null,
   "metadata": {},
   "outputs": [],
   "source": [
    "#Finding QB1, RB1, RB2, WR1, WR2, WR3, TE1, TE2\n",
    "#Can change values below to target more players, i.e. WR4 or RB3\n",
    "\n",
    "position_map = {\n",
    "    'QB': 1,\n",
    "    'RB': 2,\n",
    "    'WR': 3,\n",
    "    'TE': 2\n",
    "}\n",
    "\n",
    "corr_df = pd.DataFrame()\n",
    "\n",
    "for pos, n_spots in position_map.items():\n",
    "    for n in range(1, n_spots+1):\n",
    "        new_df = functions.get_top_n_player_at_eac_position(pos_df, pos, n, scoring_format)\n",
    "\n",
    "        new_df = new_df.rename({scoring_format: f'{pos}{n}'}, axis=1)\n",
    "\n",
    "        corr_df = pd.concat([corr_df, new_df], axis=1)\n",
    "\n",
    "corr_df = corr_df.drop(['Pos', 'Player', 'Tm'], axis=1)"
   ]
  },
  {
   "cell_type": "code",
   "execution_count": null,
   "metadata": {},
   "outputs": [],
   "source": [
    "plt.figure(figsize=(10, 7))\n",
    "\n",
    "sns.heatmap(corr_df.corr(), annot=True, cmap=sns.diverging_palette(0, 250));"
   ]
  },
  {
   "cell_type": "markdown",
   "metadata": {},
   "source": [
    "Want to be looking for positively correlated pos to stack."
   ]
  }
 ],
 "metadata": {
  "interpreter": {
   "hash": "0d7f2d61979526d851052c73aa4fecb27e148009fc0cdd501146fb697de57875"
  },
  "kernelspec": {
   "display_name": "Python 3.7.10 64-bit ('FFDataProject': conda)",
   "name": "python3"
  },
  "language_info": {
   "codemirror_mode": {
    "name": "ipython",
    "version": 3
   },
   "file_extension": ".py",
   "mimetype": "text/x-python",
   "name": "python",
   "nbconvert_exporter": "python",
   "pygments_lexer": "ipython3",
   "version": "2.7.16"
  },
  "orig_nbformat": 4
 },
 "nbformat": 4,
 "nbformat_minor": 2
}
