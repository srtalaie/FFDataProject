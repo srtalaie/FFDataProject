{
 "cells": [
  {
   "cell_type": "code",
   "execution_count": null,
   "metadata": {},
   "outputs": [],
   "source": [
    "import os\n",
    "import sys\n",
    "src_dir = os.path.join(os.getcwd())\n",
    "abs_path = os.path.abspath(os.path.join(src_dir, os.pardir, 'src'))\n",
    "sys.path.append(abs_path)\n",
    "\n",
    "from utils import GLOBAL"
   ]
  },
  {
   "cell_type": "code",
   "execution_count": null,
   "metadata": {},
   "outputs": [],
   "source": [
    "import pandas as pd"
   ]
  },
  {
   "cell_type": "code",
   "execution_count": null,
   "metadata": {},
   "outputs": [],
   "source": [
    "#Projections for current year\n",
    "proj_df = pd.read_csv(GLOBAL.PROJECTIONS_2023)\n",
    "\n",
    "#ADP for current year and scoring format\n",
    "adp_df = pd.read_csv(GLOBAL.ADP_2023_HALF_PPR)\n",
    "\n",
    "#Either Standard, Half PPR, or PPR. Match with the ADP data above\n",
    "FANTASY_SCORING_FORMAT = \"Half PPR\"\n",
    "\n",
    "#Scoring Weights based on scoring format above\n",
    "scoring_weights = {}\n",
    "if FANTASY_SCORING_FORMAT == \"Standard\":\n",
    "    scoring_weights = GLOBAL.STANDARD_SCORING\n",
    "elif FANTASY_SCORING_FORMAT == \"Half PPR\":\n",
    "    scoring_weights = GLOBAL.HALF_PPR_SCORING\n",
    "elif FANTASY_SCORING_FORMAT == \"PPR\":\n",
    "    scoring_weights = GLOBAL.PPR_SCORING\n",
    "\n",
    "#Sanitize data\n",
    "proj_df = proj_df.replace(',','', regex=True)\n",
    "proj_df = proj_df.replace({'Pos': '0'}, {'Pos': 'QB'})\n",
    "\n",
    "proj_df[['Receptions', 'ReceivingYds', 'ReceivingTD', 'RushingYds', 'RushingTD', 'FumblesLost', 'PassingYds', 'PassingTD', 'Interceptions']] = proj_df[['Receptions', 'ReceivingYds', 'ReceivingTD', 'RushingYds', 'RushingTD', 'FumblesLost', 'PassingYds', 'PassingTD', 'Interceptions']].astype(float)\n",
    "\n",
    "proj_df['FantasyPoints'] = (\n",
    "    (proj_df['Receptions'] * scoring_weights['Receptions']) +\n",
    "    (proj_df['ReceivingYds'] * scoring_weights['ReceivingYds']) +\n",
    "    (proj_df['ReceivingTD'] * scoring_weights['ReceivingTD']) +\n",
    "    (proj_df['RushingYds'] * scoring_weights['RushingYds']) +\n",
    "    (proj_df['RushingTD'] * scoring_weights['RushingTD'] )+\n",
    "    (proj_df['FumblesLost'] * scoring_weights['FL']) +\n",
    "    (proj_df['PassingYds'] * scoring_weights['PassingYds']) +\n",
    "    (proj_df['PassingTD'] * scoring_weights['PassingTD']) +\n",
    "    (proj_df['Interceptions'] * scoring_weights['Int'])\n",
    "    )\n",
    "\n",
    "proj_df[FANTASY_SCORING_FORMAT] = \"\"\n",
    "\n",
    "#VOR dataframe based on scoring format\n",
    "vor_df = proj_df[['Player', 'Pos', 'Team', 'FantasyPoints']]\n",
    "\n",
    "vor_df = vor_df.rename(columns={\n",
    "    FANTASY_SCORING_FORMAT: 'Projected Fantasy Total'\n",
    "})\n"
   ]
  },
  {
   "cell_type": "code",
   "execution_count": null,
   "metadata": {},
   "outputs": [],
   "source": [
    "#Get dataframes of specific pos\n",
    "rb_proj_df = proj_df[proj_df['Pos'] == 'RB']\n",
    "wr_proj_df = proj_df[proj_df['Pos'] == 'WR']\n",
    "te_proj_df = proj_df[proj_df['Pos'] == 'TE']\n",
    "qb_proj_df = proj_df[(proj_df['Pos'] == 'QB') | (proj_df['Pos'] == 0)]"
   ]
  },
  {
   "cell_type": "code",
   "execution_count": null,
   "metadata": {},
   "outputs": [],
   "source": [
    "adp_df['ADP RANK'] = adp_df['Current ADP'].rank()\n",
    "\n",
    "adp_df_cutoff = adp_df[:100]\n",
    "\n",
    "replacement_players = {\n",
    "    'RB': '',\n",
    "    'WR': '',\n",
    "    'TE': '',\n",
    "    'QB': ''\n",
    "}\n"
   ]
  },
  {
   "cell_type": "code",
   "execution_count": null,
   "metadata": {},
   "outputs": [],
   "source": [
    "for _, row in adp_df_cutoff.iterrows():\n",
    "    position = row['Pos'][:2]\n",
    "    player = row['Player']\n",
    "\n",
    "    if position in replacement_players:\n",
    "        replacement_players[position] = player"
   ]
  },
  {
   "cell_type": "code",
   "execution_count": null,
   "metadata": {},
   "outputs": [],
   "source": [
    "replacement_values = {}\n",
    "\n",
    "for position, player_name in replacement_players.items():\n",
    "    player = vor_df.loc[vor_df['Player'] == player_name]\n",
    "    replacement_values[position] = player['FantasyPoints'].tolist()[0]"
   ]
  },
  {
   "cell_type": "code",
   "execution_count": null,
   "metadata": {},
   "outputs": [],
   "source": [
    "pd.set_option('chained_assignment', None)\n",
    "pd.set_option('display.max_rows', None)\n",
    "\n",
    "vor_df = vor_df.loc[vor_df['Pos'].isin(['QB', 'RB', 'WR', 'TE'])]\n",
    "\n",
    "vor_df['VOR'] = vor_df.apply(\n",
    "    lambda row: row['FantasyPoints'] - replacement_values.get(row['Pos']), axis=1\n",
    ")"
   ]
  },
  {
   "cell_type": "code",
   "execution_count": null,
   "metadata": {},
   "outputs": [],
   "source": [
    "vor_df['VOR Rank'] = vor_df['VOR'].rank(ascending=False)\n",
    "# vor_df.sort_values(by='VOR Rank')"
   ]
  },
  {
   "cell_type": "code",
   "execution_count": null,
   "metadata": {},
   "outputs": [],
   "source": [
    "min_vor = vor_df['VOR'].min()\n",
    "max_vor = vor_df['VOR'].max()\n",
    "vor_range = max_vor - min_vor\n",
    "\n",
    "vor_df['VOR'] = vor_df['VOR'].apply(\n",
    "    lambda x: (x - min_vor) / vor_range\n",
    ")"
   ]
  },
  {
   "cell_type": "code",
   "execution_count": null,
   "metadata": {},
   "outputs": [],
   "source": [
    "vor_df = vor_df.sort_values(by= 'VOR', ascending=False)"
   ]
  },
  {
   "cell_type": "code",
   "execution_count": null,
   "metadata": {},
   "outputs": [],
   "source": [
    "vor_df = vor_df.rename({\n",
    "    'VOR': 'Value',\n",
    "    'VOR Rank': 'Value Rank',\n",
    "    'Tm': 'Team'\n",
    "}, axis=1)"
   ]
  },
  {
   "cell_type": "code",
   "execution_count": null,
   "metadata": {},
   "outputs": [],
   "source": [
    "adp_df.columns"
   ]
  },
  {
   "cell_type": "code",
   "execution_count": null,
   "metadata": {},
   "outputs": [],
   "source": [
    "# adp_df = adp_df[['Player', 'Pos', 'ADP Rank']]\n",
    "\n",
    "# adp_df = adp_df.rename(columns={\n",
    "#     'Pos': 'Pos Rank',\n",
    "#     'ADP RANK': 'ADP Rank'\n",
    "# })"
   ]
  },
  {
   "cell_type": "code",
   "execution_count": null,
   "metadata": {},
   "outputs": [],
   "source": [
    "# adp_df['Pos'] = adp_df.apply(\n",
    "#     lambda row: str(row['Pos Rank'])[:2]\n",
    "# , axis=1)\n",
    "\n",
    "# adp_df.head()"
   ]
  },
  {
   "cell_type": "code",
   "execution_count": null,
   "metadata": {},
   "outputs": [],
   "source": [
    "final_df = vor_df.merge(adp_df, how='left', on=['Player', 'Pos'])"
   ]
  },
  {
   "cell_type": "code",
   "execution_count": null,
   "metadata": {},
   "outputs": [],
   "source": [
    "final_df['Diff in ADP and Value'] = final_df['ADP Rank'] - final_df['Value Rank']\n",
    "final_df = final_df.dropna()"
   ]
  },
  {
   "cell_type": "code",
   "execution_count": null,
   "metadata": {},
   "outputs": [],
   "source": [
    "# Number of Teams * Spots on Each Team\n",
    "draft_pool = final_df.sort_values(by='ADP Rank')[:196]"
   ]
  },
  {
   "cell_type": "code",
   "execution_count": null,
   "metadata": {},
   "outputs": [],
   "source": [
    "rb_df_draft_pool = draft_pool.loc[draft_pool['Pos'] == 'RB']\n",
    "wr_df_draft_pool = draft_pool.loc[draft_pool['Pos'] == 'WR']\n",
    "te_df_draft_pool = draft_pool.loc[draft_pool['Pos'] == 'TE']\n",
    "qb_df_draft_pool = draft_pool.loc[draft_pool['Pos'] == 'QB']"
   ]
  },
  {
   "cell_type": "markdown",
   "metadata": {},
   "source": [
    "#Sleepers and Over Valued by Pos."
   ]
  },
  {
   "cell_type": "markdown",
   "metadata": {},
   "source": [
    "RBs"
   ]
  },
  {
   "cell_type": "markdown",
   "metadata": {},
   "source": [
    "Sleepers"
   ]
  },
  {
   "cell_type": "code",
   "execution_count": null,
   "metadata": {},
   "outputs": [],
   "source": [
    "rb_df_draft_pool.sort_values(by='Diff in ADP and Value', ascending=False).head(10)"
   ]
  },
  {
   "cell_type": "markdown",
   "metadata": {},
   "source": [
    "Over Valued"
   ]
  },
  {
   "cell_type": "code",
   "execution_count": null,
   "metadata": {},
   "outputs": [],
   "source": [
    "rb_df_draft_pool.sort_values(by='Diff in ADP and Value', ascending=True).head(10)"
   ]
  },
  {
   "cell_type": "markdown",
   "metadata": {},
   "source": [
    "WRs"
   ]
  },
  {
   "cell_type": "markdown",
   "metadata": {},
   "source": [
    "Sleepers"
   ]
  },
  {
   "cell_type": "code",
   "execution_count": null,
   "metadata": {},
   "outputs": [],
   "source": [
    "wr_df_draft_pool.sort_values(by='Diff in ADP and Value', ascending=False).head(10)"
   ]
  },
  {
   "cell_type": "markdown",
   "metadata": {},
   "source": [
    "Over Valued"
   ]
  },
  {
   "cell_type": "code",
   "execution_count": null,
   "metadata": {},
   "outputs": [],
   "source": [
    "wr_df_draft_pool.sort_values(by='Diff in ADP and Value', ascending=True).head(10)"
   ]
  },
  {
   "cell_type": "markdown",
   "metadata": {},
   "source": [
    "TEs"
   ]
  },
  {
   "cell_type": "markdown",
   "metadata": {},
   "source": [
    "Sleepers"
   ]
  },
  {
   "cell_type": "code",
   "execution_count": null,
   "metadata": {},
   "outputs": [],
   "source": [
    "te_df_draft_pool.sort_values(by='Diff in ADP and Value', ascending=False).head(10)"
   ]
  },
  {
   "cell_type": "markdown",
   "metadata": {},
   "source": [
    "Over Valued"
   ]
  },
  {
   "cell_type": "code",
   "execution_count": null,
   "metadata": {},
   "outputs": [],
   "source": [
    "te_df_draft_pool.sort_values(by='Diff in ADP and Value', ascending=True).head(10)"
   ]
  },
  {
   "cell_type": "markdown",
   "metadata": {},
   "source": [
    "QBs"
   ]
  },
  {
   "cell_type": "markdown",
   "metadata": {},
   "source": [
    "Sleepers"
   ]
  },
  {
   "cell_type": "code",
   "execution_count": null,
   "metadata": {},
   "outputs": [],
   "source": [
    "qb_df_draft_pool.sort_values(by='Diff in ADP and Value', ascending=False).head(10)"
   ]
  },
  {
   "cell_type": "markdown",
   "metadata": {},
   "source": [
    "Over Valued"
   ]
  },
  {
   "cell_type": "code",
   "execution_count": null,
   "metadata": {},
   "outputs": [],
   "source": [
    "qb_df_draft_pool.sort_values(by='Diff in ADP and Value', ascending=True).head(10)"
   ]
  },
  {
   "cell_type": "code",
   "execution_count": null,
   "metadata": {},
   "outputs": [],
   "source": [
    "final_df = final_df[['Player', 'Team', 'Value', 'Value Rank', 'ADP Rank', 'Diff in ADP and Value', 'FantasyPoints']]"
   ]
  },
  {
   "cell_type": "code",
   "execution_count": null,
   "metadata": {},
   "outputs": [],
   "source": [
    "normalized_vor_df = final_df\n",
    "\n",
    "normalized_vor_df['Value'] = normalized_vor_df['Value'].apply(lambda x: (x - normalized_vor_df['Value'].min()) / (normalized_vor_df['Value'].max() - normalized_vor_df['Value'].min()))\n",
    "\n",
    "normalized_vor_df = normalized_vor_df.sort_values(by='Value Rank')\n",
    "normalized_vor_df.head(100)"
   ]
  },
  {
   "cell_type": "code",
   "execution_count": null,
   "metadata": {},
   "outputs": [],
   "source": [
    "final_df.to_csv(r'../FinalData/ValueOverReplacement_{}.csv'.format(FANTASY_SCORING_FORMAT), encoding='utf-8', index=False);"
   ]
  }
 ],
 "metadata": {
  "interpreter": {
   "hash": "0d7f2d61979526d851052c73aa4fecb27e148009fc0cdd501146fb697de57875"
  },
  "kernelspec": {
   "display_name": "Python 3.7.10 64-bit ('FFDataProject': conda)",
   "name": "python3"
  },
  "language_info": {
   "codemirror_mode": {
    "name": "ipython",
    "version": 3
   },
   "file_extension": ".py",
   "mimetype": "text/x-python",
   "name": "python",
   "nbconvert_exporter": "python",
   "pygments_lexer": "ipython3",
   "version": "3.10.4"
  },
  "orig_nbformat": 4
 },
 "nbformat": 4,
 "nbformat_minor": 2
}
