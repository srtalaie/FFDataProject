{
 "cells": [
  {
   "cell_type": "code",
   "execution_count": 1,
   "metadata": {},
   "outputs": [],
   "source": [
    "import os\n",
    "import sys\n",
    "src_dir = os.path.join(os.getcwd())\n",
    "abs_path = os.path.abspath(os.path.join(src_dir, os.pardir, 'src'))\n",
    "sys.path.append(abs_path)\n",
    "\n",
    "from utils import GLOBAL, functions"
   ]
  },
  {
   "cell_type": "code",
   "execution_count": 2,
   "metadata": {},
   "outputs": [],
   "source": [
    "import pandas as pd\n",
    "import numpy as np\n",
    "from sklearn.linear_model import LinearRegression, ElasticNet\n",
    "from sklearn.model_selection import train_test_split\n",
    "from sklearn.metrics import mean_absolute_error"
   ]
  },
  {
   "cell_type": "code",
   "execution_count": 3,
   "metadata": {},
   "outputs": [],
   "source": [
    "df = pd.read_csv(GLOBAL.CLEANED_DATA_2014_2019)"
   ]
  },
  {
   "cell_type": "code",
   "execution_count": 4,
   "metadata": {},
   "outputs": [],
   "source": [
    "df = df.iloc[:, 1:]"
   ]
  },
  {
   "cell_type": "code",
   "execution_count": 5,
   "metadata": {},
   "outputs": [],
   "source": [
    "df = df.groupby(['player_id', 'tm', 'player', 'pos', 'season'], as_index=False)\\\n",
    "    .agg({\n",
    "        'offensive_snapcount': np.sum,\n",
    "        'offensive_snapcount_percentage': np.mean,\n",
    "        'passing_rating': np.mean,\n",
    "        'passing_yds': np.sum,\n",
    "        'passing_td': np.sum,\n",
    "        'passing_att': np.sum,\n",
    "        'receiving_yds': np.sum,\n",
    "        'receiving_td': np.sum,\n",
    "        'receiving_rec': np.sum,\n",
    "        'receiving_tar': np.sum,\n",
    "        'rushing_att': np.sum,\n",
    "        'standard_fantasy_points': np.sum,\n",
    "        'ppr_fantasy_points': np.sum,\n",
    "        'half_ppr_fantasy_points': np.sum\n",
    "})"
   ]
  },
  {
   "cell_type": "code",
   "execution_count": 6,
   "metadata": {},
   "outputs": [],
   "source": [
    "df = df.loc[df['season'] >= 2012]"
   ]
  },
  {
   "cell_type": "code",
   "execution_count": 7,
   "metadata": {},
   "outputs": [],
   "source": [
    "#Change based on scoring format: \"half_ppr\", \"ppr\", or \"standard\"\n",
    "scoring_format = \"half_ppr\"\n",
    "\n",
    "pd.set_option('chained_assignment', None)\n",
    "\n",
    "lag_features = [\n",
    "    'rushing_att', \n",
    "    'receiving_tar', \n",
    "    'offensive_snapcount', \n",
    "    'offensive_snapcount_percentage',\n",
    "    f'{scoring_format}_fantasy_points',\n",
    "    'passing_rating',\n",
    "    'passing_att', \n",
    "    'passing_td'\n",
    "]\n",
    "\n",
    "for lag in range(1, 6):\n",
    "    shifted = df.groupby('player_id').shift(lag)\n",
    "    for column in lag_features:\n",
    "        df[f'lag_{column}_{lag}'] = shifted[column]\n",
    "\n",
    "df = df.fillna(-1)"
   ]
  },
  {
   "cell_type": "code",
   "execution_count": 10,
   "metadata": {},
   "outputs": [],
   "source": [
    "#Serparate by pos\n",
    "wr_df = df.loc[df['pos'] == 'WR']\n",
    "rb_df = df.loc[df['pos'] == 'RB']\n",
    "te_df = df.loc[df['pos'] == 'TE']\n",
    "qb_df = df.loc[df['pos'] == 'QB']"
   ]
  },
  {
   "cell_type": "code",
   "execution_count": null,
   "metadata": {},
   "outputs": [],
   "source": [
    "#Correlation matrices to find best correlation for fantasy points, change based on [pos]_df for different pos\n",
    "wr_df.corr()[[f'{scoring_format}_fantasy_points']]"
   ]
  },
  {
   "cell_type": "markdown",
   "metadata": {},
   "source": [
    "Wide Receivers"
   ]
  },
  {
   "cell_type": "code",
   "execution_count": 16,
   "metadata": {},
   "outputs": [],
   "source": [
    "#Use 2014-108 to train model\n",
    "wr_train_df = wr_df.loc[(wr_df['season'] < 2019) & (wr_df['lag_offensive_snapcount_1'] > 50)]"
   ]
  },
  {
   "cell_type": "code",
   "execution_count": 17,
   "metadata": {},
   "outputs": [],
   "source": [
    "WR_X = wr_train_df[[\n",
    "    'lag_receiving_tar_1', 'lag_offensive_snapcount_1', f'lag_{scoring_format}_fantasy_points_1'\n",
    "]].values"
   ]
  },
  {
   "cell_type": "code",
   "execution_count": 19,
   "metadata": {},
   "outputs": [],
   "source": [
    "wr_y = wr_train_df[f'{scoring_format}_fantasy_points'].values"
   ]
  },
  {
   "cell_type": "code",
   "execution_count": 23,
   "metadata": {},
   "outputs": [],
   "source": [
    "WR_X_train, WR_X_test, wr_y_train, wr_y_test = train_test_split(WR_X, wr_y, test_size=0.2, random_state=10)\n",
    "\n",
    "wr_lr = LinearRegression()\n",
    "\n",
    "wr_lr.fit(WR_X_train, wr_y_train);"
   ]
  },
  {
   "cell_type": "code",
   "execution_count": 25,
   "metadata": {},
   "outputs": [],
   "source": [
    "wr_y_predict = wr_lr.predict(WR_X_test)"
   ]
  },
  {
   "cell_type": "code",
   "execution_count": 26,
   "metadata": {},
   "outputs": [
    {
     "data": {
      "text/plain": [
       "39.62662611510035"
      ]
     },
     "execution_count": 26,
     "metadata": {},
     "output_type": "execute_result"
    }
   ],
   "source": [
    "mean_absolute_error(wr_y_test, wr_y_predict)"
   ]
  },
  {
   "cell_type": "code",
   "execution_count": null,
   "metadata": {},
   "outputs": [],
   "source": [
    "pd.set_option('display.max_rows', None)\n",
    "\n",
    "wr_df_predict = wr_df.loc[\n",
    "    (wr_df['season'] == 2019) & (wr_df['offensive_snapcount'] > 50), ['player', 'receiving_tar', 'offensive_snapcount', f'{scoring_format}_fantasy_points']\n",
    "]\n",
    "\n",
    "wr_df_predict[f'{scoring_format}_predicted_2020'] = wr_lr.predict(wr_df_predict[['receiving_tar', 'offensive_snapcount', f'{scoring_format}_fantasy_points']].values)\n",
    "\n",
    "wr_df_predict.sort_values(by=f'{scoring_format}_predicted_2020', ascending=False).head(100)"
   ]
  }
 ],
 "metadata": {
  "interpreter": {
   "hash": "0d7f2d61979526d851052c73aa4fecb27e148009fc0cdd501146fb697de57875"
  },
  "kernelspec": {
   "display_name": "Python 3.7.10 64-bit ('FFDataProject': conda)",
   "name": "python3"
  },
  "language_info": {
   "codemirror_mode": {
    "name": "ipython",
    "version": 3
   },
   "file_extension": ".py",
   "mimetype": "text/x-python",
   "name": "python",
   "nbconvert_exporter": "python",
   "pygments_lexer": "ipython3",
   "version": "3.7.10"
  },
  "orig_nbformat": 4
 },
 "nbformat": 4,
 "nbformat_minor": 2
}
