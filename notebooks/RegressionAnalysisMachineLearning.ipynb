{
 "cells": [
  {
   "cell_type": "code",
   "execution_count": null,
   "metadata": {},
   "outputs": [],
   "source": [
    "import os\n",
    "import sys\n",
    "src_dir = os.path.join(os.getcwd(), '..', 'src')\n",
    "sys.path.append(src_dir)\n",
    "\n",
    "from utils import GLOBAL, functions"
   ]
  },
  {
   "cell_type": "code",
   "execution_count": null,
   "metadata": {},
   "outputs": [],
   "source": [
    "import pandas as pd\n",
    "from sklearn.linear_model import LinearRegression\n",
    "import nflfastpy as nfl\n",
    "from sklearn.metrics import mean_absolute_error"
   ]
  },
  {
   "cell_type": "code",
   "execution_count": null,
   "metadata": {},
   "outputs": [],
   "source": [
    "SNAPCOUNT_URL = 'https://raw.githubusercontent.com/fantasydatapros/data/master/snapcounts/{year}.csv'\n",
    "YEARLY_STATS_URL = 'https://raw.githubusercontent.com/fantasydatapros/data/master/yearly/{year}.csv'\n",
    "ROSTER_URL = 'https://raw.githubusercontent.com/nflverse/nflfastR-roster/master/data/seasons/roster_{year}.csv'\n",
    "#this is as far back as snapcount data goes\n",
    "YEAR_START = 2013\n",
    "YEAR_END = 2020\n",
    "\n",
    "pd.set_option('display.max_columns', 100)"
   ]
  },
  {
   "cell_type": "code",
   "execution_count": null,
   "metadata": {},
   "outputs": [],
   "source": [
    "#snapcount data\n",
    "snapcount_data = pd.DataFrame()\n",
    "for year in range(YEAR_START, YEAR_END+1):\n",
    "  yearly_snapcount_data = pd.read_csv(SNAPCOUNT_URL.format(year=year))\n",
    "  yearly_snapcount_data['Season'] = year\n",
    "  column_names = yearly_snapcount_data.columns.tolist()\n",
    "  column_names.pop()\n",
    "  column_names.insert(0, 'Season')\n",
    "  yearly_snapcount_data = yearly_snapcount_data[column_names]\n",
    "  snapcount_data = pd.concat([snapcount_data, yearly_snapcount_data])\n",
    "\n",
    "# snapcount_data = snapcount_data.loc[snapcount_data['Pos'] == 'WR']\n",
    "snapcount_data.iloc[0, :]"
   ]
  },
  {
   "cell_type": "code",
   "execution_count": null,
   "metadata": {},
   "outputs": [],
   "source": [
    "#yearly stats\n",
    "yearly_data_df = pd.DataFrame()\n",
    "for year in range (YEAR_START, YEAR_END+1):\n",
    "  yearly_data = pd.read_csv(YEARLY_STATS_URL.format(year=year))\n",
    "  yearly_data['Season'] = year\n",
    "  column_names = yearly_data.columns.tolist()\n",
    "  column_names.pop()\n",
    "  column_names.insert(0, 'Season')\n",
    "  yearly_data = yearly_data[column_names]\n",
    "  yearly_data_df = pd.concat([yearly_data_df, yearly_data])\n",
    "\n",
    "yearly_data_df = yearly_data_df.drop('Unnamed: 0', axis=1)\n",
    "# yearly_data_df = yearly_data_df.loc[yearly_data_df['Pos'] == 'WR']\n",
    "yearly_data_df.iloc[0, :]"
   ]
  },
  {
   "cell_type": "code",
   "execution_count": null,
   "metadata": {},
   "outputs": [],
   "source": [
    "#roster data\n",
    "#yearly stats\n",
    "roster_data_df = pd.DataFrame()\n",
    "for year in range (YEAR_START, YEAR_END+1):\n",
    "  roster_data = pd.read_csv(ROSTER_URL.format(year=year), index_col=0)\n",
    "  roster_data['Season'] = year\n",
    "  column_names = roster_data.columns.tolist()\n",
    "  column_names.pop(); column_names.insert(0, 'Season')\n",
    "  roster_data = roster_data[column_names]\n",
    "  roster_data_df = pd.concat([roster_data_df, roster_data])\n",
    "\n",
    "roster_data_df.iloc[0, :]"
   ]
  },
  {
   "cell_type": "code",
   "execution_count": null,
   "metadata": {},
   "outputs": [],
   "source": [
    "#air yards: new feature!\n",
    "pbp_data_df = pd.DataFrame()\n",
    "for year in range(YEAR_START, YEAR_END+1):\n",
    "  yearly_pbp_df = nfl.load_pbp_data(year)\n",
    "  #grouping by player id\n",
    "  yearly_pbp_df = yearly_pbp_df.loc[yearly_pbp_df['pass_attempt'] == 1]\n",
    "  yearly_pbp_df = yearly_pbp_df.groupby('receiver_id', as_index=False)['air_yards'].sum()\n",
    "  yearly_pbp_df['Season'] = year\n",
    "  column_names = yearly_pbp_df.columns.tolist()\n",
    "  column_names.pop(); column_names.insert(0, 'Season')\n",
    "  yearly_pbp_df = yearly_pbp_df[column_names]\n",
    "  pbp_data_df = pd.concat([yearly_pbp_df, pbp_data_df])\n",
    "\n",
    "pbp_data_df.head()"
   ]
  },
  {
   "cell_type": "code",
   "execution_count": null,
   "metadata": {},
   "outputs": [],
   "source": [
    "#Positiona cleaning\n",
    "roster_data_df = roster_data_df.replace({\n",
    "    'Pos': {\n",
    "        'HB': 'RB',\n",
    "        'WR/RS': 'WR',\n",
    "        'WR/PR': 'WR',\n",
    "        'FB/TE': 'TE',\n",
    "        'FB/HB': 'RB'\n",
    "    }\n",
    "})"
   ]
  },
  {
   "cell_type": "code",
   "execution_count": null,
   "metadata": {},
   "outputs": [],
   "source": [
    "#merging all of this data together\n",
    "#first ensuring that we don't have duplicate names at the wr position at any season\n",
    "def remove_suffix(full_name):\n",
    "  return ' '.join(full_name.split()[0:2])\n",
    "\n",
    "roster_data_wrs = roster_data_df.loc[roster_data_df['position'] == 'WR', ['Season', 'full_name', 'gsis_id']]\n",
    "\n",
    "roster_data_rbs = roster_data_df.loc[roster_data_df['position'] == 'RB', ['Season', 'full_name', 'gsis_id']]\n",
    "\n",
    "roster_data_tes = roster_data_df.loc[roster_data_df['position'] == 'TE', ['Season', 'full_name', 'gsis_id']]\n",
    "\n",
    "roster_data_qbs = roster_data_df.loc[roster_data_df['position'] == 'QB', ['Season', 'full_name', 'gsis_id']]"
   ]
  },
  {
   "cell_type": "code",
   "execution_count": null,
   "metadata": {},
   "outputs": [],
   "source": [
    "#removing suffixes in names\n",
    "roster_data_wrs['full_name'] = roster_data_wrs['full_name'].apply(remove_suffix)\n",
    "counted_results = roster_data_wrs.groupby(['full_name', 'Season']).size()\n",
    "counted_results[counted_results > 1]\n",
    "\n",
    "roster_data_rbs['full_name'] = roster_data_rbs['full_name'].apply(remove_suffix)\n",
    "counted_results = roster_data_rbs.groupby(['full_name', 'Season']).size()\n",
    "counted_results[counted_results > 1]\n",
    "\n",
    "roster_data_tes['full_name'] = roster_data_tes['full_name'].apply(remove_suffix)\n",
    "counted_results = roster_data_tes.groupby(['full_name', 'Season']).size()\n",
    "counted_results[counted_results > 1]\n",
    "\n",
    "roster_data_qbs['full_name'] = roster_data_qbs['full_name'].apply(remove_suffix)\n",
    "counted_results = roster_data_qbs.groupby(['full_name', 'Season']).size()\n",
    "counted_results[counted_results > 1]"
   ]
  },
  {
   "cell_type": "code",
   "execution_count": null,
   "metadata": {},
   "outputs": [],
   "source": [
    "#removing suffixes from all data sets (note that our air yard df has no player name, and will be merged after these two data sets are merged with roster data)\n",
    "snapcount_data['Name'] = snapcount_data['Name'].apply(remove_suffix)\n",
    "yearly_data_df['Player'] = yearly_data_df['Player'].apply(remove_suffix)"
   ]
  },
  {
   "cell_type": "code",
   "execution_count": null,
   "metadata": {},
   "outputs": [],
   "source": [
    "#renaming player name columns for consistency\n",
    "snapcount_data = snapcount_data.rename({\n",
    "    'Name': 'Player'\n",
    "}, axis=1)\n",
    "\n",
    "roster_data_wrs = roster_data_wrs.rename({\n",
    "    'full_name': 'Player'\n",
    "}, axis=1)\n",
    "\n",
    "roster_data_rbs = roster_data_rbs.rename({\n",
    "    'full_name': 'Player'\n",
    "}, axis=1)\n",
    "\n",
    "roster_data_tes = roster_data_tes.rename({\n",
    "    'full_name': 'Player'\n",
    "}, axis=1)\n",
    "\n",
    "roster_data_qbs = roster_data_qbs.rename({\n",
    "    'full_name': 'Player'\n",
    "}, axis=1)"
   ]
  },
  {
   "cell_type": "code",
   "execution_count": null,
   "metadata": {},
   "outputs": [],
   "source": [
    "snapcount_data['Player'] = snapcount_data['Player'].str.lower()\n",
    "yearly_data_df['Player'] = yearly_data_df['Player'].str.lower()\n",
    "\n",
    "roster_data_wrs['Player'] = roster_data_wrs['Player'].str.lower()\n",
    "\n",
    "roster_data_rbs['Player'] = roster_data_rbs['Player'].str.lower()\n",
    "\n",
    "roster_data_tes['Player'] = roster_data_tes['Player'].str.lower()\n",
    "\n",
    "roster_data_qbs['Player'] = roster_data_qbs['Player'].str.lower()"
   ]
  },
  {
   "cell_type": "code",
   "execution_count": null,
   "metadata": {},
   "outputs": [],
   "source": [
    "snapcount_data['Player'] = snapcount_data['Player'].str.replace('.', '')\n",
    "yearly_data_df['Player'] = yearly_data_df['Player'].str.replace('.', '')\n",
    "\n",
    "roster_data_wrs['Player'] = roster_data_wrs['Player'].str.replace('.', '')\n",
    "\n",
    "roster_data_rbs['Player'] = roster_data_rbs['Player'].str.replace('.', '')\n",
    "\n",
    "roster_data_tes['Player'] = roster_data_tes['Player'].str.replace('.', '')\n",
    "\n",
    "roster_data_qbs['Player'] = roster_data_qbs['Player'].str.replace('.', '')"
   ]
  },
  {
   "cell_type": "code",
   "execution_count": null,
   "metadata": {},
   "outputs": [],
   "source": [
    "#duplicate columns\n",
    "list(set(snapcount_data.columns.tolist()) & set(yearly_data_df.columns.tolist()))"
   ]
  },
  {
   "cell_type": "code",
   "execution_count": null,
   "metadata": {},
   "outputs": [],
   "source": [
    "WR_snapcount_data = snapcount_data[snapcount_data['Pos'] == 'WR']\n",
    "WR_yearly_data_df = yearly_data_df[yearly_data_df['Pos'] == 'WR']\n",
    "\n",
    "RB_snapcount_data = snapcount_data[snapcount_data['Pos'] == 'RB']\n",
    "RB_yearly_data_df = yearly_data_df[yearly_data_df['Pos'] == 'RB']\n",
    "\n",
    "TE_snapcount_data = snapcount_data[snapcount_data['Pos'] == 'TE']\n",
    "TE_yearly_data_df = yearly_data_df[yearly_data_df['Pos'] == 'TE']\n",
    "\n",
    "QB_snapcount_data = snapcount_data[snapcount_data['Pos'] == 'QB']\n",
    "QB_yearly_data_df = yearly_data_df[yearly_data_df['Pos'] == 'QB']"
   ]
  },
  {
   "cell_type": "code",
   "execution_count": null,
   "metadata": {},
   "outputs": [],
   "source": [
    "#dropping duplicate and redundant columns\n",
    "WR_snapcount_data = WR_snapcount_data.drop(['G', 'Pos'], axis=1)\n",
    "WR_yearly_data_df = WR_yearly_data_df.drop('Pos', axis=1)\n",
    "\n",
    "RB_snapcount_data = RB_snapcount_data.drop(['G', 'Pos'], axis=1)\n",
    "RB_yearly_data_df = RB_yearly_data_df.drop('Pos', axis=1)\n",
    "\n",
    "TE_snapcount_data = TE_snapcount_data.drop(['G', 'Pos'], axis=1)\n",
    "TE_yearly_data_df = TE_yearly_data_df.drop('Pos', axis=1)\n",
    "\n",
    "QB_snapcount_data = QB_snapcount_data.drop(['G', 'Pos'], axis=1)\n",
    "QB_yearly_data_df = QB_yearly_data_df.drop('Pos', axis=1)"
   ]
  },
  {
   "cell_type": "code",
   "execution_count": null,
   "metadata": {},
   "outputs": [],
   "source": [
    "pbp_data_df = pbp_data_df.rename(columns={'receiver_id': 'gsis_id'})"
   ]
  },
  {
   "cell_type": "markdown",
   "metadata": {},
   "source": [
    "WRs"
   ]
  },
  {
   "cell_type": "code",
   "execution_count": null,
   "metadata": {},
   "outputs": [],
   "source": [
    "WR_final_df = WR_snapcount_data.merge(\n",
    "    WR_yearly_data_df, on=['Player', 'Season'], how='left'\n",
    ")\\\n",
    ".merge(\n",
    "    roster_data_wrs, on=['Player', 'Season'], how='left'\n",
    ")\\\n",
    ".merge(\n",
    "    pbp_data_df, on=['gsis_id', 'Season'], how='left'\n",
    ")\n",
    "\n",
    "WR_final_df = WR_final_df[[\n",
    "  'Season', 'Team', 'Player', 'gsis_id', 'Snaps', 'TeamSnaps', 'G', 'Tgt', 'Rec', 'ReceivingYds', 'ReceivingTD', 'air_yards', 'RushingAtt', 'RushingYds', 'RushingTD', 'PassingAtt', 'PassingYds', 'PassingTD', 'Fumbles', 'Int'\n",
    "]]\\\n",
    ".rename({\n",
    "    'Season': 'season', 'Team': 'team', 'Player': 'player_name', 'Snaps': 'snaps', 'TeamSnaps': 'team_snaps', 'G': 'games_played', 'Rec': 'receptions', 'ReceivingYds': 'rec_yards',\n",
    "    'ReceivingTD': 'rec_tds', 'Tgt': 'targets', 'RushingAtt': 'rush_att', 'RushingYds': 'rush_yards', 'RushingTD': 'rush_tds', 'PassingAtt': 'pass_att', 'PassingYds': 'pass_yards', 'PassingTD': 'pass_tds', 'Fumbles': 'fmb', 'Int': 'int'\n",
    "}, axis=1)\\\n",
    ".assign(\n",
    "    standard_fp = lambda x: x.rec_yards*0.1 + x.rec_tds*6 + x.rush_yards*0.1 + x.rush_tds*6 + x.pass_yards*0.04 + x.pass_tds*4 - x.fmb*2 - x.int*2\n",
    ")\\\n",
    ".assign(\n",
    "    ppr_fp = lambda x: x.standard_fp + x.receptions\n",
    ")\\\n",
    ".assign(\n",
    "    half_ppr_fp = lambda x: x.standard_fp + x.receptions*0.5\n",
    ").dropna()\n",
    "\n",
    "WR_final_df.head()"
   ]
  },
  {
   "cell_type": "code",
   "execution_count": null,
   "metadata": {},
   "outputs": [],
   "source": [
    "WR_final_df.to_csv('../FinalData/WR_regression_data.csv', index=False)"
   ]
  },
  {
   "cell_type": "code",
   "execution_count": null,
   "metadata": {},
   "outputs": [],
   "source": [
    "def WR_make_per_game_columns(column_name):\n",
    "  WR_final_df[f'{column_name}_per_game'] = WR_final_df[column_name] / WR_final_df['games_played']\n",
    "\n",
    "for column in ['air_yards', 'targets', 'snaps', 'rush_att', 'pass_att', 'standard_fp', 'half_ppr_fp', 'ppr_fp']:\n",
    "  WR_make_per_game_columns(column)\n"
   ]
  },
  {
   "cell_type": "code",
   "execution_count": null,
   "metadata": {},
   "outputs": [],
   "source": [
    "WR_lag_features = ['games_played', 'air_yards_per_game', 'targets_per_game', 'snaps', 'snaps_per_game', 'rush_att_per_game', 'pass_att_per_game']\n",
    "WR_final_df = WR_final_df.sort_values(by='season')\n",
    "\n",
    "shifted = WR_final_df.groupby('gsis_id').shift(1)\n",
    "for column in WR_lag_features:\n",
    "    WR_final_df[f'lag_{column}_1'] = shifted[column]"
   ]
  },
  {
   "cell_type": "code",
   "execution_count": null,
   "metadata": {},
   "outputs": [],
   "source": [
    "WR_pred_df = WR_final_df.loc[WR_final_df['lag_games_played_1'] > 10]\n",
    "WR_pred_df = WR_pred_df.loc[WR_pred_df['lag_snaps_1'] > 300]\n",
    "WR_pred_df = WR_pred_df.dropna()"
   ]
  },
  {
   "cell_type": "code",
   "execution_count": null,
   "metadata": {},
   "outputs": [],
   "source": [
    "WR_features = ['lag_targets_per_game_1', 'lag_snaps_per_game_1', 'lag_rush_att_per_game_1', 'lag_pass_att_per_game_1']\n",
    "\n",
    "#Change based on scoring format: 'standard_fp_per_game', 'half_ppr_fp_per_game', or 'ppr_fp_per_game\n",
    "WR_target = 'half_ppr_fp_per_game'\n",
    "\n",
    "WR_training_data = WR_pred_df.loc[WR_pred_df['season'].isin(range(2013, 2019))]\n",
    "WR_training_data_X = WR_training_data[WR_features].values\n",
    "WR_training_data_y = WR_training_data[WR_target].values\n",
    "\n",
    "WR_test_data = WR_pred_df.loc[WR_pred_df['season'] == 2019]\n",
    "WR_test_data_X = WR_test_data[WR_features].values\n",
    "WR_test_data_y = WR_test_data[WR_target].values"
   ]
  },
  {
   "cell_type": "code",
   "execution_count": null,
   "metadata": {},
   "outputs": [],
   "source": [
    "WR_lm = LinearRegression().fit(WR_training_data_X, WR_training_data_y)\n",
    "y_pred = WR_lm.predict(WR_test_data_X)\n",
    "mean_absolute_error(y_pred, WR_test_data_y)"
   ]
  },
  {
   "cell_type": "code",
   "execution_count": null,
   "metadata": {},
   "outputs": [],
   "source": [
    "#2021 predictions\n",
    "WR_df_PREDICTED = WR_final_df.loc[WR_final_df['season'] == 2020]\n",
    "WR_df_PREDICTED = WR_df_PREDICTED.dropna()\n",
    "WR_df_PREDICTED['predicted_fp_per_game'] = WR_lm.predict((WR_df_PREDICTED[WR_features].values))\n",
    "WR_df_PREDICTED = WR_df_PREDICTED[['player_name', 'predicted_fp_per_game']]\n",
    "\n",
    "with pd.option_context('display.max_rows', None):\n",
    "  display(WR_df_PREDICTED.sort_values(by='predicted_fp_per_game', ascending=False).head(100))"
   ]
  },
  {
   "cell_type": "markdown",
   "metadata": {},
   "source": [
    "RBs"
   ]
  },
  {
   "cell_type": "code",
   "execution_count": null,
   "metadata": {},
   "outputs": [],
   "source": [
    "RB_final_df = RB_snapcount_data.merge(\n",
    "    RB_yearly_data_df, on=['Player', 'Season'], how='left'\n",
    ")\\\n",
    ".merge(\n",
    "    roster_data_rbs, on=['Player', 'Season'], how='left'\n",
    ")\\\n",
    ".merge(\n",
    "    pbp_data_df, on=['gsis_id', 'Season'], how='left'\n",
    ")\n",
    "\n",
    "RB_final_df = RB_final_df[[\n",
    "  'Season', 'Team', 'Player', 'gsis_id', 'Snaps', 'TeamSnaps', 'G', 'Tgt', 'Rec', 'ReceivingYds', 'ReceivingTD', 'air_yards', 'RushingAtt', 'RushingYds', 'RushingTD', 'PassingAtt', 'PassingYds', 'PassingTD', 'Fumbles', 'Int'\n",
    "]]\\\n",
    ".rename({\n",
    "    'Season': 'season', 'Team': 'team', 'Player': 'player_name', 'Snaps': 'snaps', 'TeamSnaps': 'team_snaps', 'G': 'games_played', 'Rec': 'receptions', 'ReceivingYds': 'rec_yards',\n",
    "    'ReceivingTD': 'rec_tds', 'Tgt': 'targets', 'RushingAtt': 'rush_att', 'RushingYds': 'rush_yards', 'RushingTD': 'rush_tds', 'PassingAtt': 'pass_att', 'PassingYds': 'pass_yards', 'PassingTD': 'pass_tds', 'Fumbles': 'fmb', 'Int': 'int'\n",
    "}, axis=1)\\\n",
    ".assign(\n",
    "    standard_fp = lambda x: x.rec_yards*0.1 + x.rec_tds*6 + x.rush_yards*0.1 + x.rush_tds*6 + x.pass_yards*0.04 + x.pass_tds*4 - x.fmb*2 - x.int*2\n",
    ")\\\n",
    ".assign(\n",
    "    ppr_fp = lambda x: x.standard_fp + x.receptions\n",
    ")\\\n",
    ".assign(\n",
    "    half_ppr_fp = lambda x: x.standard_fp + x.receptions*0.5\n",
    ").dropna()\n",
    "\n",
    "RB_final_df.to_csv('../FinalData/RB_regression_data.csv', index=False)\n",
    "\n",
    "def RB_make_per_game_columns(column_name):\n",
    "  RB_final_df[f'{column_name}_per_game'] = RB_final_df[column_name] / RB_final_df['games_played']\n",
    "\n",
    "for column in ['air_yards', 'targets', 'snaps', 'rush_att', 'pass_att', 'standard_fp', 'half_ppr_fp', 'ppr_fp']:\n",
    "  RB_make_per_game_columns(column)\n",
    "\n",
    "RB_lag_features = ['games_played', 'air_yards_per_game', 'targets_per_game', 'snaps', 'snaps_per_game', 'rush_att_per_game', 'pass_att_per_game']\n",
    "RB_final_df = RB_final_df.sort_values(by='season')\n",
    "\n",
    "shifted = RB_final_df.groupby('gsis_id').shift(1)\n",
    "for column in RB_lag_features:\n",
    "    RB_final_df[f'lag_{column}_1'] = shifted[column]\n",
    "\n",
    "RB_pred_df = RB_final_df.loc[RB_final_df['lag_games_played_1'] > 10]\n",
    "RB_pred_df = RB_pred_df.loc[RB_pred_df['lag_snaps_1'] > 300]\n",
    "RB_pred_df = RB_pred_df.dropna()\n",
    "\n",
    "RB_features = ['lag_targets_per_game_1', 'lag_snaps_per_game_1', 'lag_rush_att_per_game_1', 'lag_pass_att_per_game_1']\n",
    "\n",
    "#Change based on scoring format: 'standard_fp_per_game', 'half_ppr_fp_per_game', or 'ppr_fp_per_game\n",
    "RB_target = 'half_ppr_fp_per_game'\n",
    "\n",
    "RB_training_data = RB_pred_df.loc[RB_pred_df['season'].isin(range(2013, 2019))]\n",
    "RB_training_data_X = RB_training_data[RB_features].values\n",
    "RB_training_data_y = RB_training_data[RB_target].values\n",
    "\n",
    "RB_test_data = RB_pred_df.loc[RB_pred_df['season'] == 2019]\n",
    "RB_test_data_X = RB_test_data[RB_features].values\n",
    "RB_test_data_y = RB_test_data[RB_target].values\n",
    "\n",
    "RB_lm = LinearRegression().fit(RB_training_data_X, RB_training_data_y)\n",
    "y_pred = RB_lm.predict(RB_test_data_X)\n",
    "mean_absolute_error(y_pred, RB_test_data_y)\n",
    "\n",
    "#2021 predictions\n",
    "RB_df_PREDICTED = RB_final_df.loc[RB_final_df['season'] == 2020]\n",
    "RB_df_PREDICTED = RB_df_PREDICTED.dropna()\n",
    "RB_df_PREDICTED['predicted_fp_per_game'] = RB_lm.predict((RB_df_PREDICTED[RB_features].values))\n",
    "RB_df_PREDICTED = RB_df_PREDICTED[['player_name', 'predicted_fp_per_game']]\n",
    "\n",
    "with pd.option_context('display.max_rows', None):\n",
    "  display(RB_df_PREDICTED.sort_values(by='predicted_fp_per_game', ascending=False).head(100))"
   ]
  },
  {
   "cell_type": "markdown",
   "metadata": {},
   "source": [
    "TEs"
   ]
  },
  {
   "cell_type": "code",
   "execution_count": null,
   "metadata": {},
   "outputs": [],
   "source": [
    "TE_final_df = TE_snapcount_data.merge(\n",
    "    TE_yearly_data_df, on=['Player', 'Season'], how='left'\n",
    ")\\\n",
    ".merge(\n",
    "    roster_data_tes, on=['Player', 'Season'], how='left'\n",
    ")\\\n",
    ".merge(\n",
    "    pbp_data_df, on=['gsis_id', 'Season'], how='left'\n",
    ")\n",
    "\n",
    "TE_final_df = TE_final_df[[\n",
    "  'Season', 'Team', 'Player', 'gsis_id', 'Snaps', 'TeamSnaps', 'G', 'Tgt', 'Rec', 'ReceivingYds', 'ReceivingTD', 'air_yards', 'RushingAtt', 'RushingYds', 'RushingTD', 'PassingAtt', 'PassingYds', 'PassingTD', 'Fumbles', 'Int'\n",
    "]]\\\n",
    ".rename({\n",
    "    'Season': 'season', 'Team': 'team', 'Player': 'player_name', 'Snaps': 'snaps', 'TeamSnaps': 'team_snaps', 'G': 'games_played', 'Rec': 'receptions', 'ReceivingYds': 'rec_yards',\n",
    "    'ReceivingTD': 'rec_tds', 'Tgt': 'targets', 'RushingAtt': 'rush_att', 'RushingYds': 'rush_yards', 'RushingTD': 'rush_tds', 'PassingAtt': 'pass_att', 'PassingYds': 'pass_yards', 'PassingTD': 'pass_tds', 'Fumbles': 'fmb', 'Int': 'int'\n",
    "}, axis=1)\\\n",
    ".assign(\n",
    "    standard_fp = lambda x: x.rec_yards*0.1 + x.rec_tds*6 + x.rush_yards*0.1 + x.rush_tds*6 + x.pass_yards*0.04 + x.pass_tds*4 - x.fmb*2 - x.int*2\n",
    ")\\\n",
    ".assign(\n",
    "    ppr_fp = lambda x: x.standard_fp + x.receptions\n",
    ")\\\n",
    ".assign(\n",
    "    half_ppr_fp = lambda x: x.standard_fp + x.receptions*0.5\n",
    ").dropna()\n",
    "\n",
    "TE_final_df.to_csv('../FinalData/TE_regression_data.csv', index=False)\n",
    "\n",
    "def TE_make_per_game_columns(column_name):\n",
    "  TE_final_df[f'{column_name}_per_game'] = TE_final_df[column_name] / TE_final_df['games_played']\n",
    "\n",
    "for column in ['air_yards', 'targets', 'snaps', 'rush_att', 'pass_att', 'standard_fp', 'half_ppr_fp', 'ppr_fp']:\n",
    "  TE_make_per_game_columns(column)\n",
    "\n",
    "WR_final_df.head()\n",
    "\n",
    "TE_lag_features = ['games_played', 'air_yards_per_game', 'targets_per_game', 'snaps', 'snaps_per_game', 'rush_att_per_game', 'pass_att_per_game']\n",
    "TE_final_df = TE_final_df.sort_values(by='season')\n",
    "\n",
    "shifted = TE_final_df.groupby('gsis_id').shift(1)\n",
    "for column in TE_lag_features:\n",
    "    TE_final_df[f'lag_{column}_1'] = shifted[column]\n",
    "\n",
    "TE_pred_df = TE_final_df.loc[TE_final_df['lag_games_played_1'] > 10]\n",
    "TE_pred_df = TE_pred_df.loc[TE_pred_df['lag_snaps_1'] > 300]\n",
    "TE_pred_df = TE_pred_df.dropna()\n",
    "\n",
    "TE_features = ['lag_targets_per_game_1', 'lag_snaps_per_game_1', 'lag_rush_att_per_game_1', 'lag_pass_att_per_game_1']\n",
    "\n",
    "#Change based on scoring format: 'standard_fp_per_game', 'half_ppr_fp_per_game', or 'ppr_fp_per_game\n",
    "TE_target = 'half_ppr_fp_per_game'\n",
    "\n",
    "TE_training_data = TE_pred_df.loc[TE_pred_df['season'].isin(range(2013, 2019))]\n",
    "TE_training_data_X = TE_training_data[TE_features].values\n",
    "TE_training_data_y = TE_training_data[TE_target].values\n",
    "\n",
    "TE_test_data = TE_pred_df.loc[TE_pred_df['season'] == 2019]\n",
    "TE_test_data_X = TE_test_data[TE_features].values\n",
    "TE_test_data_y = TE_test_data[TE_target].values\n",
    "\n",
    "TE_lm = LinearRegression().fit(TE_training_data_X, TE_training_data_y)\n",
    "y_pred = TE_lm.predict(TE_test_data_X)\n",
    "mean_absolute_error(y_pred, TE_test_data_y)\n",
    "\n",
    "#2021 predictions\n",
    "TE_df_PREDICTED= TE_final_df.loc[TE_final_df['season'] == 2020]\n",
    "TE_df_PREDICTED = TE_df_PREDICTED.dropna()\n",
    "TE_df_PREDICTED['predicted_fp_per_game'] = TE_lm.predict((TE_df_PREDICTED[TE_features].values))\n",
    "TE_df_PREDICTED = TE_df_PREDICTED[['player_name', 'predicted_fp_per_game']]\n",
    "\n",
    "with pd.option_context('display.max_rows', None):\n",
    "  display(TE_df_PREDICTED.sort_values(by='predicted_fp_per_game', ascending=False).head(100))"
   ]
  },
  {
   "cell_type": "markdown",
   "metadata": {},
   "source": [
    "QBs"
   ]
  },
  {
   "cell_type": "code",
   "execution_count": null,
   "metadata": {},
   "outputs": [],
   "source": [
    "QB_final_df = QB_snapcount_data.merge(\n",
    "    QB_yearly_data_df, on=['Player', 'Season'], how='left'\n",
    ")\\\n",
    ".merge(\n",
    "    roster_data_qbs, on=['Player', 'Season'], how='left'\n",
    ")\\\n",
    ".merge(\n",
    "    pbp_data_df, on=['gsis_id', 'Season'], how='left'\n",
    ")\n",
    "\n",
    "QB_final_df = QB_final_df[[\n",
    "  'Season', 'Team', 'Player', 'gsis_id', 'Snaps', 'TeamSnaps', 'G', 'Tgt', 'Rec', 'ReceivingYds', 'ReceivingTD', 'air_yards', 'RushingAtt', 'RushingYds', 'RushingTD', 'PassingAtt', 'PassingYds', 'PassingTD', 'Fumbles', 'Int'\n",
    "]]\\\n",
    ".rename({\n",
    "    'Season': 'season', 'Team': 'team', 'Player': 'player_name', 'Snaps': 'snaps', 'TeamSnaps': 'team_snaps', 'G': 'games_played', 'Rec': 'receptions', 'ReceivingYds': 'rec_yards',\n",
    "    'ReceivingTD': 'rec_tds', 'Tgt': 'targets', 'RushingAtt': 'rush_att', 'RushingYds': 'rush_yards', 'RushingTD': 'rush_tds', 'PassingAtt': 'pass_att', 'PassingYds': 'pass_yards', 'PassingTD': 'pass_tds', 'Fumbles': 'fmb', 'Int': 'int'\n",
    "}, axis=1)\\\n",
    ".assign(\n",
    "    standard_fp = lambda x: x.rec_yards*0.1 + x.rec_tds*6 + x.rush_yards*0.1 + x.rush_tds*6 + x.pass_yards*0.04 + x.pass_tds*4 - x.fmb*2 - x.int*2\n",
    ")\\\n",
    ".assign(\n",
    "    ppr_fp = lambda x: x.standard_fp + x.receptions\n",
    ")\\\n",
    ".assign(\n",
    "    half_ppr_fp = lambda x: x.standard_fp + x.receptions*0.5\n",
    ").dropna()\n",
    "\n",
    "QB_final_df.to_csv('../FinalData/QB_regression_data.csv', index=False)\n",
    "\n",
    "def QB_make_per_game_columns(column_name):\n",
    "  QB_final_df[f'{column_name}_per_game'] = QB_final_df[column_name] / QB_final_df['games_played']\n",
    "\n",
    "for column in ['air_yards', 'targets', 'snaps', 'rush_att', 'pass_att', 'standard_fp', 'half_ppr_fp', 'ppr_fp']:\n",
    "  QB_make_per_game_columns(column)\n",
    "\n",
    "QB_lag_features = ['games_played', 'air_yards_per_game', 'targets_per_game', 'snaps', 'snaps_per_game', 'rush_att_per_game', 'pass_att_per_game']\n",
    "QB_final_df = QB_final_df.sort_values(by='season')\n",
    "\n",
    "shifted = QB_final_df.groupby('gsis_id').shift(1)\n",
    "for column in QB_lag_features:\n",
    "    QB_final_df[f'lag_{column}_1'] = shifted[column]\n",
    "\n",
    "QB_pred_df = QB_final_df.loc[QB_final_df['lag_games_played_1'] > 10]\n",
    "QB_pred_df = QB_pred_df.loc[QB_pred_df['lag_snaps_1'] > 300]\n",
    "QB_pred_df = QB_pred_df.dropna()\n",
    "\n",
    "QB_features = ['lag_targets_per_game_1', 'lag_snaps_per_game_1', 'lag_rush_att_per_game_1', 'lag_pass_att_per_game_1']\n",
    "\n",
    "#Change based on scoring format: 'standard_fp_per_game', 'half_ppr_fp_per_game', or 'ppr_fp_per_game\n",
    "QB_target = 'half_ppr_fp_per_game'\n",
    "\n",
    "QB_training_data = QB_pred_df.loc[QB_pred_df['season'].isin(range(2013, 2019))]\n",
    "QB_training_data_X = QB_training_data[QB_features].values\n",
    "QB_training_data_y = QB_training_data[QB_target].values\n",
    "\n",
    "QB_test_data = QB_pred_df.loc[QB_pred_df['season'] == 2019]\n",
    "QB_test_data_X = QB_test_data[QB_features].values\n",
    "QB_test_data_y = QB_test_data[QB_target].values\n",
    "\n",
    "QB_lm = LinearRegression().fit(QB_training_data_X, QB_training_data_y)\n",
    "y_pred = QB_lm.predict(QB_test_data_X)\n",
    "mean_absolute_error(y_pred, QB_test_data_y)\n",
    "\n",
    "#2021 predictions\n",
    "QB_df_PREDICTED = QB_final_df.loc[QB_final_df['season'] == 2020]\n",
    "QB_df_PREDICTED = QB_df_PREDICTED.dropna()\n",
    "QB_df_PREDICTED['predicted_fp_per_game'] = QB_lm.predict((QB_df_PREDICTED[QB_features].values))\n",
    "QB_df_PREDICTED = QB_df_PREDICTED[['player_name', 'predicted_fp_per_game']]\n",
    "\n",
    "with pd.option_context('display.max_rows', None):\n",
    "  display(QB_df_PREDICTED.sort_values(by='predicted_fp_per_game', ascending=False).head(100))"
   ]
  },
  {
   "cell_type": "code",
   "execution_count": null,
   "metadata": {},
   "outputs": [],
   "source": [
    "QB_snapcount_data.head()"
   ]
  },
  {
   "cell_type": "code",
   "execution_count": null,
   "metadata": {},
   "outputs": [],
   "source": []
  }
 ],
 "metadata": {
  "interpreter": {
   "hash": "470f9cc87c144e2bc280a6fea1ab741fbc727148817f4daaf0eac00c0fbf6704"
  },
  "kernelspec": {
   "display_name": "Python 3.7.10 64-bit ('FFDataProject': conda)",
   "name": "python3"
  },
  "language_info": {
   "codemirror_mode": {
    "name": "ipython",
    "version": 3
   },
   "file_extension": ".py",
   "mimetype": "text/x-python",
   "name": "python",
   "nbconvert_exporter": "python",
   "pygments_lexer": "ipython3",
   "version": "3.7.10"
  },
  "orig_nbformat": 4
 },
 "nbformat": 4,
 "nbformat_minor": 2
}
