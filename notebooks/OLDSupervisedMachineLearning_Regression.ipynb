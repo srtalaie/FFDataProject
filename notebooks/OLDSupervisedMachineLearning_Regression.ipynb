{
 "cells": [
  {
   "cell_type": "code",
   "execution_count": 1,
   "source": [
    "import os\n",
    "import sys\n",
    "src_dir = os.path.join(os.getcwd(), '..', 'src')\n",
    "sys.path.append(src_dir)\n",
    "\n",
    "from utils import GLOBAL, functions"
   ],
   "outputs": [],
   "metadata": {}
  },
  {
   "cell_type": "code",
   "execution_count": 2,
   "source": [
    "import pandas as pd\n",
    "import numpy as np\n",
    "from sklearn.linear_model import LinearRegression, ElasticNet\n",
    "from sklearn.model_selection import train_test_split\n",
    "from sklearn.metrics import mean_absolute_error"
   ],
   "outputs": [],
   "metadata": {}
  },
  {
   "cell_type": "code",
   "execution_count": 3,
   "source": [
    "df = pd.read_csv(GLOBAL.CLEANED_DATA_2014_2019)"
   ],
   "outputs": [],
   "metadata": {}
  },
  {
   "cell_type": "code",
   "execution_count": 4,
   "source": [
    "df = df.iloc[:, 1:]"
   ],
   "outputs": [],
   "metadata": {}
  },
  {
   "cell_type": "code",
   "execution_count": 5,
   "source": [
    "df = df.groupby(['player_id', 'tm', 'player', 'pos', 'season'], as_index=False)\\\n",
    "    .agg({\n",
    "        'offensive_snapcount': np.sum,\n",
    "        'offensive_snapcount_percentage': np.mean,\n",
    "        'passing_rating': np.mean,\n",
    "        'passing_yds': np.sum,\n",
    "        'passing_td': np.sum,\n",
    "        'passing_att': np.sum,\n",
    "        'receiving_yds': np.sum,\n",
    "        'receiving_td': np.sum,\n",
    "        'receiving_rec': np.sum,\n",
    "        'receiving_tar': np.sum,\n",
    "        'rushing_att': np.sum,\n",
    "        'standard_fantasy_points': np.sum,\n",
    "        'ppr_fantasy_points': np.sum,\n",
    "        'half_ppr_fantasy_points': np.sum\n",
    "})"
   ],
   "outputs": [],
   "metadata": {}
  },
  {
   "cell_type": "code",
   "execution_count": 6,
   "source": [
    "df = df.loc[df['season'] >= 2012]"
   ],
   "outputs": [],
   "metadata": {}
  },
  {
   "cell_type": "code",
   "execution_count": 7,
   "source": [
    "#Change based on scoring format: \"half_ppr\", \"ppr\", or \"standard\"\n",
    "scoring_format = \"half_ppr\"\n",
    "\n",
    "pd.set_option('chained_assignment', None)\n",
    "\n",
    "lag_features = [\n",
    "    'rushing_att', \n",
    "    'receiving_tar', \n",
    "    'offensive_snapcount', \n",
    "    'offensive_snapcount_percentage',\n",
    "    f'{scoring_format}_fantasy_points',\n",
    "    'passing_rating',\n",
    "    'passing_att', \n",
    "    'passing_td'\n",
    "]\n",
    "\n",
    "for lag in range(1, 6):\n",
    "    shifted = df.groupby('player_id').shift(lag)\n",
    "    for column in lag_features:\n",
    "        df[f'lag_{column}_{lag}'] = shifted[column]\n",
    "\n",
    "df = df.fillna(-1)"
   ],
   "outputs": [],
   "metadata": {}
  },
  {
   "cell_type": "code",
   "execution_count": 10,
   "source": [
    "#Serparate by pos\n",
    "wr_df = df.loc[df['pos'] == 'WR']\n",
    "rb_df = df.loc[df['pos'] == 'RB']\n",
    "te_df = df.loc[df['pos'] == 'TE']\n",
    "qb_df = df.loc[df['pos'] == 'QB']"
   ],
   "outputs": [],
   "metadata": {}
  },
  {
   "cell_type": "code",
   "execution_count": null,
   "source": [
    "#Correlation matrices to find best correlation for fantasy points, change based on [pos]_df for different pos\n",
    "wr_df.corr()[[f'{scoring_format}_fantasy_points']]"
   ],
   "outputs": [],
   "metadata": {}
  },
  {
   "cell_type": "markdown",
   "source": [
    "Wide Receivers"
   ],
   "metadata": {}
  },
  {
   "cell_type": "code",
   "execution_count": 16,
   "source": [
    "#Use 2014-108 to train model\n",
    "wr_train_df = wr_df.loc[(wr_df['season'] < 2019) & (wr_df['lag_offensive_snapcount_1'] > 50)]"
   ],
   "outputs": [],
   "metadata": {}
  },
  {
   "cell_type": "code",
   "execution_count": 17,
   "source": [
    "WR_X = wr_train_df[[\n",
    "    'lag_receiving_tar_1', 'lag_offensive_snapcount_1', f'lag_{scoring_format}_fantasy_points_1'\n",
    "]].values"
   ],
   "outputs": [],
   "metadata": {}
  },
  {
   "cell_type": "code",
   "execution_count": 19,
   "source": [
    "wr_y = wr_train_df[f'{scoring_format}_fantasy_points'].values"
   ],
   "outputs": [],
   "metadata": {}
  },
  {
   "cell_type": "code",
   "execution_count": 23,
   "source": [
    "WR_X_train, WR_X_test, wr_y_train, wr_y_test = train_test_split(WR_X, wr_y, test_size=0.2, random_state=10)\n",
    "\n",
    "wr_lr = LinearRegression()\n",
    "\n",
    "wr_lr.fit(WR_X_train, wr_y_train);"
   ],
   "outputs": [],
   "metadata": {}
  },
  {
   "cell_type": "code",
   "execution_count": 25,
   "source": [
    "wr_y_predict = wr_lr.predict(WR_X_test)"
   ],
   "outputs": [],
   "metadata": {}
  },
  {
   "cell_type": "code",
   "execution_count": 26,
   "source": [
    "mean_absolute_error(wr_y_test, wr_y_predict)"
   ],
   "outputs": [
    {
     "output_type": "execute_result",
     "data": {
      "text/plain": [
       "39.62662611510035"
      ]
     },
     "metadata": {},
     "execution_count": 26
    }
   ],
   "metadata": {}
  },
  {
   "cell_type": "code",
   "execution_count": null,
   "source": [
    "pd.set_option('display.max_rows', None)\n",
    "\n",
    "wr_df_predict = wr_df.loc[\n",
    "    (wr_df['season'] == 2019) & (wr_df['offensive_snapcount'] > 50), ['player', 'receiving_tar', 'offensive_snapcount', f'{scoring_format}_fantasy_points']\n",
    "]\n",
    "\n",
    "wr_df_predict[f'{scoring_format}_predicted_2020'] = wr_lr.predict(wr_df_predict[['receiving_tar', 'offensive_snapcount', f'{scoring_format}_fantasy_points']].values)\n",
    "\n",
    "wr_df_predict.sort_values(by=f'{scoring_format}_predicted_2020', ascending=False).head(100)"
   ],
   "outputs": [],
   "metadata": {}
  }
 ],
 "metadata": {
  "orig_nbformat": 4,
  "language_info": {
   "name": "python",
   "version": "3.7.10",
   "mimetype": "text/x-python",
   "codemirror_mode": {
    "name": "ipython",
    "version": 3
   },
   "pygments_lexer": "ipython3",
   "nbconvert_exporter": "python",
   "file_extension": ".py"
  },
  "kernelspec": {
   "name": "python3",
   "display_name": "Python 3.7.10 64-bit ('FFDataProject': conda)"
  },
  "interpreter": {
   "hash": "0d7f2d61979526d851052c73aa4fecb27e148009fc0cdd501146fb697de57875"
  }
 },
 "nbformat": 4,
 "nbformat_minor": 2
}