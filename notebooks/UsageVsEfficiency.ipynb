{
 "cells": [
  {
   "cell_type": "code",
   "execution_count": 1,
   "source": [
    "import os\n",
    "import sys\n",
    "src_dir = os.path.join(os.getcwd(), '..', 'src')\n",
    "sys.path.append(src_dir)\n",
    "\n",
    "from utils import GLOBAL, functions"
   ],
   "outputs": [],
   "metadata": {}
  },
  {
   "cell_type": "code",
   "execution_count": 2,
   "source": [
    "import pandas as pd\n",
    "import numpy as np"
   ],
   "outputs": [],
   "metadata": {}
  },
  {
   "cell_type": "code",
   "execution_count": 3,
   "source": [
    "#Create DFs\n",
    "yearly_stats_df = pd.read_csv(GLOBAL.STATS_2020)"
   ],
   "outputs": [],
   "metadata": {}
  },
  {
   "cell_type": "code",
   "execution_count": 4,
   "source": [
    "#Calculate Fantasy Scoring for all formats, Usage, Usage/G, and Pts/G (by format)\n",
    "\n",
    "#Fantasy score\n",
    "yearly_stats_df['FantasyPointsPPR'] = functions.scoringCalculator(\n",
    "    yearly_stats_df['Rec'], yearly_stats_df['ReceivingYds'], yearly_stats_df['ReceivingTD'], yearly_stats_df['FumblesLost'], yearly_stats_df['RushingYds'], yearly_stats_df['RushingTD'], yearly_stats_df['PassingYds'], yearly_stats_df['PassingTD'], yearly_stats_df['Int'], GLOBAL.PPR_SCORING)\n",
    "\n",
    "yearly_stats_df['FantasyPointsHalfPPR'] = functions.scoringCalculator(\n",
    "    yearly_stats_df['Rec'], yearly_stats_df['ReceivingYds'], yearly_stats_df['ReceivingTD'], yearly_stats_df['FumblesLost'], yearly_stats_df['RushingYds'], yearly_stats_df['RushingTD'], yearly_stats_df['PassingYds'], yearly_stats_df['PassingTD'], yearly_stats_df['Int'], GLOBAL.HALF_PPR_SCORING)\n",
    "\n",
    "yearly_stats_df['FantasyPoints'] = functions.scoringCalculator(\n",
    "    yearly_stats_df['Rec'], yearly_stats_df['ReceivingYds'], yearly_stats_df['ReceivingTD'], yearly_stats_df['FumblesLost'], yearly_stats_df['RushingYds'], yearly_stats_df['RushingTD'], yearly_stats_df['PassingYds'], yearly_stats_df['PassingTD'], yearly_stats_df['Int'], GLOBAL.STANDARD_SCORING)\n",
    "\n",
    "\n",
    "#Usage & Usage/G\n",
    "yearly_stats_df['Usage'] = yearly_stats_df['RushingAtt'] + yearly_stats_df['PassingAtt'] + yearly_stats_df['Tgt']\n",
    "yearly_stats_df['Usage/G'] = (yearly_stats_df['RushingAtt'] + yearly_stats_df['PassingAtt'] + yearly_stats_df['Tgt']) / yearly_stats_df['G']\n",
    "\n",
    "#Pts/G\n",
    "yearly_stats_df['StandardPoints/G'] = yearly_stats_df['FantasyPoints'] / yearly_stats_df['G']\n",
    "yearly_stats_df['HalfPPRPoints/G'] = yearly_stats_df['FantasyPointsHalfPPR'] / yearly_stats_df['G']\n",
    "yearly_stats_df['PPRPoints/G'] = yearly_stats_df['FantasyPointsPPR'] / yearly_stats_df['G']"
   ],
   "outputs": [],
   "metadata": {}
  },
  {
   "cell_type": "code",
   "execution_count": 5,
   "source": [
    "#Create Usage rank & Fantasy Points Rank\n",
    "yearly_stats_df['UsageRank'] = yearly_stats_df['Usage'].rank(ascending=False)\n",
    "\n",
    "yearly_stats_df['StandardFantasyPointsRank'] = yearly_stats_df['FantasyPoints'].rank(ascending=False)\n",
    "yearly_stats_df['HalfPPRFantasyPointsRank'] = yearly_stats_df['FantasyPointsHalfPPR'].rank(ascending=False)\n",
    "yearly_stats_df['PPRFantasyPointsRank'] = yearly_stats_df['FantasyPointsPPR'].rank(ascending=False)"
   ],
   "outputs": [],
   "metadata": {}
  },
  {
   "cell_type": "code",
   "execution_count": 6,
   "source": [
    "#Finding the Correlation based on Usage vs Scoring per format\n",
    "x = yearly_stats_df['Usage']\n",
    "y_std = yearly_stats_df['FantasyPoints']\n",
    "y_half_ppr = yearly_stats_df['FantasyPointsHalfPPR']\n",
    "y_ppr = yearly_stats_df['FantasyPointsPPR']\n",
    "\n",
    "standard_correlation = functions.correlation(x, y_std)\n",
    "half_ppr_correlation = functions.correlation(x, y_half_ppr)\n",
    "ppr_correlation = functions.correlation(x, y_ppr)"
   ],
   "outputs": [],
   "metadata": {}
  },
  {
   "cell_type": "code",
   "execution_count": null,
   "source": [],
   "outputs": [],
   "metadata": {}
  }
 ],
 "metadata": {
  "orig_nbformat": 4,
  "language_info": {
   "name": "python",
   "version": "3.7.10",
   "mimetype": "text/x-python",
   "codemirror_mode": {
    "name": "ipython",
    "version": 3
   },
   "pygments_lexer": "ipython3",
   "nbconvert_exporter": "python",
   "file_extension": ".py"
  },
  "kernelspec": {
   "name": "python3",
   "display_name": "Python 3.7.10 64-bit ('FFDataProject': conda)"
  },
  "interpreter": {
   "hash": "0d7f2d61979526d851052c73aa4fecb27e148009fc0cdd501146fb697de57875"
  }
 },
 "nbformat": 4,
 "nbformat_minor": 2
}