{
 "cells": [
  {
   "cell_type": "code",
   "execution_count": null,
   "source": [
    "import os\n",
    "import sys\n",
    "src_dir = os.path.join(os.getcwd(), '..', 'src')\n",
    "sys.path.append(src_dir)\n",
    "\n",
    "from utils import GLOBAL, functions"
   ],
   "outputs": [],
   "metadata": {}
  },
  {
   "cell_type": "code",
   "execution_count": null,
   "source": [
    "import pandas as pd"
   ],
   "outputs": [],
   "metadata": {}
  },
  {
   "cell_type": "code",
   "execution_count": null,
   "source": [
    "proj_df = pd.read_csv(GLOBAL.PROJECTIONS_2021, index_col=0)"
   ],
   "outputs": [],
   "metadata": {}
  },
  {
   "cell_type": "code",
   "execution_count": null,
   "source": [
    "#Get dataframes of specific pos\n",
    "rb_proj_df = proj_df[proj_df['Pos'] == 'RB']\n",
    "wr_proj_df = proj_df[proj_df['Pos'] == 'WR']\n",
    "te_proj_df = proj_df[proj_df['Pos'] == 'TE']\n",
    "qb_proj_df = proj_df[proj_df['Pos'] == 'QB']"
   ],
   "outputs": [],
   "metadata": {}
  },
  {
   "cell_type": "code",
   "execution_count": null,
   "source": [
    "#ADP for current year and scoring format\n",
    "adp_df = pd.read_csv(GLOBAL.ADP_2021_HALF_PPR, index_col=0)\n",
    "\n",
    "adp_df['ADP RANK'] = adp_df['AVG'].rank()\n",
    "\n",
    "adp_df_cutoff = adp_df[:100]\n",
    "\n",
    "replacement_players = {\n",
    "    'RB': '',\n",
    "    'WR': '',\n",
    "    'TE': '',\n",
    "    'QB': ''\n",
    "}"
   ],
   "outputs": [],
   "metadata": {}
  },
  {
   "cell_type": "code",
   "execution_count": null,
   "source": [
    "for _, row in adp_df_cutoff.iterrows():\n",
    "    position = row['POS'][:2]\n",
    "    player = row['Player']\n",
    "\n",
    "    if position in replacement_players:\n",
    "        replacement_players[position] = player"
   ],
   "outputs": [],
   "metadata": {}
  },
  {
   "cell_type": "code",
   "execution_count": null,
   "source": [
    "vor_df = proj_df[['Player', 'Pos', 'Tm', 'Half PPR']]"
   ],
   "outputs": [],
   "metadata": {}
  },
  {
   "cell_type": "code",
   "execution_count": null,
   "source": [
    "replacement_values = {}\n",
    "\n",
    "for position, player_name in replacement_players.items():\n",
    "    player = vor_df.loc[vor_df['Player'] == player_name]\n",
    "    replacement_values[position] = player['Half PPR'].tolist()[0]"
   ],
   "outputs": [],
   "metadata": {}
  },
  {
   "cell_type": "code",
   "execution_count": null,
   "source": [
    "pd.set_option('chained_assignment', None)\n",
    "pd.set_option('display.max_rows', None)\n",
    "\n",
    "vor_df = vor_df.loc[vor_df['Pos'].isin(['QB', 'RB', 'WR', 'TE'])]\n",
    "\n",
    "vor_df['VOR'] = vor_df.apply(\n",
    "    lambda row: row['Half PPR'] - replacement_values.get(row['Pos']), axis=1\n",
    ")"
   ],
   "outputs": [],
   "metadata": {}
  },
  {
   "cell_type": "code",
   "execution_count": null,
   "source": [
    "vor_df['VOR Rank'] = vor_df['VOR'].rank(ascending=False)\n",
    "# vor_df.sort_values(by='VOR Rank')"
   ],
   "outputs": [],
   "metadata": {}
  },
  {
   "cell_type": "code",
   "execution_count": null,
   "source": [
    "min_vor = vor_df['VOR'].min()\n",
    "max_vor = vor_df['VOR'].max()\n",
    "vor_range = max_vor - min_vor\n",
    "\n",
    "vor_df['VOR'] = vor_df['VOR'].apply(\n",
    "    lambda x: (x - min_vor) / vor_range\n",
    ")"
   ],
   "outputs": [],
   "metadata": {}
  },
  {
   "cell_type": "code",
   "execution_count": null,
   "source": [
    "vor_df = vor_df.sort_values(by= 'VOR', ascending=False)"
   ],
   "outputs": [],
   "metadata": {}
  },
  {
   "cell_type": "code",
   "execution_count": null,
   "source": [
    "vor_df = vor_df.rename({\n",
    "    'VOR': 'Value',\n",
    "    'VOR Rank': 'Value Rank',\n",
    "    'Tm': 'Team'\n",
    "}, axis=1)"
   ],
   "outputs": [],
   "metadata": {}
  },
  {
   "cell_type": "code",
   "execution_count": null,
   "source": [
    "adp_df = adp_df[['Player', 'POS', 'Bye', 'AVG', 'ADP RANK']]\n",
    "\n",
    "adp_df = adp_df.rename(columns={\n",
    "    'POS': 'Pos Rank',\n",
    "    'AVG': 'Average ADP',\n",
    "    'ADP RANK': 'ADP Rank'\n",
    "})"
   ],
   "outputs": [],
   "metadata": {}
  },
  {
   "cell_type": "code",
   "execution_count": null,
   "source": [
    "adp_df['Pos'] = adp_df.apply(\n",
    "    lambda row: str(row['Pos Rank'])[:2]\n",
    ", axis=1)\n",
    "\n",
    "adp_df.head()"
   ],
   "outputs": [],
   "metadata": {}
  },
  {
   "cell_type": "code",
   "execution_count": null,
   "source": [
    "final_df = vor_df.merge(adp_df, how='left', on=['Player', 'Pos'])"
   ],
   "outputs": [],
   "metadata": {}
  },
  {
   "cell_type": "code",
   "execution_count": null,
   "source": [
    "final_df['Diff in ADP and Value'] = final_df['ADP Rank'] - final_df['Value Rank']\n",
    "final_df = final_df.dropna()"
   ],
   "outputs": [],
   "metadata": {}
  },
  {
   "cell_type": "code",
   "execution_count": null,
   "source": [
    "# Number of Teams * Spots on Each Team\n",
    "draft_pool = final_df.sort_values(by='ADP Rank')[:196]"
   ],
   "outputs": [],
   "metadata": {}
  },
  {
   "cell_type": "code",
   "execution_count": null,
   "source": [
    "rb_df_draft_pool = draft_pool.loc[draft_pool['Pos'] == 'RB']\n",
    "wr_df_draft_pool = draft_pool.loc[draft_pool['Pos'] == 'WR']\n",
    "te_df_draft_pool = draft_pool.loc[draft_pool['Pos'] == 'TE']\n",
    "qb_df_draft_pool = draft_pool.loc[draft_pool['Pos'] == 'QB']"
   ],
   "outputs": [],
   "metadata": {}
  },
  {
   "cell_type": "markdown",
   "source": [
    "#Sleepers and Over Valued by Pos."
   ],
   "metadata": {}
  },
  {
   "cell_type": "markdown",
   "source": [
    "RBs"
   ],
   "metadata": {}
  },
  {
   "cell_type": "markdown",
   "source": [
    "Sleepers"
   ],
   "metadata": {}
  },
  {
   "cell_type": "code",
   "execution_count": null,
   "source": [
    "rb_df_draft_pool.sort_values(by='Diff in ADP and Value', ascending=False).head(10)"
   ],
   "outputs": [],
   "metadata": {}
  },
  {
   "cell_type": "markdown",
   "source": [
    "Over Valued"
   ],
   "metadata": {}
  },
  {
   "cell_type": "code",
   "execution_count": null,
   "source": [
    "rb_df_draft_pool.sort_values(by='Diff in ADP and Value', ascending=True).head(10)"
   ],
   "outputs": [],
   "metadata": {}
  },
  {
   "cell_type": "markdown",
   "source": [
    "WRs"
   ],
   "metadata": {}
  },
  {
   "cell_type": "markdown",
   "source": [
    "Sleepers"
   ],
   "metadata": {}
  },
  {
   "cell_type": "code",
   "execution_count": null,
   "source": [
    "wr_df_draft_pool.sort_values(by='Diff in ADP and Value', ascending=False).head(10)"
   ],
   "outputs": [],
   "metadata": {}
  },
  {
   "cell_type": "markdown",
   "source": [
    "Over Valued"
   ],
   "metadata": {}
  },
  {
   "cell_type": "code",
   "execution_count": null,
   "source": [
    "wr_df_draft_pool.sort_values(by='Diff in ADP and Value', ascending=True).head(10)"
   ],
   "outputs": [],
   "metadata": {}
  },
  {
   "cell_type": "markdown",
   "source": [
    "TEs"
   ],
   "metadata": {}
  },
  {
   "cell_type": "markdown",
   "source": [
    "Sleepers"
   ],
   "metadata": {}
  },
  {
   "cell_type": "code",
   "execution_count": null,
   "source": [
    "te_df_draft_pool.sort_values(by='Diff in ADP and Value', ascending=False).head(10)"
   ],
   "outputs": [],
   "metadata": {}
  },
  {
   "cell_type": "markdown",
   "source": [
    "Over Valued"
   ],
   "metadata": {}
  },
  {
   "cell_type": "code",
   "execution_count": null,
   "source": [
    "te_df_draft_pool.sort_values(by='Diff in ADP and Value', ascending=True).head(10)"
   ],
   "outputs": [],
   "metadata": {}
  },
  {
   "cell_type": "markdown",
   "source": [
    "QBs"
   ],
   "metadata": {}
  },
  {
   "cell_type": "markdown",
   "source": [
    "Sleepers"
   ],
   "metadata": {}
  },
  {
   "cell_type": "code",
   "execution_count": null,
   "source": [
    "qb_df_draft_pool.sort_values(by='Diff in ADP and Value', ascending=False).head(10)"
   ],
   "outputs": [],
   "metadata": {}
  },
  {
   "cell_type": "markdown",
   "source": [
    "Over Valued"
   ],
   "metadata": {}
  },
  {
   "cell_type": "code",
   "execution_count": null,
   "source": [
    "qb_df_draft_pool.sort_values(by='Diff in ADP and Value', ascending=True).head(10)"
   ],
   "outputs": [],
   "metadata": {}
  },
  {
   "cell_type": "code",
   "execution_count": 29,
   "source": [
    "final_df = final_df[['Player', 'Pos Rank', 'Team', 'Bye', 'Value', 'Value Rank', 'Average ADP', 'ADP Rank', 'Diff in ADP and Value', 'Half PPR']]"
   ],
   "outputs": [],
   "metadata": {}
  },
  {
   "cell_type": "code",
   "execution_count": 52,
   "source": [
    "final_df.to_csv(r'../FinalData/ValueOverReplacement.csv', encoding='utf-8', index=False);"
   ],
   "outputs": [],
   "metadata": {}
  }
 ],
 "metadata": {
  "orig_nbformat": 4,
  "language_info": {
   "name": "python",
   "version": "3.7.10",
   "mimetype": "text/x-python",
   "codemirror_mode": {
    "name": "ipython",
    "version": 3
   },
   "pygments_lexer": "ipython3",
   "nbconvert_exporter": "python",
   "file_extension": ".py"
  },
  "kernelspec": {
   "name": "python3",
   "display_name": "Python 3.7.10 64-bit ('FFDataProject': conda)"
  },
  "interpreter": {
   "hash": "0d7f2d61979526d851052c73aa4fecb27e148009fc0cdd501146fb697de57875"
  }
 },
 "nbformat": 4,
 "nbformat_minor": 2
}