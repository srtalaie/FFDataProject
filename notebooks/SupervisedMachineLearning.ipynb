{
 "cells": [
  {
   "cell_type": "code",
   "execution_count": null,
   "source": [
    "import os\n",
    "import sys\n",
    "src_dir = os.path.join(os.getcwd(), '..', 'src')\n",
    "sys.path.append(src_dir)\n",
    "\n",
    "from utils import GLOBAL, functions"
   ],
   "outputs": [],
   "metadata": {}
  },
  {
   "cell_type": "code",
   "execution_count": null,
   "source": [
    "import pandas as pd\n",
    "import numpy as np\n",
    "from sklearn.linear_model import LinearRegression, ElasticNet\n",
    "from sklearn.model_selection import train_test_split\n",
    "from sklearn.metrics import mean_absolute_error"
   ],
   "outputs": [],
   "metadata": {}
  },
  {
   "cell_type": "code",
   "execution_count": 16,
   "source": [
    "data_df = pd.DataFrame()\n",
    "\n",
    "yearStart = 2014\n",
    "yearEnd = 2021\n",
    "\n",
    "WEEKLY_BASE_URL = \"https://raw.githubusercontent.com/fantasydatapros/data/master/weekly/{year}/week{week}.csv\"\n",
    "\n",
    "for year in range(yearStart, yearEnd):\n",
    "    for week in range(1, 18):\n",
    "        weekly_df = pd.read_csv(WEEKLY_BASE_URL.format(year=year, week=week))\n",
    "        weekly_df['Year'] = year\n",
    "        weekly_df['Week'] = week\n",
    "        weekly_df['Usage'] = (weekly_df['PassingAtt'] + weekly_df['RushingAtt'] + weekly_df['Tgt'])\n",
    "        data_df = pd.concat([data_df, weekly_df])"
   ],
   "outputs": [],
   "metadata": {}
  },
  {
   "cell_type": "code",
   "execution_count": 21,
   "source": [
    "data_df = data_df.groupby(['Player', 'Pos', 'Tm', 'Year'], as_index=False)\\\n",
    "    .agg({\n",
    "        'Usage': np.sum,\n",
    "        'PassingYds': np.sum,\n",
    "        'PassingTD': np.sum,\n",
    "        'PassingAtt': np.sum,\n",
    "        'RushingAtt': np.sum,\n",
    "        'RushingYds': np.sum,\n",
    "        'RushingTD': np.sum,\n",
    "        'Rec': np.sum,\n",
    "        'Tgt': np.sum,\n",
    "        'ReceivingYds': np.sum,\n",
    "        'ReceivingTD': np.sum,\n",
    "        'PPRFantasyPoints': np.sum,\n",
    "        'StandardFantasyPoints': np.sum,\n",
    "        'HalfPPRFantasyPoints': np.sum\n",
    "    })"
   ],
   "outputs": [],
   "metadata": {}
  },
  {
   "cell_type": "code",
   "execution_count": null,
   "source": [],
   "outputs": [],
   "metadata": {}
  }
 ],
 "metadata": {
  "orig_nbformat": 4,
  "language_info": {
   "name": "python",
   "version": "3.7.10",
   "mimetype": "text/x-python",
   "codemirror_mode": {
    "name": "ipython",
    "version": 3
   },
   "pygments_lexer": "ipython3",
   "nbconvert_exporter": "python",
   "file_extension": ".py"
  },
  "kernelspec": {
   "name": "python3",
   "display_name": "Python 3.7.10 64-bit ('FFDataProject': conda)"
  },
  "interpreter": {
   "hash": "0d7f2d61979526d851052c73aa4fecb27e148009fc0cdd501146fb697de57875"
  }
 },
 "nbformat": 4,
 "nbformat_minor": 2
}