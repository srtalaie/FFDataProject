{
 "cells": [
  {
   "cell_type": "code",
   "execution_count": 13,
   "source": [
    "import os\n",
    "import sys\n",
    "src_dir = os.path.join(os.getcwd(), '..', 'src')\n",
    "sys.path.append(src_dir)\n",
    "\n",
    "from utils import GLOBAL, functions"
   ],
   "outputs": [],
   "metadata": {}
  },
  {
   "cell_type": "code",
   "execution_count": 14,
   "source": [
    "import pandas as pd"
   ],
   "outputs": [],
   "metadata": {}
  },
  {
   "cell_type": "code",
   "execution_count": 15,
   "source": [
    "proj_df = pd.read_csv(GLOBAL.PROJECTIONS_2021, index_col=0)"
   ],
   "outputs": [],
   "metadata": {}
  },
  {
   "cell_type": "code",
   "execution_count": 16,
   "source": [
    "#Get dataframes of specific pos\n",
    "rb_proj_df = proj_df[proj_df['Pos'] == 'RB']\n",
    "wr_proj_df = proj_df[proj_df['Pos'] == 'WR']\n",
    "te_proj_df = proj_df[proj_df['Pos'] == 'TE']\n",
    "qb_proj_df = proj_df[proj_df['Pos'] == 'QB']"
   ],
   "outputs": [],
   "metadata": {}
  },
  {
   "cell_type": "code",
   "execution_count": 17,
   "source": [
    "#ADP for current year and scoring format\n",
    "adp_df = pd.read_csv(GLOBAL.ADP_2021_HALF_PPR, index_col=0)\n",
    "\n",
    "adp_df['ADP RANK'] = adp_df['AVG'].rank()\n",
    "\n",
    "adp_df_cutoff = adp_df[:100]\n",
    "\n",
    "replacement_players = {\n",
    "    'RB': '',\n",
    "    'WR': '',\n",
    "    'TE': '',\n",
    "    'QB': ''\n",
    "}"
   ],
   "outputs": [],
   "metadata": {}
  },
  {
   "cell_type": "code",
   "execution_count": 18,
   "source": [
    "for _, row in adp_df_cutoff.iterrows():\n",
    "    position = row['POS'][:2]\n",
    "    player = row['Player']\n",
    "\n",
    "    if position in replacement_players:\n",
    "        replacement_players[position] = player"
   ],
   "outputs": [],
   "metadata": {}
  },
  {
   "cell_type": "code",
   "execution_count": 19,
   "source": [
    "vor_df = proj_df[['Player', 'Pos', 'Tm', 'Half PPR']]"
   ],
   "outputs": [],
   "metadata": {}
  },
  {
   "cell_type": "code",
   "execution_count": 20,
   "source": [
    "replacement_values = {}\n",
    "\n",
    "for position, player_name in replacement_players.items():\n",
    "    player = vor_df.loc[vor_df['Player'] == player_name]\n",
    "    replacement_values[position] = player['Half PPR'].tolist()[0]"
   ],
   "outputs": [],
   "metadata": {}
  },
  {
   "cell_type": "code",
   "execution_count": null,
   "source": [],
   "outputs": [],
   "metadata": {}
  }
 ],
 "metadata": {
  "orig_nbformat": 4,
  "language_info": {
   "name": "python",
   "version": "3.7.10",
   "mimetype": "text/x-python",
   "codemirror_mode": {
    "name": "ipython",
    "version": 3
   },
   "pygments_lexer": "ipython3",
   "nbconvert_exporter": "python",
   "file_extension": ".py"
  },
  "kernelspec": {
   "name": "python3",
   "display_name": "Python 3.7.10 64-bit ('FFDataProject': conda)"
  },
  "interpreter": {
   "hash": "0d7f2d61979526d851052c73aa4fecb27e148009fc0cdd501146fb697de57875"
  }
 },
 "nbformat": 4,
 "nbformat_minor": 2
}