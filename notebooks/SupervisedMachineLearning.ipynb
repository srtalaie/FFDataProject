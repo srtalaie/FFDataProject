{
 "cells": [
  {
   "cell_type": "code",
   "execution_count": null,
   "metadata": {},
   "outputs": [],
   "source": [
    "import os\n",
    "import sys\n",
    "src_dir = os.path.join(os.getcwd(), '..', 'src')\n",
    "sys.path.append(src_dir)\n",
    "\n",
    "from utils import GLOBAL, functions"
   ]
  },
  {
   "cell_type": "code",
   "execution_count": null,
   "metadata": {},
   "outputs": [],
   "source": [
    "import pandas as pd\n",
    "import numpy as np\n",
    "from sklearn.linear_model import LinearRegression, ElasticNet\n",
    "from sklearn.model_selection import train_test_split\n",
    "from sklearn.metrics import mean_absolute_error"
   ]
  },
  {
   "cell_type": "code",
   "execution_count": null,
   "metadata": {},
   "outputs": [],
   "source": [
    "data_df = pd.DataFrame()\n",
    "\n",
    "yearStart = 2014\n",
    "yearEnd = 2021\n",
    "\n",
    "WEEKLY_BASE_URL = \"https://raw.githubusercontent.com/fantasydatapros/data/master/weekly/{year}/week{week}.csv\"\n",
    "\n",
    "for year in range(yearStart, yearEnd):\n",
    "    for week in range(1, 18):\n",
    "        weekly_df = pd.read_csv(WEEKLY_BASE_URL.format(year=year, week=week))\n",
    "        weekly_df['Year'] = year\n",
    "        weekly_df['Week'] = week\n",
    "        weekly_df['Usage'] = (weekly_df['PassingAtt'] + weekly_df['RushingAtt'] + weekly_df['Tgt'])\n",
    "        data_df = pd.concat([data_df, weekly_df])"
   ]
  },
  {
   "cell_type": "code",
   "execution_count": null,
   "metadata": {},
   "outputs": [],
   "source": [
    "#Cleaning up TM values\n",
    "data_df.loc[(data_df['Tm'] == 'OTI'), 'Tm'] = 'TEN'\n",
    "data_df.loc[(data_df['Tm'] == 'RAM'), 'Tm'] = 'LAR'\n",
    "data_df.loc[(data_df['Tm'] == 'STL'), 'Tm'] = 'LAR'\n",
    "data_df.loc[(data_df['Tm'] == 'HTX'), 'Tm'] = 'HOU'\n",
    "data_df.loc[(data_df['Tm'] == 'SDG'), 'Tm'] = 'LAC'\n",
    "data_df.loc[(data_df['Tm'] == 'OAK'), 'Tm'] = 'LV'\n",
    "data_df.loc[(data_df['Tm'] == 'RAI'), 'Tm'] = 'LV'\n",
    "data_df.loc[(data_df['Tm'] == 'CLT'), 'Tm'] = 'IND'\n",
    "data_df.loc[(data_df['Tm'] == 'RAV'), 'Tm'] = 'BAL'\n",
    "data_df.loc[(data_df['Tm'] == 'CRD'), 'Tm'] = 'ARI'\n",
    "data_df.loc[(data_df['Tm'] == 'NOR'), 'Tm'] = 'NO'"
   ]
  },
  {
   "cell_type": "code",
   "execution_count": null,
   "metadata": {},
   "outputs": [],
   "source": [
    "data_df = data_df.groupby(['Player', 'Pos', 'Tm', 'Year'], as_index=False)\\\n",
    "    .agg({\n",
    "        'Usage': np.sum,\n",
    "        'PassingYds': np.sum,\n",
    "        'PassingTD': np.sum,\n",
    "        'PassingAtt': np.sum,\n",
    "        'RushingAtt': np.sum,\n",
    "        'RushingYds': np.sum,\n",
    "        'RushingTD': np.sum,\n",
    "        'Rec': np.sum,\n",
    "        'Tgt': np.sum,\n",
    "        'ReceivingYds': np.sum,\n",
    "        'ReceivingTD': np.sum,\n",
    "        'PPRFantasyPoints': np.sum,\n",
    "        'StandardFantasyPoints': np.sum,\n",
    "        'HalfPPRFantasyPoints': np.sum\n",
    "    })"
   ]
  },
  {
   "cell_type": "code",
   "execution_count": null,
   "metadata": {},
   "outputs": [],
   "source": [
    "#Set Scoring format that will be used below ('HalfPPR', 'PPR', or 'Standard')\n",
    "scoring_format = 'HalfPPR'"
   ]
  },
  {
   "cell_type": "code",
   "execution_count": null,
   "metadata": {},
   "outputs": [],
   "source": [
    "pd.set_option('chained_assignment', None)\n",
    "\n",
    "lag_features = [\n",
    "    'RushingAtt',\n",
    "    'Tgt',\n",
    "    'Usage', \n",
    "    f'{scoring_format}FantasyPoints', \n",
    "    'PassingAtt', \n",
    "    'PassingTD'\n",
    "]\n",
    "\n",
    "for lag in range(1, 7):\n",
    "    shifted = data_df.groupby('Player').shift(lag)\n",
    "\n",
    "    for column in lag_features:\n",
    "        data_df[f'lag_{column}_{lag}'] = shifted[column]\n",
    "        \n",
    "data_df = data_df.fillna(-1)"
   ]
  },
  {
   "cell_type": "code",
   "execution_count": null,
   "metadata": {},
   "outputs": [],
   "source": [
    "#Separate by pos\n",
    "wr_df = data_df.loc[data_df['Pos'] == 'WR']\n",
    "rb_df = data_df.loc[data_df['Pos'] == 'RB']\n",
    "te_df = data_df.loc[data_df['Pos'] == 'TE']\n",
    "qb_df = data_df.loc[data_df['Pos'] == 'QB']"
   ]
  },
  {
   "cell_type": "markdown",
   "metadata": {},
   "source": [
    "WRs"
   ]
  },
  {
   "cell_type": "code",
   "execution_count": null,
   "metadata": {},
   "outputs": [],
   "source": [
    "X = wr_df[['lag_Tgt_1', 'lag_RushingAtt_1', 'lag_PassingAtt_1', 'lag_Usage_1', f'lag_{scoring_format}FantasyPoints_1']]\n",
    "y = wr_df[f'{scoring_format}FantasyPoints'].values\n",
    "\n",
    "WR_X_train, WR_X_test, WR_y_train, WR_y_test = train_test_split(X, y, test_size=0.2, random_state=10)\n",
    "\n",
    "lr = LinearRegression()\n",
    "\n",
    "lr.fit(WR_X_train, WR_y_train)\n",
    "\n",
    "WR_y_predict = lr.predict(WR_X_test)\n",
    "\n",
    "mean_absolute_error(WR_y_test, WR_y_predict)"
   ]
  },
  {
   "cell_type": "code",
   "execution_count": null,
   "metadata": {},
   "outputs": [],
   "source": [
    "wr_df_pred = wr_df.loc[\n",
    "    (wr_df['Usage'] > 50) & (wr_df['Year'] == 2020),\n",
    "     ['Player', 'Tgt', 'RushingAtt', 'PassingAtt', 'Usage', f'{scoring_format}FantasyPoints']\n",
    "]\n",
    "\n",
    "wr_df_pred['Predicted_2021'] = lr.predict(\n",
    "    wr_df_pred[['Tgt', 'RushingAtt', 'PassingAtt', 'Usage', f'{scoring_format}FantasyPoints']].values\n",
    ")\n",
    "\n",
    "wr_df_pred.sort_values(by='Predicted_2021', ascending=False).head(100)"
   ]
  },
  {
   "cell_type": "markdown",
   "metadata": {},
   "source": [
    "RBs"
   ]
  },
  {
   "cell_type": "code",
   "execution_count": null,
   "metadata": {},
   "outputs": [],
   "source": [
    "X = rb_df[['lag_Tgt_1', 'lag_RushingAtt_1', 'lag_PassingAtt_1', 'lag_Usage_1', f'lag_{scoring_format}FantasyPoints_1']]\n",
    "y = rb_df[f'{scoring_format}FantasyPoints'].values\n",
    "\n",
    "RB_X_train, RB_X_test, RB_y_train, RB_y_test = train_test_split(X, y, test_size=0.2, random_state=10)\n",
    "\n",
    "lr = LinearRegression()\n",
    "\n",
    "lr.fit(RB_X_train, RB_y_train)\n",
    "\n",
    "RB_y_predict = lr.predict(RB_X_test)\n",
    "\n",
    "mean_absolute_error(RB_y_test, RB_y_predict)"
   ]
  },
  {
   "cell_type": "code",
   "execution_count": null,
   "metadata": {},
   "outputs": [],
   "source": [
    "rb_df_pred = rb_df.loc[\n",
    "    (rb_df['Usage'] > 50) & (rb_df['Year'] == 2020),\n",
    "     ['Player', 'Tgt', 'RushingAtt', 'PassingAtt', 'Usage', f'{scoring_format}FantasyPoints']\n",
    "]\n",
    "\n",
    "rb_df_pred['Predicted_2021'] = lr.predict(\n",
    "    rb_df_pred[['Tgt', 'RushingAtt', 'PassingAtt', 'Usage', f'{scoring_format}FantasyPoints']].values\n",
    ")\n",
    "\n",
    "rb_df_pred.sort_values(by='Predicted_2021', ascending=False).head(100)"
   ]
  },
  {
   "cell_type": "markdown",
   "metadata": {},
   "source": [
    "TEs"
   ]
  },
  {
   "cell_type": "code",
   "execution_count": null,
   "metadata": {},
   "outputs": [],
   "source": [
    "X = te_df[['lag_Tgt_1', 'lag_RushingAtt_1', 'lag_PassingAtt_1', 'lag_Usage_1', f'lag_{scoring_format}FantasyPoints_1']]\n",
    "y = te_df[f'{scoring_format}FantasyPoints'].values\n",
    "\n",
    "TE_X_train, TE_X_test, TE_y_train, TE_y_test = train_test_split(X, y, test_size=0.2, random_state=10)\n",
    "\n",
    "lr = LinearRegression()\n",
    "\n",
    "lr.fit(TE_X_train, TE_y_train)\n",
    "\n",
    "TE_y_predict = lr.predict(TE_X_test)\n",
    "\n",
    "mean_absolute_error(TE_y_test, TE_y_predict)"
   ]
  },
  {
   "cell_type": "code",
   "execution_count": null,
   "metadata": {},
   "outputs": [],
   "source": [
    "te_df_pred = te_df.loc[\n",
    "    (te_df['Usage'] > 50) & (te_df['Year'] == 2020),\n",
    "     ['Player', 'Tgt', 'RushingAtt', 'PassingAtt', 'Usage', f'{scoring_format}FantasyPoints']\n",
    "]\n",
    "\n",
    "te_df_pred['Predicted_2021'] = lr.predict(\n",
    "    te_df_pred[['Tgt', 'RushingAtt', 'PassingAtt', 'Usage', f'{scoring_format}FantasyPoints']].values\n",
    ")\n",
    "\n",
    "te_df_pred.sort_values(by='Predicted_2021', ascending=False).head(100)"
   ]
  },
  {
   "cell_type": "markdown",
   "metadata": {},
   "source": [
    "QBs"
   ]
  },
  {
   "cell_type": "code",
   "execution_count": null,
   "metadata": {},
   "outputs": [],
   "source": [
    "X = qb_df[['lag_Tgt_1', 'lag_RushingAtt_1', 'lag_PassingAtt_1', 'lag_Usage_1', f'lag_{scoring_format}FantasyPoints_1']]\n",
    "y = qb_df[f'{scoring_format}FantasyPoints'].values\n",
    "\n",
    "QB_X_train, QB_X_test, QB_y_train, QB_y_test = train_test_split(X, y, test_size=0.2, random_state=10)\n",
    "\n",
    "lr = LinearRegression()\n",
    "\n",
    "lr.fit(QB_X_train, QB_y_train)\n",
    "\n",
    "QB_y_predict = lr.predict(QB_X_test)\n",
    "\n",
    "mean_absolute_error(QB_y_test, QB_y_predict)"
   ]
  },
  {
   "cell_type": "code",
   "execution_count": null,
   "metadata": {},
   "outputs": [],
   "source": [
    "qb_df_pred = qb_df.loc[\n",
    "    (qb_df['Usage'] > 50) & (qb_df['Year'] == 2020),\n",
    "     ['Player', 'Tgt', 'RushingAtt', 'PassingAtt', 'Usage', f'{scoring_format}FantasyPoints']\n",
    "]\n",
    "\n",
    "qb_df_pred['Predicted_2021'] = lr.predict(\n",
    "    qb_df_pred[['Tgt', 'RushingAtt', 'PassingAtt', 'Usage', f'{scoring_format}FantasyPoints']].values\n",
    ")\n",
    "\n",
    "qb_df_pred.sort_values(by='Predicted_2021', ascending=False).head(100)"
   ]
  }
 ],
 "metadata": {
  "interpreter": {
   "hash": "470f9cc87c144e2bc280a6fea1ab741fbc727148817f4daaf0eac00c0fbf6704"
  },
  "kernelspec": {
   "display_name": "Python 3.7.10 64-bit ('FFDataProject': conda)",
   "name": "python3"
  },
  "language_info": {
   "codemirror_mode": {
    "name": "ipython",
    "version": 3
   },
   "file_extension": ".py",
   "mimetype": "text/x-python",
   "name": "python",
   "nbconvert_exporter": "python",
   "pygments_lexer": "ipython3",
   "version": "3.7.10"
  },
  "orig_nbformat": 4
 },
 "nbformat": 4,
 "nbformat_minor": 2
}
