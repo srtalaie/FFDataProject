{
 "cells": [
  {
   "cell_type": "code",
   "execution_count": 1,
   "source": [
    "import os\n",
    "import sys\n",
    "src_dir = os.path.join(os.getcwd(), '..', 'src')\n",
    "sys.path.append(src_dir)\n",
    "\n",
    "from utils import GLOBAL, functions"
   ],
   "outputs": [],
   "metadata": {}
  },
  {
   "cell_type": "code",
   "execution_count": 2,
   "source": [
    "import pandas as pd\n",
    "import numpy as np\n",
    "from sklearn.linear_model import LinearRegression, ElasticNet\n",
    "from sklearn.model_selection import train_test_split\n",
    "from sklearn.metrics import mean_absolute_error"
   ],
   "outputs": [],
   "metadata": {}
  },
  {
   "cell_type": "code",
   "execution_count": 21,
   "source": [
    "data_df = pd.DataFrame()\n",
    "\n",
    "yearStart = 2014\n",
    "yearEnd = 2021\n",
    "\n",
    "WEEKLY_BASE_URL = \"https://raw.githubusercontent.com/fantasydatapros/data/master/weekly/{year}/week{week}.csv\"\n",
    "\n",
    "for year in range(yearStart, yearEnd):\n",
    "    for week in range(1, 18):\n",
    "        weekly_df = pd.read_csv(WEEKLY_BASE_URL.format(year=year, week=week))\n",
    "        weekly_df['Year'] = year\n",
    "        weekly_df['Week'] = week\n",
    "        weekly_df['Usage'] = (weekly_df['PassingAtt'] + weekly_df['RushingAtt'] + weekly_df['Tgt'])\n",
    "        data_df = pd.concat([data_df, weekly_df])"
   ],
   "outputs": [],
   "metadata": {}
  },
  {
   "cell_type": "code",
   "execution_count": 42,
   "source": [
    "#Cleaning up TM values\n",
    "data_df.loc[(data_df['Tm'] == 'OTI'), 'Tm'] = 'TEN'\n",
    "data_df.loc[(data_df['Tm'] == 'RAM'), 'Tm'] = 'LAR'\n",
    "data_df.loc[(data_df['Tm'] == 'STL'), 'Tm'] = 'LAR'\n",
    "data_df.loc[(data_df['Tm'] == 'HTX'), 'Tm'] = 'HOU'\n",
    "data_df.loc[(data_df['Tm'] == 'SDG'), 'Tm'] = 'LAC'\n",
    "data_df.loc[(data_df['Tm'] == 'OAK'), 'Tm'] = 'LV'\n",
    "data_df.loc[(data_df['Tm'] == 'RAI'), 'Tm'] = 'LV'\n",
    "data_df.loc[(data_df['Tm'] == 'CLT'), 'Tm'] = 'IND'\n",
    "data_df.loc[(data_df['Tm'] == 'RAV'), 'Tm'] = 'BAL'\n",
    "data_df.loc[(data_df['Tm'] == 'CRD'), 'Tm'] = 'ARI'\n",
    "data_df.loc[(data_df['Tm'] == 'NOR'), 'Tm'] = 'NO'"
   ],
   "outputs": [],
   "metadata": {}
  },
  {
   "cell_type": "code",
   "execution_count": 44,
   "source": [
    "data_df = data_df.groupby(['Player', 'Pos', 'Tm', 'Year'], as_index=False)\\\n",
    "    .agg({\n",
    "        'Usage': np.sum,\n",
    "        'PassingYds': np.sum,\n",
    "        'PassingTD': np.sum,\n",
    "        'PassingAtt': np.sum,\n",
    "        'RushingAtt': np.sum,\n",
    "        'RushingYds': np.sum,\n",
    "        'RushingTD': np.sum,\n",
    "        'Rec': np.sum,\n",
    "        'Tgt': np.sum,\n",
    "        'ReceivingYds': np.sum,\n",
    "        'ReceivingTD': np.sum,\n",
    "        'PPRFantasyPoints': np.sum,\n",
    "        'StandardFantasyPoints': np.sum,\n",
    "        'HalfPPRFantasyPoints': np.sum\n",
    "    })"
   ],
   "outputs": [],
   "metadata": {}
  },
  {
   "cell_type": "code",
   "execution_count": 45,
   "source": [
    "#Set Scoring format that will be used below ('HalfPPR', 'PPR', or 'Standard')\n",
    "scoring_format = 'HalfPPR'"
   ],
   "outputs": [],
   "metadata": {}
  },
  {
   "cell_type": "code",
   "execution_count": 49,
   "source": [
    "pd.set_option('chained_assignment', None)\n",
    "\n",
    "lag_features = [\n",
    "    'RushingAtt',\n",
    "    'Tgt',\n",
    "    'Usage', \n",
    "    f'{scoring_format}FantasyPoints', \n",
    "    'PassingAtt', \n",
    "    'PassingTD'\n",
    "]\n",
    "\n",
    "for lag in range(1, 7):\n",
    "    shifted = data_df.groupby('Player').shift(lag)\n",
    "\n",
    "    for column in lag_features:\n",
    "        data_df[f'lag_{column}_{lag}'] = shifted[column]\n",
    "        \n",
    "data_df = data_df.fillna(-1)"
   ],
   "outputs": [],
   "metadata": {}
  },
  {
   "cell_type": "code",
   "execution_count": 53,
   "source": [
    "#Separate by pos\n",
    "wr_df = data_df.loc[data_df['Pos'] == 'WR']\n",
    "rb_df = data_df.loc[data_df['Pos'] == 'RB']\n",
    "te_df = data_df.loc[data_df['Pos'] == 'TE']\n",
    "qb_df = data_df.loc[data_df['Pos'] == 'QB']"
   ],
   "outputs": [],
   "metadata": {}
  }
 ],
 "metadata": {
  "orig_nbformat": 4,
  "language_info": {
   "name": "python",
   "version": "3.7.10",
   "mimetype": "text/x-python",
   "codemirror_mode": {
    "name": "ipython",
    "version": 3
   },
   "pygments_lexer": "ipython3",
   "nbconvert_exporter": "python",
   "file_extension": ".py"
  },
  "kernelspec": {
   "name": "python3",
   "display_name": "Python 3.7.10 64-bit ('FFDataProject': conda)"
  },
  "interpreter": {
   "hash": "0d7f2d61979526d851052c73aa4fecb27e148009fc0cdd501146fb697de57875"
  }
 },
 "nbformat": 4,
 "nbformat_minor": 2
}