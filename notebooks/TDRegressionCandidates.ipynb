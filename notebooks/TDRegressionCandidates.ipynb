{
 "cells": [
  {
   "cell_type": "code",
   "execution_count": 5,
   "metadata": {},
   "outputs": [],
   "source": [
    "import os\n",
    "import sys\n",
    "src_dir = os.path.join(os.getcwd())\n",
    "abs_path = os.path.abspath(os.path.join(src_dir, os.pardir, 'src'))\n",
    "sys.path.append(abs_path)\n",
    "\n",
    "from utils import GLOBAL, functions"
   ]
  },
  {
   "cell_type": "code",
   "execution_count": 6,
   "metadata": {},
   "outputs": [],
   "source": [
    "import pandas as pd\n",
    "import nflfastpy as nfl\n",
    "from matplotlib import pyplot as plt\n",
    "import numpy as np\n",
    "import seaborn as sns\n",
    "sns.set_style('darkgrid')"
   ]
  },
  {
   "cell_type": "code",
   "execution_count": 7,
   "metadata": {},
   "outputs": [],
   "source": [
    "#Change start and end for range\n",
    "pbp_df = pd.DataFrame()\n",
    "year_start = 2016\n",
    "year_end = 2021"
   ]
  },
  {
   "cell_type": "code",
   "execution_count": 8,
   "metadata": {},
   "outputs": [],
   "source": [
    "#Get roster based on last season, change date to last seasons\n",
    "roster = nfl.load_roster_data(2021)"
   ]
  },
  {
   "cell_type": "code",
   "execution_count": 9,
   "metadata": {},
   "outputs": [],
   "source": [
    "#Get yearly pbp data for past 5 years WARNING: Takes a long time\n",
    "for year in range(year_start, year_end):\n",
    "    yearly_df = nfl.load_pbp_data(year)\n",
    "    pbp_df = pd.concat([pbp_df, yearly_df])"
   ]
  },
  {
   "cell_type": "code",
   "execution_count": 10,
   "metadata": {},
   "outputs": [],
   "source": [
    "#Filter rushing data\n",
    "\n",
    "#rush_attempt = 1 if it was a rush_attempt, same with rush_touchdown, & two_point_attempt = 0 to filter out 2pt conversions\n",
    "rushing_df = pbp_df[['rush_attempt', 'rush_touchdown', 'yardline_100', 'two_point_attempt']]\n",
    "\n",
    "rushing_df = rushing_df.loc[\n",
    "    (rushing_df['two_point_attempt'] == 0) & (rushing_df['rush_attempt'] == 1)\n",
    "]"
   ]
  },
  {
   "cell_type": "code",
   "execution_count": 11,
   "metadata": {},
   "outputs": [],
   "source": [
    "#Filter receiving data\n",
    "\n",
    "#pass_attempt = 1 if it was a rush_attempt, same with pass_touchdown, & two_point_attempt = 0 to filter out 2pt conversions\n",
    "receiving_df = pbp_df[['pass_attempt', 'pass_touchdown', 'yardline_100', 'two_point_attempt']]\n",
    "\n",
    "receiving_df = receiving_df.loc[\n",
    "    (receiving_df['two_point_attempt'] == 0) & (receiving_df['pass_attempt'] == 1)\n",
    "]"
   ]
  },
  {
   "cell_type": "code",
   "execution_count": 12,
   "metadata": {},
   "outputs": [],
   "source": [
    "#Here, we are grouping by the yardline from where the play began, and then using value counts to count the number of times a rushing play was a touchdown (either a 0 or a 1), we can set the argument normalize = True to be able to calculate the proportion of plays that were touchdowns, instead of the count.\n",
    "\n",
    "rushing_df_probs = rushing_df.groupby('yardline_100')['rush_touchdown'].value_counts(normalize=True)\n",
    "\n",
    "rushing_df_probs = pd.DataFrame({\n",
    "    'probability_of_td': rushing_df_probs.values\n",
    "}, index=rushing_df_probs.index).reset_index()\n",
    "\n",
    "#Filter out prob of not a td\n",
    "rushing_df_probs = rushing_df_probs.loc[rushing_df_probs['rush_touchdown'] == 1]\n",
    "\n",
    "rushing_df_probs = rushing_df_probs.drop('rush_touchdown', axis=1)"
   ]
  },
  {
   "cell_type": "code",
   "execution_count": 13,
   "metadata": {},
   "outputs": [],
   "source": [
    "receiving_df_probs = receiving_df.groupby('yardline_100')['pass_touchdown'].value_counts(normalize=True)\n",
    "\n",
    "receiving_df_probs = pd.DataFrame({\n",
    "    'probability_of_td': receiving_df_probs.values\n",
    "}, index=receiving_df_probs.index).reset_index()\n",
    "\n",
    "#Filter out prob of not a td\n",
    "receiving_df_probs = receiving_df_probs.loc[receiving_df_probs['pass_touchdown'] == 1]\n",
    "\n",
    "receiving_df_probs = receiving_df_probs.drop('pass_touchdown', axis=1)"
   ]
  },
  {
   "cell_type": "code",
   "execution_count": 14,
   "metadata": {},
   "outputs": [],
   "source": [
    "#Get PBP from the last season which is year_end variable\n",
    "last_season_pbp_df = nfl.load_pbp_data(year_end)"
   ]
  },
  {
   "cell_type": "code",
   "execution_count": 15,
   "metadata": {},
   "outputs": [],
   "source": [
    "#Filter out positions from last years rosters\n",
    "#RBs\n",
    "rb_df = roster.loc[roster['position'] == 'RB']['gsis_id']\n",
    "#WRs\n",
    "wr_df = roster.loc[roster['position'] == 'WR']['gsis_id']\n",
    "#TEs\n",
    "te_df = roster.loc[roster['position'] == 'TE']['gsis_id']"
   ]
  },
  {
   "cell_type": "markdown",
   "metadata": {},
   "source": [
    "#RB TD Regression"
   ]
  },
  {
   "cell_type": "code",
   "execution_count": 16,
   "metadata": {},
   "outputs": [],
   "source": [
    "#Get rushing data from last season pbp\n",
    "last_season_RB_rushing_df = last_season_pbp_df.loc[last_season_pbp_df['rush_attempt'] == 1, ['rusher_id', 'rusher_player_name', 'posteam', 'rush_attempt', 'rush_touchdown', 'yardline_100']]\n",
    "\n",
    "#Filter out RBs\n",
    "last_season_RB_rushing_df = last_season_RB_rushing_df.loc[last_season_RB_rushing_df['rusher_id'].isin(rb_df)]\n",
    "\n",
    "#Merge Probability df with Rushing\n",
    "last_season_RB_rushing_df = last_season_RB_rushing_df.merge(rushing_df_probs, how='left', on='yardline_100')\n",
    "\n",
    "#Calculate the actual touchdowns rb scored by aggregating all instances where the rush_touchdown == 1 & calculate aggregate of all instances where the probability of scoring a touchdown from that area of the field change names to better reflect what they represent\n",
    "last_season_RB_rushing_df = last_season_RB_rushing_df.groupby('rusher_id', as_index=False).agg({\n",
    "    'rusher_player_name': 'first',\n",
    "    'rush_touchdown': np.sum,\n",
    "    'probability_of_td': np.sum\n",
    "}).rename({\n",
    "    'probability_of_td': 'expected_touchdowns',\n",
    "    'rush_touchdown': 'actual_touchdowns'\n",
    "}, axis=1)\n",
    "\n",
    "#Determine if positive regression candidate by comparing actual scored touchdowns vs expected touchdowns\n",
    "last_season_RB_rushing_df['positive_regression_candidate'] = last_season_RB_rushing_df['actual_touchdowns'] < last_season_RB_rushing_df['expected_touchdowns']\n",
    "\n",
    "#Get delta between expected vs actual tds\n",
    "last_season_RB_rushing_df['delta'] = last_season_RB_rushing_df.apply(\n",
    "    lambda x: abs(x.expected_touchdowns - x.actual_touchdowns), axis=1\n",
    ")\n",
    "\n",
    "last_season_RB_rushing_df = last_season_RB_rushing_df.sort_values(by='expected_touchdowns', ascending=False)"
   ]
  },
  {
   "cell_type": "markdown",
   "metadata": {},
   "source": [
    "#WR TD Regression"
   ]
  },
  {
   "cell_type": "code",
   "execution_count": 17,
   "metadata": {},
   "outputs": [],
   "source": [
    "#Get receiving data from last season pbp\n",
    "last_season_WR_receiving_df = last_season_pbp_df.loc[last_season_pbp_df['pass_attempt'] == 1, ['receiver_id', 'receiver_player_name', 'posteam', 'pass_attempt', 'pass_touchdown', 'yardline_100']]\n",
    "\n",
    "#Filter out WRs\n",
    "last_season_WR_receiving_df = last_season_WR_receiving_df.loc[last_season_WR_receiving_df['receiver_id'].isin(wr_df)]\n",
    "\n",
    "#Merge Probability df with receiving\n",
    "last_season_WR_receiving_df = last_season_WR_receiving_df.merge(receiving_df_probs, how='left', on='yardline_100')\n",
    "\n",
    "#Calculate the actual touchdowns rb scored by aggregating all instances where the rush_touchdown == 1 & calculate aggregate of all instances where the probability of scoring a touchdown from that area of the field change names to better reflect what they represent\n",
    "last_season_WR_receiving_df = last_season_WR_receiving_df.groupby('receiver_id', as_index=False).agg({\n",
    "    'receiver_player_name': 'first',\n",
    "    'pass_touchdown': np.sum,\n",
    "    'probability_of_td': np.sum\n",
    "}).rename({\n",
    "    'probability_of_td': 'expected_touchdowns',\n",
    "    'pass_touchdown': 'actual_touchdowns'\n",
    "}, axis=1)\n",
    "\n",
    "#Determine if positive regression candidate by comparing actual scored touchdowns vs expected touchdowns\n",
    "last_season_WR_receiving_df['positive_regression_candidate'] = last_season_WR_receiving_df['actual_touchdowns'] < last_season_WR_receiving_df['expected_touchdowns']\n",
    "\n",
    "#Get delta between expected vs actual tds\n",
    "last_season_WR_receiving_df['delta'] = last_season_WR_receiving_df.apply(\n",
    "    lambda x: abs(x.expected_touchdowns - x.actual_touchdowns), axis=1\n",
    ")\n",
    "\n",
    "last_season_WR_receiving_df = last_season_WR_receiving_df.sort_values(by='expected_touchdowns', ascending=False)"
   ]
  },
  {
   "cell_type": "markdown",
   "metadata": {},
   "source": [
    "#TE TD Regression"
   ]
  },
  {
   "cell_type": "code",
   "execution_count": 18,
   "metadata": {},
   "outputs": [],
   "source": [
    "#Get receiving data from last season pbp\n",
    "last_season_TE_receiving_df = last_season_pbp_df.loc[last_season_pbp_df['pass_attempt'] == 1, ['receiver_id', 'receiver_player_name', 'posteam', 'pass_attempt', 'pass_touchdown', 'yardline_100']]\n",
    "\n",
    "#Filter out WRs\n",
    "last_season_TE_receiving_df = last_season_TE_receiving_df.loc[last_season_TE_receiving_df['receiver_id'].isin(te_df)]\n",
    "\n",
    "#Merge Probability df with receiving\n",
    "last_season_TE_receiving_df = last_season_TE_receiving_df.merge(receiving_df_probs, how='left', on='yardline_100')\n",
    "\n",
    "#Calculate the actual touchdowns rb scored by aggregating all instances where the rush_touchdown == 1 & calculate aggregate of all instances where the probability of scoring a touchdown from that area of the field change names to better reflect what they represent\n",
    "last_season_TE_receiving_df = last_season_TE_receiving_df.groupby('receiver_id', as_index=False).agg({\n",
    "    'receiver_player_name': 'first',\n",
    "    'pass_touchdown': np.sum,\n",
    "    'probability_of_td': np.sum\n",
    "}).rename({\n",
    "    'probability_of_td': 'expected_touchdowns',\n",
    "    'pass_touchdown': 'actual_touchdowns'\n",
    "}, axis=1)\n",
    "\n",
    "#Determine if positive regression candidate by comparing actual scored touchdowns vs expected touchdowns\n",
    "last_season_TE_receiving_df['positive_regression_candidate'] = last_season_TE_receiving_df['actual_touchdowns'] < last_season_TE_receiving_df['expected_touchdowns']\n",
    "\n",
    "#Get delta between expected vs actual tds\n",
    "last_season_TE_receiving_df['delta'] = last_season_TE_receiving_df.apply(\n",
    "    lambda x: abs(x.expected_touchdowns - x.actual_touchdowns), axis=1\n",
    ")\n",
    "\n",
    "last_season_TE_receiving_df = last_season_TE_receiving_df.sort_values(by='expected_touchdowns', ascending=False)"
   ]
  },
  {
   "cell_type": "code",
   "execution_count": null,
   "metadata": {},
   "outputs": [],
   "source": []
  }
 ],
 "metadata": {
  "kernelspec": {
   "display_name": "Python ('FFDataProsEnv')",
   "language": "python",
   "name": "python3"
  },
  "language_info": {
   "codemirror_mode": {
    "name": "ipython",
    "version": 3
   },
   "file_extension": ".py",
   "mimetype": "text/x-python",
   "name": "python",
   "nbconvert_exporter": "python",
   "pygments_lexer": "ipython3",
   "version": "3.10.0"
  },
  "orig_nbformat": 4,
  "vscode": {
   "interpreter": {
    "hash": "25a19fbe0a9132dfb9279d48d161753c6352f8f9478c2e74383d340069b907c3"
   }
  }
 },
 "nbformat": 4,
 "nbformat_minor": 2
}
