{
 "cells": [
  {
   "cell_type": "code",
   "execution_count": null,
   "metadata": {},
   "outputs": [],
   "source": [
    "import os\n",
    "import sys\n",
    "src_dir = os.path.join(os.getcwd(), '..', 'src')\n",
    "sys.path.append(src_dir)\n",
    "\n",
    "from utils import GLOBAL, functions"
   ]
  },
  {
   "cell_type": "code",
   "execution_count": null,
   "metadata": {},
   "outputs": [],
   "source": [
    "import pandas as pd\n",
    "import numpy as np\n",
    "from sklearn.cluster import KMeans\n",
    "from matplotlib import pyplot as plt\n",
    "import matplotlib.patches as mpatches\n",
    "import seaborn as sns"
   ]
  },
  {
   "cell_type": "code",
   "execution_count": null,
   "metadata": {},
   "outputs": [],
   "source": [
    "#Can either be: 'STD', 'PPR', or 'HALF_PPR\n",
    "scoring_format = 'HALF_PPR'\n",
    "\n",
    "ecr_df = pd.read_csv(f'https://raw.githubusercontent.com/fantasydatapros/data/master/fantasypros/ecr/2021/9_6_2021/{scoring_format}.csv').dropna()\n",
    "\n",
    "num_teams = 12\n",
    "num_roster_spots = 16\n",
    "\n",
    "draft_pool = num_teams * num_roster_spots\n",
    "\n",
    "ecr_df = ecr_df[:draft_pool]"
   ]
  },
  {
   "cell_type": "code",
   "execution_count": null,
   "metadata": {},
   "outputs": [],
   "source": [
    "pd.set_option('display.max_rows', None)\n",
    "\n",
    "X = ecr_df[['AVG.']].values\n",
    "\n",
    "#Boris Chen uses 25 for k\n",
    "k = 13\n",
    "\n",
    "model = KMeans(n_clusters=k)\n",
    "\n",
    "model.fit(X)\n",
    "\n",
    "labels = model.predict(X)"
   ]
  },
  {
   "cell_type": "code",
   "execution_count": null,
   "metadata": {},
   "outputs": [],
   "source": [
    "#Map labels to the teirs\n",
    "tiers = functions.assign_tiers(labels)\n",
    "\n",
    "ecr_df['Tier'] = tiers"
   ]
  },
  {
   "cell_type": "code",
   "execution_count": null,
   "metadata": {},
   "outputs": [],
   "source": [
    "sns.set_style('whitegrid')\n",
    "\n",
    "def make_clustering_viz(df, pos=None, figsize=(20, 20)):\n",
    "    if pos:\n",
    "        df = df.loc[df['POS'].str.contains(pos)]\n",
    "    colors = [\n",
    "        'purple', 'magenta', 'red', 'blue', 'orange', 'green', 'salmon', 'yellow', 'black', 'grey', '#3498db', '#16a085', '#f4d03f', '#f1948a', '#48c9b0', '#3498db', '#e74c3c', '#d7bde2', '#d0d3d4'\n",
    "    ]\n",
    "    colors = dict(zip(range(1, k+1), colors[:k]))\n",
    "\n",
    "    plt.figure(figsize=figsize)\n",
    "\n",
    "    plt.scatter(\n",
    "        x=df['AVG.'],\n",
    "        y=df['RK'],\n",
    "        c='#212f3d',\n",
    "        alpha=0.9,\n",
    "        s=7\n",
    "    )\n",
    "\n",
    "    yticks = []\n",
    "\n",
    "    for _, row in df.iterrows():\n",
    "       xmin = row['BEST']\n",
    "       xmax = row['WORST']\n",
    "       ymin, ymax = row['RK'], row['RK']\n",
    "\n",
    "       player = row['PLAYER NAME']\n",
    "\n",
    "       tier = row['Tier']\n",
    "\n",
    "       plt.plot(\n",
    "           (xmin, xmax), (ymin, ymax), c=colors.get(tier, 'black'), alpha=0.8\n",
    "       )\n",
    "\n",
    "       yticks.append(player)\n",
    "    \n",
    "    patches = []\n",
    "\n",
    "    for tier, color  in colors.items():\n",
    "        patch = mpatches.Patch(color=color, label=f'Tier {tier}')\n",
    "        patches.append(patch)\n",
    "\n",
    "    plt.legend(handles=patches, borderpad=1, fontsize=12)\n",
    "\n",
    "    plt.xlabel('Avg. Expert Rank', fontsize=12)\n",
    "    plt.ylabel('Expert Consensus Rank', fontsize=12)\n",
    "    plt.yticks(df['RK'], yticks, fontsize=12)\n",
    "\n",
    "    plt.title('Tiers for 2021 draft. ECR vs. Average Expert Rank', fontsize=12)\n",
    "\n",
    "    plt.gca().invert_yaxis()\n",
    "    plt.show()"
   ]
  },
  {
   "cell_type": "code",
   "execution_count": null,
   "metadata": {},
   "outputs": [],
   "source": [
    "make_clustering_viz(ecr_df, figsize=(10,40))"
   ]
  }
 ],
 "metadata": {
  "interpreter": {
   "hash": "470f9cc87c144e2bc280a6fea1ab741fbc727148817f4daaf0eac00c0fbf6704"
  },
  "kernelspec": {
   "display_name": "Python 3.7.10 64-bit ('FFDataProject': conda)",
   "name": "python3"
  },
  "language_info": {
   "codemirror_mode": {
    "name": "ipython",
    "version": 3
   },
   "file_extension": ".py",
   "mimetype": "text/x-python",
   "name": "python",
   "nbconvert_exporter": "python",
   "pygments_lexer": "ipython3",
   "version": "3.7.10"
  },
  "orig_nbformat": 4
 },
 "nbformat": 4,
 "nbformat_minor": 2
}
