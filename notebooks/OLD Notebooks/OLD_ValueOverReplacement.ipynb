{
 "cells": [
  {
   "cell_type": "code",
   "execution_count": null,
   "metadata": {},
   "outputs": [],
   "source": [
    "import os\n",
    "import sys\n",
    "src_dir = os.path.join(os.getcwd())\n",
    "abs_path = os.path.abspath(os.path.join(src_dir, os.pardir, 'src'))\n",
    "sys.path.append(abs_path)\n",
    "\n",
    "from utils import GLOBAL, functions"
   ]
  },
  {
   "cell_type": "code",
   "execution_count": null,
   "metadata": {},
   "outputs": [],
   "source": [
    "import pandas as pd"
   ]
  },
  {
   "cell_type": "code",
   "execution_count": null,
   "metadata": {},
   "outputs": [],
   "source": [
    "proj_df = pd.read_csv(GLOBAL.PROJECTIONS_2020, index_col=0)"
   ]
  },
  {
   "cell_type": "code",
   "execution_count": null,
   "metadata": {},
   "outputs": [],
   "source": [
    "### DO NOT RUN IF USING 2021 PROJECTIONS OR HIGHER ####\n",
    "### Section is for older projections newer ones have the scoring columns ###\n",
    "\n",
    "#Get rid of odd column if there are any[row indexer, column indexer], change 0 to 1 if there are\n",
    "proj_df = proj_df.iloc[:, 0:]\n",
    "\n",
    "#Add in Fantasy Points based on scoring type\n",
    "proj_df['FantasyPoints'] = (\n",
    "    functions.scoringCalculator(\n",
    "        proj_df['Receptions'], proj_df['ReceivingYds'], proj_df['ReceivingTD'], proj_df['FL'], proj_df['RushingYds'], proj_df['RushingTD'], proj_df['PassingYds'], proj_df['PassingTD'], proj_df['Int'], GLOBAL.PPR_SCORING\n",
    "    )\n",
    ")"
   ]
  },
  {
   "cell_type": "code",
   "execution_count": null,
   "metadata": {},
   "outputs": [],
   "source": [
    "columns = ['Player', 'Team', 'Pos', 'FantasyPoints', 'Receptions', 'ReceivingYds', 'ReceivingTD', 'RushingAtt', 'RushingYds', 'RushingTD', 'FL']\n",
    "\n",
    "#Get dataframes of specific pos\n",
    "rb_proj_df = proj_df.loc[(proj_df['Pos'] == 'RB', columns)]\n",
    "wr_proj_df = proj_df.loc[(proj_df['Pos'] == 'WR', columns)]\n",
    "te_proj_df = proj_df.loc[(proj_df['Pos'] == 'TE', columns)]\n",
    "qb_proj_df = proj_df.loc[(proj_df['Pos'] == 'QB', columns)]"
   ]
  },
  {
   "cell_type": "code",
   "execution_count": null,
   "metadata": {},
   "outputs": [],
   "source": [
    "#ADP for current year and scoring format\n",
    "adp_df = pd.read_csv(GLOBAL.ADP_2020_PPR, index_col=0)\n",
    "\n",
    "adp_df['ADP RANK'] = adp_df['AVG'].rank()\n",
    "\n",
    "adp_df_cutoff = adp_df[:100]\n",
    "\n",
    "\n",
    "replacement_players = {\n",
    "    'RB': '',\n",
    "    'WR': '',\n",
    "    'TE': '',\n",
    "    'QB': ''\n",
    "}\n",
    "\n",
    "for _, row in adp_df_cutoff.iterrows():\n",
    "    \n",
    "    position = row['POS'] # extract out the position and player value from each row as we loop through it\n",
    "    player = row['PLAYER']\n",
    "    \n",
    "    if position in replacement_players: # if the position is in the dict's keys\n",
    "        replacement_players[position] = player # set that player as the replacement player\n",
    "\n",
    "vor_df = proj_df[['Player', 'Pos', 'Team', 'FantasyPoints']]"
   ]
  },
  {
   "cell_type": "code",
   "execution_count": null,
   "metadata": {},
   "outputs": [],
   "source": [
    "replacement_values = {} # initialize an empty dictionary\n",
    "\n",
    "for position, player_name in replacement_players.items():\n",
    "    \n",
    "    player = proj_df.loc[proj_df['Player'] == player_name]\n",
    "    \n",
    "    # because this is a series object we get back, we need to use the tolist method\n",
    "    # to get back the series as a list. The list object is of length 1, and the 1 item has the value we need.\n",
    "    # we tack on a [0] to get the value we need.\n",
    "    \n",
    "    replacement_values[position] = player['FantasyPoints'].tolist()[0]"
   ]
  },
  {
   "cell_type": "code",
   "execution_count": null,
   "metadata": {},
   "outputs": [],
   "source": [
    "pd.set_option('chained_assignment', None)\n",
    "\n",
    "vor_df = vor_df.loc[vor_df['Pos'].isin(['QB', 'RB', 'WR', 'TE'])]\n",
    "\n",
    "# https://pandas.pydata.org/pandas-docs/stable/reference/api/pandas.DataFrame.apply.html\n",
    "vor_df['VOR'] = vor_df.apply(\n",
    "    lambda row: row['FantasyPoints'] - replacement_values.get(row['Pos']), axis=1\n",
    ")"
   ]
  },
  {
   "cell_type": "code",
   "execution_count": null,
   "metadata": {},
   "outputs": [],
   "source": [
    "pd.set_option('display.max_rows', None) # turn off truncation of rows setting inherent to pandas\n",
    "\n",
    "vor_df['VOR Rank'] = vor_df['VOR'].rank(ascending=False)\n",
    "vor_df.sort_values(by='VOR', ascending=False).head(100)"
   ]
  },
  {
   "cell_type": "code",
   "execution_count": null,
   "metadata": {},
   "outputs": [],
   "source": [
    "vor_df.groupby('Pos')['VOR'].describe()"
   ]
  },
  {
   "cell_type": "code",
   "execution_count": null,
   "metadata": {},
   "outputs": [],
   "source": [
    "vor_df['VOR'] = vor_df['VOR'].apply(lambda x: (x - vor_df['VOR'].min()) / (vor_df['VOR'].max() - vor_df['VOR'].min()))"
   ]
  },
  {
   "cell_type": "code",
   "execution_count": null,
   "metadata": {},
   "outputs": [],
   "source": [
    "vor_df = vor_df.sort_values(by='VOR Rank')\n",
    "vor_df.head(100)"
   ]
  },
  {
   "cell_type": "code",
   "execution_count": null,
   "metadata": {},
   "outputs": [],
   "source": [
    "import seaborn as sns # in case you did not import it above\n",
    "\n",
    "# calculating how many players are in our draft pool.\n",
    "num_teams = 12\n",
    "num_spots = 16 # 1 QB, 2RB, 2WR, 1TE, 1FLEX, 1K, 1DST, 7 BENCH\n",
    "draft_pool = num_teams * num_spots\n",
    "\n",
    "df_copy =vor_df[:draft_pool]\n",
    "\n",
    "sns.boxplot(x=df_copy['Pos'], y=df_copy['VOR']);"
   ]
  },
  {
   "cell_type": "code",
   "execution_count": null,
   "metadata": {},
   "outputs": [],
   "source": [
    "vor_df = vor_df.rename({\n",
    "    'VOR': 'Value',\n",
    "    'VOR Rank': 'Value Rank'\n",
    "}, axis=1) # axis = 1 means make the change along the column axis."
   ]
  },
  {
   "cell_type": "code",
   "execution_count": null,
   "metadata": {},
   "outputs": [],
   "source": [
    "adp_df = adp_df.rename({\n",
    "    'PLAYER': 'Player',\n",
    "    'POS': 'Pos',\n",
    "    'AVG': 'Average ADP',\n",
    "    'ADP RANK': 'ADP Rank'\n",
    "}, axis=1) # let's rename some columns first."
   ]
  },
  {
   "cell_type": "code",
   "execution_count": null,
   "metadata": {},
   "outputs": [],
   "source": [
    "final_df = vor_df.merge(adp_df, how='left', on=['Player', 'Pos'])\n",
    "\n",
    "final_df.head()"
   ]
  },
  {
   "cell_type": "code",
   "execution_count": null,
   "metadata": {},
   "outputs": [],
   "source": [
    "final_df['Diff in ADP and Value'] = final_df['ADP Rank'] - final_df['Value Rank']\n",
    "final_df.head()"
   ]
  },
  {
   "cell_type": "code",
   "execution_count": null,
   "metadata": {},
   "outputs": [],
   "source": [
    "draft_pool = final_df.sort_values(by='ADP Rank')[:196]\n",
    "\n",
    "rb_draft_pool = draft_pool.loc[draft_pool['Pos'] == 'RB']\n",
    "qb_draft_pool = draft_pool.loc[draft_pool['Pos'] == 'QB']\n",
    "wr_draft_pool = draft_pool.loc[draft_pool['Pos'] == 'WR']\n",
    "te_draft_pool = draft_pool.loc[draft_pool['Pos'] == 'TE']"
   ]
  },
  {
   "cell_type": "code",
   "execution_count": null,
   "metadata": {},
   "outputs": [],
   "source": [
    "# top 10 RB sleepers for this year's draft\n",
    "rb_draft_pool.sort_values(by='Diff in ADP and Value', ascending=False)[:10]"
   ]
  },
  {
   "cell_type": "code",
   "execution_count": null,
   "metadata": {},
   "outputs": [],
   "source": [
    "# top 10 RB overvalued for this year's draft\n",
    "rb_draft_pool.sort_values(by='Diff in ADP and Value', ascending=True)[:10]"
   ]
  },
  {
   "cell_type": "code",
   "execution_count": null,
   "metadata": {},
   "outputs": [],
   "source": [
    "# top 10 WR sleepers for this year's draft\n",
    "wr_draft_pool.sort_values(by='Diff in ADP and Value', ascending=False)[:10]"
   ]
  },
  {
   "cell_type": "code",
   "execution_count": null,
   "metadata": {},
   "outputs": [],
   "source": [
    "# top 10 WR overvalued for this year's draft\n",
    "wr_draft_pool.sort_values(by='Diff in ADP and Value', ascending=True)[:10]"
   ]
  },
  {
   "cell_type": "code",
   "execution_count": null,
   "metadata": {},
   "outputs": [],
   "source": [
    "# top 10 TE sleepers for this year's draft\n",
    "te_draft_pool.sort_values(by='Diff in ADP and Value', ascending=False)[:10]"
   ]
  },
  {
   "cell_type": "code",
   "execution_count": null,
   "metadata": {},
   "outputs": [],
   "source": [
    "# top 10 TE overvalued for this year's draft\n",
    "te_draft_pool.sort_values(by='Diff in ADP and Value', ascending=True)[:10]"
   ]
  },
  {
   "cell_type": "code",
   "execution_count": null,
   "metadata": {},
   "outputs": [],
   "source": [
    "# top 10 QB sleepers for this year's draft\n",
    "qb_draft_pool.sort_values(by='Diff in ADP and Value', ascending=False)[:10]"
   ]
  },
  {
   "cell_type": "code",
   "execution_count": null,
   "metadata": {},
   "outputs": [],
   "source": [
    "# top 10 QB overvalued for this year's draft\n",
    "qb_draft_pool.sort_values(by='Diff in ADP and Value', ascending=True)[:10]"
   ]
  }
 ],
 "metadata": {
  "interpreter": {
   "hash": "0d7f2d61979526d851052c73aa4fecb27e148009fc0cdd501146fb697de57875"
  },
  "kernelspec": {
   "display_name": "Python 3.7.10 64-bit ('FFDataProject': conda)",
   "name": "python3"
  },
  "language_info": {
   "codemirror_mode": {
    "name": "ipython",
    "version": 3
   },
   "file_extension": ".py",
   "mimetype": "text/x-python",
   "name": "python",
   "nbconvert_exporter": "python",
   "pygments_lexer": "ipython3",
   "version": "3.7.10"
  },
  "orig_nbformat": 4
 },
 "nbformat": 4,
 "nbformat_minor": 2
}
